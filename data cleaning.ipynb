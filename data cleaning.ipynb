{
 "cells": [
  {
   "cell_type": "code",
   "execution_count": 12,
   "id": "509b231d",
   "metadata": {},
   "outputs": [],
   "source": [
    "from shapely.geometry import Point, MultiLineString\n",
    "import geopandas as gpd\n",
    "import pandas as pd\n",
    "import numpy as np\n",
    "import matplotlib.pyplot as plt\n",
    "import requests\n",
    "import json\n",
    "import folium\n",
    "from folium.plugins import MarkerCluster\n",
    "from folium.plugins import FastMarkerCluster\n",
    "from geopy.geocoders import Nominatim\n",
    "%matplotlib inline "
   ]
  },
  {
   "cell_type": "markdown",
   "id": "1a793439",
   "metadata": {},
   "source": [
    "## get crashes_df from the API and clean"
   ]
  },
  {
   "cell_type": "code",
   "execution_count": null,
   "id": "e2a19949",
   "metadata": {},
   "outputs": [],
   "source": [
    "endpoint_crashes = 'https://data.cityofchicago.org/resource/85ca-t3if.geojson?$select=crash_record_id,crash_date,posted_speed_limit,traffic_control_device,device_condition,first_crash_type,trafficway_type,lane_cnt,road_defect,prim_contributory_cause,sec_contributory_cause,most_severe_injury,injuries_total,injuries_fatal,injuries_incapacitating,injuries_non_incapacitating,injuries_reported_not_evident,injuries_no_indication,injuries_unknown,crash_hour,crash_day_of_week,crash_month,street_no,street_direction,street_name,latitude,longitude,location&$limit=650000'\n",
    "res = requests.get(endpoint_crashes)\n",
    "res = res.json()"
   ]
  },
  {
   "cell_type": "code",
   "execution_count": null,
   "id": "1860e2d2",
   "metadata": {
    "scrolled": true
   },
   "outputs": [],
   "source": [
    "crashes_df = gpd.GeoDataFrame.from_features(res['features'])"
   ]
  },
  {
   "cell_type": "code",
   "execution_count": null,
   "id": "5846a67a",
   "metadata": {
    "scrolled": true
   },
   "outputs": [],
   "source": [
    "crashes_df.info()"
   ]
  },
  {
   "cell_type": "code",
   "execution_count": null,
   "id": "a02575fd",
   "metadata": {},
   "outputs": [],
   "source": [
    "type(crashes_df)"
   ]
  },
  {
   "cell_type": "code",
   "execution_count": null,
   "id": "f6ee8046",
   "metadata": {},
   "outputs": [],
   "source": [
    "#filter out crashes where there was debris on roadway\n",
    "crashes_df = crashes_df.loc[crashes_df['road_defect'] != 'DEBRIS ON ROADWAY']"
   ]
  },
  {
   "cell_type": "code",
   "execution_count": null,
   "id": "ce87c829",
   "metadata": {},
   "outputs": [],
   "source": [
    "#filter out crashes where the traffic control device was functioning improperly or not functioning\n",
    "device_not_working = ['FUNCTIONING IMPROPERLY','NOT FUNCTIONING']\n",
    "crashes_df = crashes_df.loc[~crashes_df['device_condition'].isin(device_not_working)]\n",
    "#crashes.loc[crashes['crash_record_id'].isin(crash_id_peds)]"
   ]
  },
  {
   "cell_type": "code",
   "execution_count": null,
   "id": "31c7a06d",
   "metadata": {},
   "outputs": [],
   "source": [
    "#there is one row in there with POINT of (0,0) and it throws off plotting the map later on, so get rid of it\n",
    "crashes_df = crashes_df[crashes_df['geometry'].x != 0]"
   ]
  },
  {
   "cell_type": "code",
   "execution_count": null,
   "id": "951096f6",
   "metadata": {},
   "outputs": [],
   "source": [
    "#concat full address\n",
    "crashes_df['full_address'] = crashes_df['street_no'] + ' ' + crashes_df['street_direction'] + ' ' + crashes_df['street_name'] + ' CHICAGO IL'"
   ]
  },
  {
   "cell_type": "code",
   "execution_count": null,
   "id": "9d78fabf",
   "metadata": {},
   "outputs": [],
   "source": [
    "#filter out 5 rows with null full_address\n",
    "crashes_df = crashes_df[crashes_df['full_address'].notna()]"
   ]
  },
  {
   "cell_type": "code",
   "execution_count": null,
   "id": "dc6546a4",
   "metadata": {},
   "outputs": [],
   "source": [
    "#how many null geometries are there? 3877\n",
    "len(crashes_df[crashes_df['geometry'].isna()])"
   ]
  },
  {
   "cell_type": "code",
   "execution_count": null,
   "id": "330c0ded",
   "metadata": {},
   "outputs": [],
   "source": [
    "#geopy code. this takes an address and generates long/lat\n",
    "#checking to see if it works for one single row before applying to larger set\n",
    "geolocator = Nominatim(user_agent=\"colin\")\n",
    "location = geolocator.geocode(crashes_df.loc[1,'full_address'])\n",
    "print(location.address)\n",
    "print((location.longitude, location.latitude))"
   ]
  },
  {
   "cell_type": "code",
   "execution_count": null,
   "id": "af54271d",
   "metadata": {},
   "outputs": [],
   "source": [
    "#check what data type is generated\n",
    "type(location.longitude)"
   ]
  },
  {
   "cell_type": "code",
   "execution_count": null,
   "id": "5c3d910e",
   "metadata": {},
   "outputs": [],
   "source": [
    "#could try counter, progress bar\n",
    "#this code looks at every row of crashes_df. it tries to generate long/lat using the full_address. if it can't, it prints the index. if it can, it makes it into a POINT geometry and puts it in the geometry column in the row it got the address from\n",
    "for index, row in crashes_df.iterrows():\n",
    "    if row.geometry is None:\n",
    "        try:\n",
    "            geolocator = Nominatim(user_agent=\"colin\")\n",
    "            location = geolocator.geocode(row['full_address'])\n",
    "            crashes_df.at[index, 'geometry'] = Point((location.longitude, location.latitude))\n",
    "        except: \n",
    "            print(index)"
   ]
  },
  {
   "cell_type": "code",
   "execution_count": null,
   "id": "1398a4b5",
   "metadata": {
    "scrolled": true
   },
   "outputs": [],
   "source": [
    "#how many null geometries are there now that we populated missing ones from the address?\n",
    "#there are still 2097. that must be how many weird addresses there are that it can't generate a lat/long for.\n",
    "#addresses like '1 w parking lot a' \n",
    "crashes_df[crashes_df['geometry'].isna()]"
   ]
  },
  {
   "cell_type": "code",
   "execution_count": null,
   "id": "f8658ae1",
   "metadata": {},
   "outputs": [],
   "source": [
    "#remove null geometries that we could not generate a POINT for from the address\n",
    "crashes_df = crashes_df[crashes_df['geometry'].notna()]"
   ]
  },
  {
   "cell_type": "code",
   "execution_count": null,
   "id": "192f87b0",
   "metadata": {},
   "outputs": [],
   "source": [
    "crashes_df.info()"
   ]
  },
  {
   "cell_type": "code",
   "execution_count": null,
   "id": "9b141e2f",
   "metadata": {},
   "outputs": [],
   "source": [
    "#convert injury counts from strings to integers\n",
    "crashes_df['injuries_fatal'] = pd.to_numeric(crashes_df['injuries_fatal'])\n",
    "crashes_df['injuries_non_incapacitating'] = pd.to_numeric(crashes_df['injuries_non_incapacitating'])\n",
    "crashes_df['injuries_no_indication'] = pd.to_numeric(crashes_df['injuries_no_indication'])\n",
    "crashes_df['injuries_incapacitating'] = pd.to_numeric(crashes_df['injuries_incapacitating'])\n",
    "crashes_df['injuries_unknown'] = pd.to_numeric(crashes_df['injuries_unknown'])\n",
    "crashes_df['injuries_total'] = pd.to_numeric(crashes_df['injuries_total'])\n",
    "crashes_df['injuries_reported_not_evident'] = pd.to_numeric(crashes_df['injuries_reported_not_evident'])"
   ]
  },
  {
   "cell_type": "code",
   "execution_count": null,
   "id": "8823a32d",
   "metadata": {},
   "outputs": [],
   "source": [
    "#combine \"injuries reported not evident\" and \"injuries no indication\" into category called \"injuries not significant\"\n",
    "crashes_df['injuries_not_significant'] = crashes_df['injuries_reported_not_evident'] + crashes_df['injuries_no_indication']"
   ]
  },
  {
   "cell_type": "code",
   "execution_count": null,
   "id": "0118ca08",
   "metadata": {},
   "outputs": [],
   "source": [
    "#check that 2nd and 3rd add up to 1st\n",
    "crashes_df[['injuries_not_significant', 'injuries_reported_not_evident', 'injuries_no_indication']]"
   ]
  },
  {
   "cell_type": "code",
   "execution_count": null,
   "id": "777ce345",
   "metadata": {},
   "outputs": [],
   "source": [
    "crashes_df = crashes_df.reset_index(drop=True)"
   ]
  },
  {
   "cell_type": "code",
   "execution_count": null,
   "id": "597b4a2d",
   "metadata": {},
   "outputs": [],
   "source": [
    "#save crashes_df as geojson\n",
    "crashes_df.to_file(\"data/crashes_cleaned.geojson\", driver='GeoJSON')"
   ]
  },
  {
   "cell_type": "markdown",
   "id": "7fd886a3",
   "metadata": {},
   "source": [
    "## get pedestrians from the people API, clean, export to CSV"
   ]
  },
  {
   "cell_type": "code",
   "execution_count": null,
   "id": "e9538e87",
   "metadata": {},
   "outputs": [],
   "source": [
    "endpoint_people = 'https://data.cityofchicago.org/resource/u6pd-qa9d.json?person_type=PEDESTRIAN&$limit=16000'\n",
    "res = requests.get(endpoint_people)\n",
    "res = res.json()\n",
    "peds_df = pd.DataFrame(res)"
   ]
  },
  {
   "cell_type": "code",
   "execution_count": null,
   "id": "2f051951",
   "metadata": {},
   "outputs": [],
   "source": [
    "peds_df['injury_classification'].value_counts()"
   ]
  },
  {
   "cell_type": "code",
   "execution_count": null,
   "id": "e8eef930",
   "metadata": {
    "scrolled": true
   },
   "outputs": [],
   "source": [
    "#remove peds who were impaired by drugs or alcohol or both\n",
    "#DON'T filter in ['NORMAL','UNKNOWN','REMOVED BY EMS','OTHER','EMOTIONAL'] b/c you lose 1000 NaNs \n",
    "#instead, filter OUT with impaired_list and ~\n",
    "\n",
    "impaired_list = ['IMPAIRED - ALCOHOL',\n",
    "'HAD BEEN DRINKING',\n",
    "'IMPAIRED - DRUGS',\n",
    "'IMPAIRED - ALCOHOL AND DRUGS',\n",
    "'FATIGUED/ASLEEP',\n",
    "'ILLNESS/FAINTED',\n",
    "'MEDICATED']\n",
    "peds_df = peds_df.loc[~peds_df['physical_condition'].isin(impaired_list)]"
   ]
  },
  {
   "cell_type": "code",
   "execution_count": null,
   "id": "b6de0d20",
   "metadata": {},
   "outputs": [],
   "source": [
    "#remove pedpedal_action \"INTOXICATED\"\n",
    "peds_df = peds_df.loc[peds_df['pedpedal_action'] != 'INTOXICATED PED/PEDAL']"
   ]
  },
  {
   "cell_type": "code",
   "execution_count": null,
   "id": "b64338ca",
   "metadata": {},
   "outputs": [],
   "source": [
    "peds_df = peds_df.reset_index(drop=True)"
   ]
  },
  {
   "cell_type": "code",
   "execution_count": null,
   "id": "8d977d36",
   "metadata": {},
   "outputs": [],
   "source": [
    "#create new value called \"NO SIGNIFICANT INJURY\" in the injury_classification column by combining \"REPORTED, NOT EVIDENT\" and \"NO INDICATION OF INJURY\"\n",
    "#this makes more semantic sense for our purposes (the 2 original categories probably exist for police/legal purposes)\n",
    "for index, row in peds_df.iterrows():\n",
    "    if row.injury_classification == \"REPORTED, NOT EVIDENT\":\n",
    "        peds_df.loc[index, 'injury_classification'] = 'NO SIGNIFICANT INJURY'\n",
    "    elif row.injury_classification == \"NO INDICATION OF INJURY\":\n",
    "        peds_df.loc[index, 'injury_classification'] = 'NO SIGNIFICANT INJURY'"
   ]
  },
  {
   "cell_type": "code",
   "execution_count": null,
   "id": "ead5d559",
   "metadata": {},
   "outputs": [],
   "source": [
    "#make sure it worked\n",
    "peds_df['injury_classification'].value_counts()"
   ]
  },
  {
   "cell_type": "code",
   "execution_count": null,
   "id": "e840542a",
   "metadata": {},
   "outputs": [],
   "source": [
    "peds_df.to_csv('data/peds_cleaned_df.csv')"
   ]
  },
  {
   "cell_type": "markdown",
   "id": "c2e37b1c",
   "metadata": {},
   "source": [
    "## get cyclists from the people API, clean, export to CSV"
   ]
  },
  {
   "cell_type": "code",
   "execution_count": null,
   "id": "d5f54a76",
   "metadata": {},
   "outputs": [],
   "source": [
    "endpoint_people = 'https://data.cityofchicago.org/resource/u6pd-qa9d.json?person_type=BICYCLE&$limit=16000'\n",
    "res = requests.get(endpoint_people)\n",
    "res = res.json()\n",
    "cyclists_df = pd.DataFrame(res)"
   ]
  },
  {
   "cell_type": "code",
   "execution_count": null,
   "id": "7e43e5f8",
   "metadata": {},
   "outputs": [],
   "source": [
    "cyclists_df.info()"
   ]
  },
  {
   "cell_type": "code",
   "execution_count": null,
   "id": "d829e8c3",
   "metadata": {},
   "outputs": [],
   "source": [
    "#remove cyclists who were impaired by drugs or alcohol or both\n",
    "#DON'T filter in ['NORMAL','UNKNOWN','REMOVED BY EMS','OTHER','EMOTIONAL'] b/c you lose NaNs \n",
    "#instead, filter OUT with impaired_list and ~\n",
    "\n",
    "impaired_list = ['IMPAIRED - ALCOHOL',\n",
    "'HAD BEEN DRINKING',\n",
    "'IMPAIRED - DRUGS',\n",
    "'IMPAIRED - ALCOHOL AND DRUGS',\n",
    "'FATIGUED/ASLEEP',\n",
    "'ILLNESS/FAINTED',\n",
    "'MEDICATED']\n",
    "cyclists_df = cyclists_df.loc[~cyclists_df['physical_condition'].isin(impaired_list)]"
   ]
  },
  {
   "cell_type": "code",
   "execution_count": null,
   "id": "35dc695e",
   "metadata": {},
   "outputs": [],
   "source": [
    "#remove pedpedal_action \"INTOXICATED\"\n",
    "cyclists_df = cyclists_df.loc[cyclists_df['pedpedal_action'] != 'INTOXICATED PED/PEDAL']"
   ]
  },
  {
   "cell_type": "code",
   "execution_count": null,
   "id": "bf4a4ff5",
   "metadata": {},
   "outputs": [],
   "source": [
    "cyclists_df = cyclists_df.reset_index(drop=True)"
   ]
  },
  {
   "cell_type": "code",
   "execution_count": null,
   "id": "cecbff95",
   "metadata": {},
   "outputs": [],
   "source": [
    "for index, row in cyclists_df.iterrows():\n",
    "    if row.injury_classification == \"REPORTED, NOT EVIDENT\":\n",
    "        cyclists_df.loc[index, 'injury_classification'] = 'NO SIGNIFICANT INJURY'\n",
    "    elif row.injury_classification == \"NO INDICATION OF INJURY\":\n",
    "        cyclists_df.loc[index, 'injury_classification'] = 'NO SIGNIFICANT INJURY'"
   ]
  },
  {
   "cell_type": "code",
   "execution_count": null,
   "id": "aeb55fb6",
   "metadata": {},
   "outputs": [],
   "source": [
    "cyclists_df['injury_classification'].value_counts()"
   ]
  },
  {
   "cell_type": "code",
   "execution_count": null,
   "id": "b3ad2caa",
   "metadata": {},
   "outputs": [],
   "source": [
    "cyclists_df.to_csv('data/cyclists_cleaned_df.csv')"
   ]
  },
  {
   "cell_type": "markdown",
   "id": "588377b6",
   "metadata": {},
   "source": [
    "# crash_date cleaning"
   ]
  },
  {
   "cell_type": "code",
   "execution_count": null,
   "id": "b3db8460",
   "metadata": {},
   "outputs": [],
   "source": [
    "#cleaning crash_date\n",
    "test_time = crashes_df.loc[15,'crash_date']\n",
    "type(test_time)\n",
    "#it's a string so convert to datetime"
   ]
  },
  {
   "cell_type": "code",
   "execution_count": null,
   "id": "5ea715bb",
   "metadata": {},
   "outputs": [],
   "source": [
    "#try it on one single value\n",
    "timestamp=pd.to_datetime(test_time, format = '%Y/%m/%d %H:%M:%S')"
   ]
  },
  {
   "cell_type": "code",
   "execution_count": null,
   "id": "fa9524db",
   "metadata": {},
   "outputs": [],
   "source": [
    "#gives us a Timestamp\n",
    "type(timestamp)\n",
    "timestamp"
   ]
  },
  {
   "cell_type": "code",
   "execution_count": null,
   "id": "d6c16f1a",
   "metadata": {},
   "outputs": [],
   "source": [
    "#can use Timestamp methods on it\n",
    "#Timestamp is pandas equivalent of Python datetime \n",
    "#https://pandas.pydata.org/docs/reference/api/pandas.Timestamp.html\n",
    "timestamp.month_name()"
   ]
  },
  {
   "cell_type": "markdown",
   "id": "0942eb77",
   "metadata": {},
   "source": [
    "### making this a Timestamp screwed up my folium map. folium map wants a string\n",
    "### having as Timestamp throws TypeError: Object of type Timestamp is not JSON serializable\n",
    "#convert crash_date of whole df\n",
    "#crashes_df['crash_date'] = pd.to_datetime(crashes_df['crash_date'], format = '%Y/%m/%d %H:%M:%S')"
   ]
  },
  {
   "cell_type": "code",
   "execution_count": null,
   "id": "b023606e",
   "metadata": {},
   "outputs": [],
   "source": [
    "#crash day of week, crash hour and crash month look fine as far as their range\n",
    "crashes_df['crash_day_of_week'].value_counts()"
   ]
  },
  {
   "cell_type": "code",
   "execution_count": null,
   "id": "a47f62b8",
   "metadata": {},
   "outputs": [],
   "source": [
    "#injury columns to integers\n",
    "#leave posted_speed_limit, lane_cnt as objects, they are more like categories than numerical measures\n",
    "#leave crash_month, crash_day_of_week and crash_hour as objects for now, not sure what to make them"
   ]
  },
  {
   "cell_type": "code",
   "execution_count": null,
   "id": "201f2ba8",
   "metadata": {},
   "outputs": [],
   "source": [
    "crashes_df.dtypes"
   ]
  },
  {
   "cell_type": "markdown",
   "id": "c9f54b57",
   "metadata": {},
   "source": [
    "# try to get lane count from street center lines"
   ]
  },
  {
   "cell_type": "code",
   "execution_count": 16,
   "id": "cec6344e",
   "metadata": {
    "scrolled": true
   },
   "outputs": [
    {
     "data": {
      "text/html": [
       "<div>\n",
       "<style scoped>\n",
       "    .dataframe tbody tr th:only-of-type {\n",
       "        vertical-align: middle;\n",
       "    }\n",
       "\n",
       "    .dataframe tbody tr th {\n",
       "        vertical-align: top;\n",
       "    }\n",
       "\n",
       "    .dataframe thead th {\n",
       "        text-align: right;\n",
       "    }\n",
       "</style>\n",
       "<table border=\"1\" class=\"dataframe\">\n",
       "  <thead>\n",
       "    <tr style=\"text-align: right;\">\n",
       "      <th></th>\n",
       "      <th>injuries_fatal</th>\n",
       "      <th>injuries_non_incapacitating</th>\n",
       "      <th>crash_record_id</th>\n",
       "      <th>injuries_incapacitating</th>\n",
       "      <th>injuries_no_indication</th>\n",
       "      <th>latitude</th>\n",
       "      <th>street_no</th>\n",
       "      <th>injuries_unknown</th>\n",
       "      <th>device_condition</th>\n",
       "      <th>crash_date</th>\n",
       "      <th>...</th>\n",
       "      <th>prim_contributory_cause</th>\n",
       "      <th>sec_contributory_cause</th>\n",
       "      <th>street_direction</th>\n",
       "      <th>posted_speed_limit</th>\n",
       "      <th>injuries_total</th>\n",
       "      <th>lane_cnt</th>\n",
       "      <th>full_address</th>\n",
       "      <th>no_significant_injury</th>\n",
       "      <th>injuries_not_significant</th>\n",
       "      <th>geometry</th>\n",
       "    </tr>\n",
       "  </thead>\n",
       "  <tbody>\n",
       "    <tr>\n",
       "      <th>0</th>\n",
       "      <td>NaN</td>\n",
       "      <td>NaN</td>\n",
       "      <td>0edc78f89df5b72ddaa1c1f567e229ad39c0e098953a9d...</td>\n",
       "      <td>NaN</td>\n",
       "      <td>NaN</td>\n",
       "      <td>41.873520168</td>\n",
       "      <td>3357</td>\n",
       "      <td>NaN</td>\n",
       "      <td>NO CONTROLS</td>\n",
       "      <td>2022-08-09T01:40:00</td>\n",
       "      <td>...</td>\n",
       "      <td>FAILING TO REDUCE SPEED TO AVOID CRASH</td>\n",
       "      <td>NOT APPLICABLE</td>\n",
       "      <td>W</td>\n",
       "      <td>30</td>\n",
       "      <td>NaN</td>\n",
       "      <td>None</td>\n",
       "      <td>3357 W HARRISON ST CHICAGO IL</td>\n",
       "      <td>NaN</td>\n",
       "      <td>NaN</td>\n",
       "      <td>POINT (-87.71064 41.87352)</td>\n",
       "    </tr>\n",
       "    <tr>\n",
       "      <th>1</th>\n",
       "      <td>0.0</td>\n",
       "      <td>0.0</td>\n",
       "      <td>49ff3f04d16f5a71e6d66436c94f6acfd939c20d6c3651...</td>\n",
       "      <td>0.0</td>\n",
       "      <td>2.0</td>\n",
       "      <td>41.831835811</td>\n",
       "      <td>3410</td>\n",
       "      <td>0.0</td>\n",
       "      <td>FUNCTIONING PROPERLY</td>\n",
       "      <td>2022-08-09T00:45:00</td>\n",
       "      <td>...</td>\n",
       "      <td>FOLLOWING TOO CLOSELY</td>\n",
       "      <td>NOT APPLICABLE</td>\n",
       "      <td>S</td>\n",
       "      <td>30</td>\n",
       "      <td>0.0</td>\n",
       "      <td>None</td>\n",
       "      <td>3410 S DAMEN AVE CHICAGO IL</td>\n",
       "      <td>2.0</td>\n",
       "      <td>2.0</td>\n",
       "      <td>POINT (-87.67546 41.83184)</td>\n",
       "    </tr>\n",
       "    <tr>\n",
       "      <th>2</th>\n",
       "      <td>NaN</td>\n",
       "      <td>NaN</td>\n",
       "      <td>e580e89f187525bf685101a36fc64df499a72be926d5a9...</td>\n",
       "      <td>NaN</td>\n",
       "      <td>NaN</td>\n",
       "      <td>41.838371536</td>\n",
       "      <td>130</td>\n",
       "      <td>NaN</td>\n",
       "      <td>FUNCTIONING PROPERLY</td>\n",
       "      <td>2022-08-08T23:55:00</td>\n",
       "      <td>...</td>\n",
       "      <td>FAILING TO YIELD RIGHT-OF-WAY</td>\n",
       "      <td>NOT APPLICABLE</td>\n",
       "      <td>W</td>\n",
       "      <td>35</td>\n",
       "      <td>NaN</td>\n",
       "      <td>None</td>\n",
       "      <td>130 W 31ST ST CHICAGO IL</td>\n",
       "      <td>NaN</td>\n",
       "      <td>NaN</td>\n",
       "      <td>POINT (-87.63002 41.83837)</td>\n",
       "    </tr>\n",
       "    <tr>\n",
       "      <th>3</th>\n",
       "      <td>0.0</td>\n",
       "      <td>0.0</td>\n",
       "      <td>cdd7c5d90668e4d1bda12805ad19cec305667643a88806...</td>\n",
       "      <td>0.0</td>\n",
       "      <td>1.0</td>\n",
       "      <td>41.861481407</td>\n",
       "      <td>2747</td>\n",
       "      <td>0.0</td>\n",
       "      <td>NO CONTROLS</td>\n",
       "      <td>2022-08-08T23:00:00</td>\n",
       "      <td>...</td>\n",
       "      <td>UNABLE TO DETERMINE</td>\n",
       "      <td>UNABLE TO DETERMINE</td>\n",
       "      <td>W</td>\n",
       "      <td>30</td>\n",
       "      <td>0.0</td>\n",
       "      <td>None</td>\n",
       "      <td>2747 W OGDEN AVE CHICAGO IL</td>\n",
       "      <td>1.0</td>\n",
       "      <td>1.0</td>\n",
       "      <td>POINT (-87.69494 41.86148)</td>\n",
       "    </tr>\n",
       "    <tr>\n",
       "      <th>4</th>\n",
       "      <td>0.0</td>\n",
       "      <td>0.0</td>\n",
       "      <td>e7c26ad2dd7f250b14acafe2d86265616f59f7c642a505...</td>\n",
       "      <td>0.0</td>\n",
       "      <td>2.0</td>\n",
       "      <td>41.837964154</td>\n",
       "      <td>3100</td>\n",
       "      <td>0.0</td>\n",
       "      <td>FUNCTIONING PROPERLY</td>\n",
       "      <td>2022-08-08T23:00:00</td>\n",
       "      <td>...</td>\n",
       "      <td>DISREGARDING TRAFFIC SIGNALS</td>\n",
       "      <td>DISREGARDING TRAFFIC SIGNALS</td>\n",
       "      <td>S</td>\n",
       "      <td>35</td>\n",
       "      <td>0.0</td>\n",
       "      <td>None</td>\n",
       "      <td>3100 S HALSTED ST CHICAGO IL</td>\n",
       "      <td>2.0</td>\n",
       "      <td>2.0</td>\n",
       "      <td>POINT (-87.64642 41.83796)</td>\n",
       "    </tr>\n",
       "    <tr>\n",
       "      <th>...</th>\n",
       "      <td>...</td>\n",
       "      <td>...</td>\n",
       "      <td>...</td>\n",
       "      <td>...</td>\n",
       "      <td>...</td>\n",
       "      <td>...</td>\n",
       "      <td>...</td>\n",
       "      <td>...</td>\n",
       "      <td>...</td>\n",
       "      <td>...</td>\n",
       "      <td>...</td>\n",
       "      <td>...</td>\n",
       "      <td>...</td>\n",
       "      <td>...</td>\n",
       "      <td>...</td>\n",
       "      <td>...</td>\n",
       "      <td>...</td>\n",
       "      <td>...</td>\n",
       "      <td>...</td>\n",
       "      <td>...</td>\n",
       "      <td>...</td>\n",
       "    </tr>\n",
       "    <tr>\n",
       "      <th>631400</th>\n",
       "      <td>0.0</td>\n",
       "      <td>0.0</td>\n",
       "      <td>964aaaeb569e364886cfbdf89ca73e09ca15cd916d87b2...</td>\n",
       "      <td>0.0</td>\n",
       "      <td>2.0</td>\n",
       "      <td>41.835886103</td>\n",
       "      <td>3132</td>\n",
       "      <td>0.0</td>\n",
       "      <td>NO CONTROLS</td>\n",
       "      <td>2014-06-25T19:00:00</td>\n",
       "      <td>...</td>\n",
       "      <td>IMPROPER OVERTAKING/PASSING</td>\n",
       "      <td>NOT APPLICABLE</td>\n",
       "      <td>S</td>\n",
       "      <td>30</td>\n",
       "      <td>0.0</td>\n",
       "      <td>None</td>\n",
       "      <td>3132 S PULASKI RD CHICAGO IL</td>\n",
       "      <td>2.0</td>\n",
       "      <td>2.0</td>\n",
       "      <td>POINT (-87.72447 41.83589)</td>\n",
       "    </tr>\n",
       "    <tr>\n",
       "      <th>631401</th>\n",
       "      <td>0.0</td>\n",
       "      <td>0.0</td>\n",
       "      <td>1d0232afecbdfd01968555aa956a688fd6f55a2bd1984f...</td>\n",
       "      <td>0.0</td>\n",
       "      <td>2.0</td>\n",
       "      <td>41.884016475</td>\n",
       "      <td>199</td>\n",
       "      <td>0.0</td>\n",
       "      <td>FUNCTIONING PROPERLY</td>\n",
       "      <td>2014-02-24T19:45:00</td>\n",
       "      <td>...</td>\n",
       "      <td>UNABLE TO DETERMINE</td>\n",
       "      <td>UNABLE TO DETERMINE</td>\n",
       "      <td>N</td>\n",
       "      <td>30</td>\n",
       "      <td>0.0</td>\n",
       "      <td>None</td>\n",
       "      <td>199 N SACRAMENTO BLVD CHICAGO IL</td>\n",
       "      <td>2.0</td>\n",
       "      <td>2.0</td>\n",
       "      <td>POINT (-87.70114 41.88402)</td>\n",
       "    </tr>\n",
       "    <tr>\n",
       "      <th>631402</th>\n",
       "      <td>0.0</td>\n",
       "      <td>1.0</td>\n",
       "      <td>957783a4787318f005a7dbc920e4c84cb9ac8aa7329a62...</td>\n",
       "      <td>0.0</td>\n",
       "      <td>1.0</td>\n",
       "      <td>41.760710194</td>\n",
       "      <td>7400</td>\n",
       "      <td>0.0</td>\n",
       "      <td>NO CONTROLS</td>\n",
       "      <td>2014-01-21T07:40:00</td>\n",
       "      <td>...</td>\n",
       "      <td>FAILING TO YIELD RIGHT-OF-WAY</td>\n",
       "      <td>NOT APPLICABLE</td>\n",
       "      <td>S</td>\n",
       "      <td>30</td>\n",
       "      <td>1.0</td>\n",
       "      <td>None</td>\n",
       "      <td>7400 S EXCHANGE AVE CHICAGO IL</td>\n",
       "      <td>1.0</td>\n",
       "      <td>1.0</td>\n",
       "      <td>POINT (-87.56195 41.76071)</td>\n",
       "    </tr>\n",
       "    <tr>\n",
       "      <th>631403</th>\n",
       "      <td>0.0</td>\n",
       "      <td>0.0</td>\n",
       "      <td>f62e27317feb174811cf4fefeb9fa1064fea6c0619a873...</td>\n",
       "      <td>0.0</td>\n",
       "      <td>2.0</td>\n",
       "      <td>41.885609917</td>\n",
       "      <td>415</td>\n",
       "      <td>0.0</td>\n",
       "      <td>NO CONTROLS</td>\n",
       "      <td>2014-01-18T18:14:00</td>\n",
       "      <td>...</td>\n",
       "      <td>UNABLE TO DETERMINE</td>\n",
       "      <td>UNABLE TO DETERMINE</td>\n",
       "      <td>W</td>\n",
       "      <td>30</td>\n",
       "      <td>0.0</td>\n",
       "      <td>None</td>\n",
       "      <td>415 W LAKE ST CHICAGO IL</td>\n",
       "      <td>2.0</td>\n",
       "      <td>2.0</td>\n",
       "      <td>POINT (-87.63876 41.88561)</td>\n",
       "    </tr>\n",
       "    <tr>\n",
       "      <th>631404</th>\n",
       "      <td>0.0</td>\n",
       "      <td>0.0</td>\n",
       "      <td>a802658be15312809c771559e4f81088cfb226830792a5...</td>\n",
       "      <td>0.0</td>\n",
       "      <td>1.0</td>\n",
       "      <td>41.975856916</td>\n",
       "      <td>3200</td>\n",
       "      <td>0.0</td>\n",
       "      <td>FUNCTIONING PROPERLY</td>\n",
       "      <td>2013-03-03T16:48:00</td>\n",
       "      <td>...</td>\n",
       "      <td>IMPROPER LANE USAGE</td>\n",
       "      <td>DISREGARDING ROAD MARKINGS</td>\n",
       "      <td>W</td>\n",
       "      <td>30</td>\n",
       "      <td>2.0</td>\n",
       "      <td>2</td>\n",
       "      <td>3200 W FOSTER AVE CHICAGO IL</td>\n",
       "      <td>3.0</td>\n",
       "      <td>3.0</td>\n",
       "      <td>POINT (-87.70874 41.97586)</td>\n",
       "    </tr>\n",
       "  </tbody>\n",
       "</table>\n",
       "<p>631405 rows × 31 columns</p>\n",
       "</div>"
      ],
      "text/plain": [
       "        injuries_fatal  injuries_non_incapacitating  \\\n",
       "0                  NaN                          NaN   \n",
       "1                  0.0                          0.0   \n",
       "2                  NaN                          NaN   \n",
       "3                  0.0                          0.0   \n",
       "4                  0.0                          0.0   \n",
       "...                ...                          ...   \n",
       "631400             0.0                          0.0   \n",
       "631401             0.0                          0.0   \n",
       "631402             0.0                          1.0   \n",
       "631403             0.0                          0.0   \n",
       "631404             0.0                          0.0   \n",
       "\n",
       "                                          crash_record_id  \\\n",
       "0       0edc78f89df5b72ddaa1c1f567e229ad39c0e098953a9d...   \n",
       "1       49ff3f04d16f5a71e6d66436c94f6acfd939c20d6c3651...   \n",
       "2       e580e89f187525bf685101a36fc64df499a72be926d5a9...   \n",
       "3       cdd7c5d90668e4d1bda12805ad19cec305667643a88806...   \n",
       "4       e7c26ad2dd7f250b14acafe2d86265616f59f7c642a505...   \n",
       "...                                                   ...   \n",
       "631400  964aaaeb569e364886cfbdf89ca73e09ca15cd916d87b2...   \n",
       "631401  1d0232afecbdfd01968555aa956a688fd6f55a2bd1984f...   \n",
       "631402  957783a4787318f005a7dbc920e4c84cb9ac8aa7329a62...   \n",
       "631403  f62e27317feb174811cf4fefeb9fa1064fea6c0619a873...   \n",
       "631404  a802658be15312809c771559e4f81088cfb226830792a5...   \n",
       "\n",
       "        injuries_incapacitating  injuries_no_indication      latitude  \\\n",
       "0                           NaN                     NaN  41.873520168   \n",
       "1                           0.0                     2.0  41.831835811   \n",
       "2                           NaN                     NaN  41.838371536   \n",
       "3                           0.0                     1.0  41.861481407   \n",
       "4                           0.0                     2.0  41.837964154   \n",
       "...                         ...                     ...           ...   \n",
       "631400                      0.0                     2.0  41.835886103   \n",
       "631401                      0.0                     2.0  41.884016475   \n",
       "631402                      0.0                     1.0  41.760710194   \n",
       "631403                      0.0                     2.0  41.885609917   \n",
       "631404                      0.0                     1.0  41.975856916   \n",
       "\n",
       "       street_no  injuries_unknown      device_condition           crash_date  \\\n",
       "0           3357               NaN           NO CONTROLS  2022-08-09T01:40:00   \n",
       "1           3410               0.0  FUNCTIONING PROPERLY  2022-08-09T00:45:00   \n",
       "2            130               NaN  FUNCTIONING PROPERLY  2022-08-08T23:55:00   \n",
       "3           2747               0.0           NO CONTROLS  2022-08-08T23:00:00   \n",
       "4           3100               0.0  FUNCTIONING PROPERLY  2022-08-08T23:00:00   \n",
       "...          ...               ...                   ...                  ...   \n",
       "631400      3132               0.0           NO CONTROLS  2014-06-25T19:00:00   \n",
       "631401       199               0.0  FUNCTIONING PROPERLY  2014-02-24T19:45:00   \n",
       "631402      7400               0.0           NO CONTROLS  2014-01-21T07:40:00   \n",
       "631403       415               0.0           NO CONTROLS  2014-01-18T18:14:00   \n",
       "631404      3200               0.0  FUNCTIONING PROPERLY  2013-03-03T16:48:00   \n",
       "\n",
       "        ...                 prim_contributory_cause  \\\n",
       "0       ...  FAILING TO REDUCE SPEED TO AVOID CRASH   \n",
       "1       ...                   FOLLOWING TOO CLOSELY   \n",
       "2       ...           FAILING TO YIELD RIGHT-OF-WAY   \n",
       "3       ...                     UNABLE TO DETERMINE   \n",
       "4       ...            DISREGARDING TRAFFIC SIGNALS   \n",
       "...     ...                                     ...   \n",
       "631400  ...             IMPROPER OVERTAKING/PASSING   \n",
       "631401  ...                     UNABLE TO DETERMINE   \n",
       "631402  ...           FAILING TO YIELD RIGHT-OF-WAY   \n",
       "631403  ...                     UNABLE TO DETERMINE   \n",
       "631404  ...                     IMPROPER LANE USAGE   \n",
       "\n",
       "              sec_contributory_cause street_direction posted_speed_limit  \\\n",
       "0                     NOT APPLICABLE                W                 30   \n",
       "1                     NOT APPLICABLE                S                 30   \n",
       "2                     NOT APPLICABLE                W                 35   \n",
       "3                UNABLE TO DETERMINE                W                 30   \n",
       "4       DISREGARDING TRAFFIC SIGNALS                S                 35   \n",
       "...                              ...              ...                ...   \n",
       "631400                NOT APPLICABLE                S                 30   \n",
       "631401           UNABLE TO DETERMINE                N                 30   \n",
       "631402                NOT APPLICABLE                S                 30   \n",
       "631403           UNABLE TO DETERMINE                W                 30   \n",
       "631404    DISREGARDING ROAD MARKINGS                W                 30   \n",
       "\n",
       "       injuries_total lane_cnt                      full_address  \\\n",
       "0                 NaN     None     3357 W HARRISON ST CHICAGO IL   \n",
       "1                 0.0     None       3410 S DAMEN AVE CHICAGO IL   \n",
       "2                 NaN     None          130 W 31ST ST CHICAGO IL   \n",
       "3                 0.0     None       2747 W OGDEN AVE CHICAGO IL   \n",
       "4                 0.0     None      3100 S HALSTED ST CHICAGO IL   \n",
       "...               ...      ...                               ...   \n",
       "631400            0.0     None      3132 S PULASKI RD CHICAGO IL   \n",
       "631401            0.0     None  199 N SACRAMENTO BLVD CHICAGO IL   \n",
       "631402            1.0     None    7400 S EXCHANGE AVE CHICAGO IL   \n",
       "631403            0.0     None          415 W LAKE ST CHICAGO IL   \n",
       "631404            2.0        2      3200 W FOSTER AVE CHICAGO IL   \n",
       "\n",
       "       no_significant_injury injuries_not_significant  \\\n",
       "0                        NaN                      NaN   \n",
       "1                        2.0                      2.0   \n",
       "2                        NaN                      NaN   \n",
       "3                        1.0                      1.0   \n",
       "4                        2.0                      2.0   \n",
       "...                      ...                      ...   \n",
       "631400                   2.0                      2.0   \n",
       "631401                   2.0                      2.0   \n",
       "631402                   1.0                      1.0   \n",
       "631403                   2.0                      2.0   \n",
       "631404                   3.0                      3.0   \n",
       "\n",
       "                          geometry  \n",
       "0       POINT (-87.71064 41.87352)  \n",
       "1       POINT (-87.67546 41.83184)  \n",
       "2       POINT (-87.63002 41.83837)  \n",
       "3       POINT (-87.69494 41.86148)  \n",
       "4       POINT (-87.64642 41.83796)  \n",
       "...                            ...  \n",
       "631400  POINT (-87.72447 41.83589)  \n",
       "631401  POINT (-87.70114 41.88402)  \n",
       "631402  POINT (-87.56195 41.76071)  \n",
       "631403  POINT (-87.63876 41.88561)  \n",
       "631404  POINT (-87.70874 41.97586)  \n",
       "\n",
       "[631405 rows x 31 columns]"
      ]
     },
     "execution_count": 16,
     "metadata": {},
     "output_type": "execute_result"
    }
   ],
   "source": [
    "crashes_df = gpd.read_file('data/crashes_cleaned.geojson')\n",
    "crashes_df.set_crs(crs='EPSG:4326', inplace=True)"
   ]
  },
  {
   "cell_type": "code",
   "execution_count": 17,
   "id": "91f48bfd",
   "metadata": {},
   "outputs": [
    {
     "data": {
      "text/plain": [
       "<Geographic 2D CRS: EPSG:4326>\n",
       "Name: WGS 84\n",
       "Axis Info [ellipsoidal]:\n",
       "- Lat[north]: Geodetic latitude (degree)\n",
       "- Lon[east]: Geodetic longitude (degree)\n",
       "Area of Use:\n",
       "- name: World\n",
       "- bounds: (-180.0, -90.0, 180.0, 90.0)\n",
       "Datum: World Geodetic System 1984\n",
       "- Ellipsoid: WGS 84\n",
       "- Prime Meridian: Greenwich"
      ]
     },
     "execution_count": 17,
     "metadata": {},
     "output_type": "execute_result"
    }
   ],
   "source": [
    "crashes_df.crs"
   ]
  },
  {
   "cell_type": "code",
   "execution_count": null,
   "id": "d4886e89",
   "metadata": {},
   "outputs": [],
   "source": [
    "crashes_df['geometry']"
   ]
  },
  {
   "cell_type": "markdown",
   "id": "257b1c0f",
   "metadata": {},
   "source": [
    "## load street center lines from geojson"
   ]
  },
  {
   "cell_type": "code",
   "execution_count": 59,
   "id": "df4fc54f",
   "metadata": {},
   "outputs": [
    {
     "ename": "NotImplementedError",
     "evalue": "Multi-part geometries do not themselves provide the array interface",
     "output_type": "error",
     "traceback": [
      "\u001b[0;31m---------------------------------------------------------------------------\u001b[0m",
      "\u001b[0;31mNotImplementedError\u001b[0m                       Traceback (most recent call last)",
      "Input \u001b[0;32mIn [59]\u001b[0m, in \u001b[0;36m<cell line: 1>\u001b[0;34m()\u001b[0m\n\u001b[0;32m----> 1\u001b[0m street_center_lines_geo \u001b[38;5;241m=\u001b[39m \u001b[43mgpd\u001b[49m\u001b[38;5;241;43m.\u001b[39;49m\u001b[43mread_file\u001b[49m\u001b[43m(\u001b[49m\u001b[38;5;124;43m'\u001b[39;49m\u001b[38;5;124;43mdata/street_center_lines.geojson\u001b[39;49m\u001b[38;5;124;43m'\u001b[39;49m\u001b[43m)\u001b[49m\n",
      "File \u001b[0;32m~/anaconda3/envs/geospatial/lib/python3.8/site-packages/geopandas/io/file.py:139\u001b[0m, in \u001b[0;36m_read_file\u001b[0;34m(filename, bbox, mask, rows, **kwargs)\u001b[0m\n\u001b[1;32m    134\u001b[0m \u001b[38;5;28;01mif\u001b[39;00m kwargs\u001b[38;5;241m.\u001b[39mget(\u001b[38;5;124m\"\u001b[39m\u001b[38;5;124mignore_geometry\u001b[39m\u001b[38;5;124m\"\u001b[39m, \u001b[38;5;28;01mFalse\u001b[39;00m):\n\u001b[1;32m    135\u001b[0m     \u001b[38;5;28;01mreturn\u001b[39;00m pd\u001b[38;5;241m.\u001b[39mDataFrame(\n\u001b[1;32m    136\u001b[0m         [record[\u001b[38;5;124m\"\u001b[39m\u001b[38;5;124mproperties\u001b[39m\u001b[38;5;124m\"\u001b[39m] \u001b[38;5;28;01mfor\u001b[39;00m record \u001b[38;5;129;01min\u001b[39;00m f_filt], columns\u001b[38;5;241m=\u001b[39mcolumns\n\u001b[1;32m    137\u001b[0m     )\n\u001b[0;32m--> 139\u001b[0m \u001b[38;5;28;01mreturn\u001b[39;00m \u001b[43mGeoDataFrame\u001b[49m\u001b[38;5;241;43m.\u001b[39;49m\u001b[43mfrom_features\u001b[49m\u001b[43m(\u001b[49m\n\u001b[1;32m    140\u001b[0m \u001b[43m    \u001b[49m\u001b[43mf_filt\u001b[49m\u001b[43m,\u001b[49m\u001b[43m \u001b[49m\u001b[43mcrs\u001b[49m\u001b[38;5;241;43m=\u001b[39;49m\u001b[43mcrs\u001b[49m\u001b[43m,\u001b[49m\u001b[43m \u001b[49m\u001b[43mcolumns\u001b[49m\u001b[38;5;241;43m=\u001b[39;49m\u001b[43mcolumns\u001b[49m\u001b[43m \u001b[49m\u001b[38;5;241;43m+\u001b[39;49m\u001b[43m \u001b[49m\u001b[43m[\u001b[49m\u001b[38;5;124;43m\"\u001b[39;49m\u001b[38;5;124;43mgeometry\u001b[39;49m\u001b[38;5;124;43m\"\u001b[39;49m\u001b[43m]\u001b[49m\n\u001b[1;32m    141\u001b[0m \u001b[43m\u001b[49m\u001b[43m)\u001b[49m\n",
      "File \u001b[0;32m~/anaconda3/envs/geospatial/lib/python3.8/site-packages/geopandas/geodataframe.py:432\u001b[0m, in \u001b[0;36mGeoDataFrame.from_features\u001b[0;34m(cls, features, crs, columns)\u001b[0m\n\u001b[1;32m    430\u001b[0m     row\u001b[38;5;241m.\u001b[39mupdate(feature[\u001b[38;5;124m\"\u001b[39m\u001b[38;5;124mproperties\u001b[39m\u001b[38;5;124m\"\u001b[39m])\n\u001b[1;32m    431\u001b[0m     rows\u001b[38;5;241m.\u001b[39mappend(row)\n\u001b[0;32m--> 432\u001b[0m \u001b[38;5;28;01mreturn\u001b[39;00m \u001b[43mGeoDataFrame\u001b[49m\u001b[43m(\u001b[49m\u001b[43mrows\u001b[49m\u001b[43m,\u001b[49m\u001b[43m \u001b[49m\u001b[43mcolumns\u001b[49m\u001b[38;5;241;43m=\u001b[39;49m\u001b[43mcolumns\u001b[49m\u001b[43m,\u001b[49m\u001b[43m \u001b[49m\u001b[43mcrs\u001b[49m\u001b[38;5;241;43m=\u001b[39;49m\u001b[43mcrs\u001b[49m\u001b[43m)\u001b[49m\n",
      "File \u001b[0;32m~/anaconda3/envs/geospatial/lib/python3.8/site-packages/geopandas/geodataframe.py:122\u001b[0m, in \u001b[0;36mGeoDataFrame.__init__\u001b[0;34m(self, *args, **kwargs)\u001b[0m\n\u001b[1;32m    111\u001b[0m         warnings\u001b[38;5;241m.\u001b[39mwarn(\n\u001b[1;32m    112\u001b[0m             \u001b[38;5;124m\"\u001b[39m\u001b[38;5;124mCRS mismatch between CRS of the passed geometries \u001b[39m\u001b[38;5;124m\"\u001b[39m\n\u001b[1;32m    113\u001b[0m             \u001b[38;5;124m\"\u001b[39m\u001b[38;5;124mand \u001b[39m\u001b[38;5;124m'\u001b[39m\u001b[38;5;124mcrs\u001b[39m\u001b[38;5;124m'\u001b[39m\u001b[38;5;124m. Use \u001b[39m\u001b[38;5;124m'\u001b[39m\u001b[38;5;124mGeoDataFrame.set_crs(crs, \u001b[39m\u001b[38;5;124m\"\u001b[39m\n\u001b[0;32m   (...)\u001b[0m\n\u001b[1;32m    119\u001b[0m             stacklevel\u001b[38;5;241m=\u001b[39m\u001b[38;5;241m2\u001b[39m,\n\u001b[1;32m    120\u001b[0m         )\n\u001b[1;32m    121\u001b[0m         \u001b[38;5;66;03m# TODO: raise error in 0.9 or 0.10.\u001b[39;00m\n\u001b[0;32m--> 122\u001b[0m     \u001b[38;5;28mself\u001b[39m[\u001b[38;5;124m\"\u001b[39m\u001b[38;5;124mgeometry\u001b[39m\u001b[38;5;124m\"\u001b[39m] \u001b[38;5;241m=\u001b[39m \u001b[43m_ensure_geometry\u001b[49m\u001b[43m(\u001b[49m\u001b[38;5;28;43mself\u001b[39;49m\u001b[43m[\u001b[49m\u001b[38;5;124;43m\"\u001b[39;49m\u001b[38;5;124;43mgeometry\u001b[39;49m\u001b[38;5;124;43m\"\u001b[39;49m\u001b[43m]\u001b[49m\u001b[38;5;241;43m.\u001b[39;49m\u001b[43mvalues\u001b[49m\u001b[43m,\u001b[49m\u001b[43m \u001b[49m\u001b[43mcrs\u001b[49m\u001b[43m)\u001b[49m\n\u001b[1;32m    123\u001b[0m \u001b[38;5;28;01mexcept\u001b[39;00m \u001b[38;5;167;01mTypeError\u001b[39;00m:\n\u001b[1;32m    124\u001b[0m     \u001b[38;5;28;01mpass\u001b[39;00m\n",
      "File \u001b[0;32m~/anaconda3/envs/geospatial/lib/python3.8/site-packages/geopandas/geodataframe.py:42\u001b[0m, in \u001b[0;36m_ensure_geometry\u001b[0;34m(data, crs)\u001b[0m\n\u001b[1;32m     40\u001b[0m     \u001b[38;5;28;01mreturn\u001b[39;00m GeoSeries(out, index\u001b[38;5;241m=\u001b[39mdata\u001b[38;5;241m.\u001b[39mindex, name\u001b[38;5;241m=\u001b[39mdata\u001b[38;5;241m.\u001b[39mname)\n\u001b[1;32m     41\u001b[0m \u001b[38;5;28;01melse\u001b[39;00m:\n\u001b[0;32m---> 42\u001b[0m     out \u001b[38;5;241m=\u001b[39m \u001b[43mfrom_shapely\u001b[49m\u001b[43m(\u001b[49m\u001b[43mdata\u001b[49m\u001b[43m,\u001b[49m\u001b[43m \u001b[49m\u001b[43mcrs\u001b[49m\u001b[38;5;241;43m=\u001b[39;49m\u001b[43mcrs\u001b[49m\u001b[43m)\u001b[49m\n\u001b[1;32m     43\u001b[0m     \u001b[38;5;28;01mreturn\u001b[39;00m out\n",
      "File \u001b[0;32m~/anaconda3/envs/geospatial/lib/python3.8/site-packages/geopandas/array.py:166\u001b[0m, in \u001b[0;36mfrom_shapely\u001b[0;34m(data, crs)\u001b[0m\n\u001b[1;32m    150\u001b[0m \u001b[38;5;28;01mdef\u001b[39;00m \u001b[38;5;21mfrom_shapely\u001b[39m(data, crs\u001b[38;5;241m=\u001b[39m\u001b[38;5;28;01mNone\u001b[39;00m):\n\u001b[1;32m    151\u001b[0m     \u001b[38;5;124;03m\"\"\"\u001b[39;00m\n\u001b[1;32m    152\u001b[0m \u001b[38;5;124;03m    Convert a list or array of shapely objects to a GeometryArray.\u001b[39;00m\n\u001b[1;32m    153\u001b[0m \n\u001b[0;32m   (...)\u001b[0m\n\u001b[1;32m    164\u001b[0m \n\u001b[1;32m    165\u001b[0m \u001b[38;5;124;03m    \"\"\"\u001b[39;00m\n\u001b[0;32m--> 166\u001b[0m     \u001b[38;5;28;01mreturn\u001b[39;00m GeometryArray(\u001b[43mvectorized\u001b[49m\u001b[38;5;241;43m.\u001b[39;49m\u001b[43mfrom_shapely\u001b[49m\u001b[43m(\u001b[49m\u001b[43mdata\u001b[49m\u001b[43m)\u001b[49m, crs\u001b[38;5;241m=\u001b[39mcrs)\n",
      "File \u001b[0;32m~/anaconda3/envs/geospatial/lib/python3.8/site-packages/geopandas/_vectorized.py:142\u001b[0m, in \u001b[0;36mfrom_shapely\u001b[0;34m(data)\u001b[0m\n\u001b[1;32m    138\u001b[0m \u001b[38;5;28;01melse\u001b[39;00m:\n\u001b[1;32m    139\u001b[0m     \u001b[38;5;66;03m# numpy can expand geometry collections into 2D arrays, use this\u001b[39;00m\n\u001b[1;32m    140\u001b[0m     \u001b[38;5;66;03m# two-step construction to avoid this\u001b[39;00m\n\u001b[1;32m    141\u001b[0m     aout \u001b[38;5;241m=\u001b[39m np\u001b[38;5;241m.\u001b[39mempty(\u001b[38;5;28mlen\u001b[39m(data), dtype\u001b[38;5;241m=\u001b[39m\u001b[38;5;28mobject\u001b[39m)\n\u001b[0;32m--> 142\u001b[0m     \u001b[43maout\u001b[49m\u001b[43m[\u001b[49m\u001b[43m:\u001b[49m\u001b[43m]\u001b[49m \u001b[38;5;241m=\u001b[39m out\n\u001b[1;32m    143\u001b[0m     \u001b[38;5;28;01mreturn\u001b[39;00m aout\n",
      "File \u001b[0;32m~/anaconda3/envs/geospatial/lib/python3.8/site-packages/shapely/geometry/base.py:854\u001b[0m, in \u001b[0;36mBaseMultipartGeometry.__array_interface__\u001b[0;34m(self)\u001b[0m\n\u001b[1;32m    851\u001b[0m \u001b[38;5;129m@property\u001b[39m\n\u001b[1;32m    852\u001b[0m \u001b[38;5;28;01mdef\u001b[39;00m \u001b[38;5;21m__array_interface__\u001b[39m(\u001b[38;5;28mself\u001b[39m):\n\u001b[1;32m    853\u001b[0m     \u001b[38;5;124;03m\"\"\"Provide the Numpy array protocol.\"\"\"\u001b[39;00m\n\u001b[0;32m--> 854\u001b[0m     \u001b[38;5;28;01mraise\u001b[39;00m \u001b[38;5;167;01mNotImplementedError\u001b[39;00m(\u001b[38;5;124m\"\u001b[39m\u001b[38;5;124mMulti-part geometries do not themselves \u001b[39m\u001b[38;5;124m\"\u001b[39m\n\u001b[1;32m    855\u001b[0m                               \u001b[38;5;124m\"\u001b[39m\u001b[38;5;124mprovide the array interface\u001b[39m\u001b[38;5;124m\"\u001b[39m)\n",
      "\u001b[0;31mNotImplementedError\u001b[0m: Multi-part geometries do not themselves provide the array interface"
     ]
    }
   ],
   "source": [
    "street_center_lines_geo = gpd.read_file('data/street_center_lines.geojson')\n",
    "# gpd.explode this would explode multi part geometries into multiple single part geometries"
   ]
  },
  {
   "cell_type": "code",
   "execution_count": null,
   "id": "f7324f14",
   "metadata": {},
   "outputs": [],
   "source": [
    "street_center_lines.isna().sum()"
   ]
  },
  {
   "cell_type": "code",
   "execution_count": 6,
   "id": "3462551b",
   "metadata": {},
   "outputs": [],
   "source": [
    "from shapely import wkt\n",
    "street_center_lines['the_geom'] = street_center_lines['the_geom'].apply(wkt.loads)\n",
    "#gpd.GeoSeries.from_wkt(street_center_lines['the_geom'])\n"
   ]
  },
  {
   "cell_type": "code",
   "execution_count": 11,
   "id": "75f1fdbe",
   "metadata": {},
   "outputs": [
    {
     "data": {
      "text/plain": [
       "<bound method Series.apply of 0        LINESTRING (-87.63187018233509 41.780809747581...\n",
       "1        LINESTRING (-87.60548932047928 41.762229643527...\n",
       "2        LINESTRING (-87.6838184819274 41.6972438444297...\n",
       "3        LINESTRING (-87.64584189298007 41.693398400444...\n",
       "4        LINESTRING (-87.67053671319235 41.679759274890...\n",
       "                               ...                        \n",
       "56333    LINESTRING (-87.55784956501411 41.657918209955...\n",
       "56334    LINESTRING (-87.73902939370839 41.948344047485...\n",
       "56335    LINESTRING (-87.73879459600205 41.947181951899...\n",
       "56336    LINESTRING (-87.74339277679763 41.891415000932...\n",
       "56337    LINESTRING (-87.68107407701358 41.863969346397...\n",
       "Name: the_geom, Length: 56338, dtype: object>"
      ]
     },
     "execution_count": 11,
     "metadata": {},
     "output_type": "execute_result"
    }
   ],
   "source": [
    "street_center_lines.explode('the_geom')['the_geom'].apply"
   ]
  },
  {
   "cell_type": "code",
   "execution_count": 13,
   "id": "5ba63910",
   "metadata": {
    "collapsed": true
   },
   "outputs": [
    {
     "ename": "NotImplementedError",
     "evalue": "Multi-part geometries do not themselves provide the array interface",
     "output_type": "error",
     "traceback": [
      "\u001b[0;31m---------------------------------------------------------------------------\u001b[0m",
      "\u001b[0;31mNotImplementedError\u001b[0m                       Traceback (most recent call last)",
      "Input \u001b[0;32mIn [13]\u001b[0m, in \u001b[0;36m<cell line: 1>\u001b[0;34m()\u001b[0m\n\u001b[0;32m----> 1\u001b[0m \u001b[43mgpd\u001b[49m\u001b[38;5;241;43m.\u001b[39;49m\u001b[43mGeoDataFrame\u001b[49m\u001b[43m(\u001b[49m\u001b[43mdata\u001b[49m\u001b[38;5;241;43m=\u001b[39;49m\u001b[43mstreet_center_lines\u001b[49m\u001b[43m,\u001b[49m\u001b[43m \u001b[49m\u001b[43mgeometry\u001b[49m\u001b[38;5;241;43m=\u001b[39;49m\u001b[38;5;124;43m'\u001b[39;49m\u001b[38;5;124;43mthe_geom\u001b[39;49m\u001b[38;5;124;43m'\u001b[39;49m\u001b[43m,\u001b[49m\u001b[43m \u001b[49m\u001b[43mcrs\u001b[49m\u001b[38;5;241;43m=\u001b[39;49m\u001b[38;5;124;43m'\u001b[39;49m\u001b[38;5;124;43mEPSG:4326\u001b[39;49m\u001b[38;5;124;43m'\u001b[39;49m\u001b[43m)\u001b[49m\n",
      "File \u001b[0;32m~/anaconda3/envs/geospatial/lib/python3.8/site-packages/geopandas/geodataframe.py:151\u001b[0m, in \u001b[0;36mGeoDataFrame.__init__\u001b[0;34m(self, *args, **kwargs)\u001b[0m\n\u001b[1;32m    140\u001b[0m         warnings\u001b[38;5;241m.\u001b[39mwarn(\n\u001b[1;32m    141\u001b[0m             \u001b[38;5;124m\"\u001b[39m\u001b[38;5;124mCRS mismatch between CRS of the passed geometries \u001b[39m\u001b[38;5;124m\"\u001b[39m\n\u001b[1;32m    142\u001b[0m             \u001b[38;5;124m\"\u001b[39m\u001b[38;5;124mand \u001b[39m\u001b[38;5;124m'\u001b[39m\u001b[38;5;124mcrs\u001b[39m\u001b[38;5;124m'\u001b[39m\u001b[38;5;124m. Use \u001b[39m\u001b[38;5;124m'\u001b[39m\u001b[38;5;124mGeoDataFrame.set_crs(crs, \u001b[39m\u001b[38;5;124m\"\u001b[39m\n\u001b[0;32m   (...)\u001b[0m\n\u001b[1;32m    148\u001b[0m             stacklevel\u001b[38;5;241m=\u001b[39m\u001b[38;5;241m2\u001b[39m,\n\u001b[1;32m    149\u001b[0m         )\n\u001b[1;32m    150\u001b[0m         \u001b[38;5;66;03m# TODO: raise error in 0.9 or 0.10.\u001b[39;00m\n\u001b[0;32m--> 151\u001b[0m     \u001b[38;5;28;43mself\u001b[39;49m\u001b[38;5;241;43m.\u001b[39;49m\u001b[43mset_geometry\u001b[49m\u001b[43m(\u001b[49m\u001b[43mgeometry\u001b[49m\u001b[43m,\u001b[49m\u001b[43m \u001b[49m\u001b[43minplace\u001b[49m\u001b[38;5;241;43m=\u001b[39;49m\u001b[38;5;28;43;01mTrue\u001b[39;49;00m\u001b[43m)\u001b[49m\n\u001b[1;32m    152\u001b[0m \u001b[38;5;28mself\u001b[39m\u001b[38;5;241m.\u001b[39m_invalidate_sindex()\n\u001b[1;32m    154\u001b[0m \u001b[38;5;28;01mif\u001b[39;00m geometry \u001b[38;5;129;01mis\u001b[39;00m \u001b[38;5;28;01mNone\u001b[39;00m \u001b[38;5;129;01mand\u001b[39;00m crs:\n",
      "File \u001b[0;32m~/anaconda3/envs/geospatial/lib/python3.8/site-packages/geopandas/geodataframe.py:254\u001b[0m, in \u001b[0;36mGeoDataFrame.set_geometry\u001b[0;34m(self, col, drop, inplace, crs)\u001b[0m\n\u001b[1;32m    251\u001b[0m     level\u001b[38;5;241m.\u001b[39mcrs \u001b[38;5;241m=\u001b[39m crs\n\u001b[1;32m    253\u001b[0m \u001b[38;5;66;03m# Check that we are using a listlike of geometries\u001b[39;00m\n\u001b[0;32m--> 254\u001b[0m level \u001b[38;5;241m=\u001b[39m \u001b[43m_ensure_geometry\u001b[49m\u001b[43m(\u001b[49m\u001b[43mlevel\u001b[49m\u001b[43m,\u001b[49m\u001b[43m \u001b[49m\u001b[43mcrs\u001b[49m\u001b[38;5;241;43m=\u001b[39;49m\u001b[43mcrs\u001b[49m\u001b[43m)\u001b[49m\n\u001b[1;32m    255\u001b[0m index \u001b[38;5;241m=\u001b[39m frame\u001b[38;5;241m.\u001b[39mindex\n\u001b[1;32m    256\u001b[0m frame[geo_column_name] \u001b[38;5;241m=\u001b[39m level\n",
      "File \u001b[0;32m~/anaconda3/envs/geospatial/lib/python3.8/site-packages/geopandas/geodataframe.py:42\u001b[0m, in \u001b[0;36m_ensure_geometry\u001b[0;34m(data, crs)\u001b[0m\n\u001b[1;32m     40\u001b[0m     \u001b[38;5;28;01mreturn\u001b[39;00m GeoSeries(out, index\u001b[38;5;241m=\u001b[39mdata\u001b[38;5;241m.\u001b[39mindex, name\u001b[38;5;241m=\u001b[39mdata\u001b[38;5;241m.\u001b[39mname)\n\u001b[1;32m     41\u001b[0m \u001b[38;5;28;01melse\u001b[39;00m:\n\u001b[0;32m---> 42\u001b[0m     out \u001b[38;5;241m=\u001b[39m \u001b[43mfrom_shapely\u001b[49m\u001b[43m(\u001b[49m\u001b[43mdata\u001b[49m\u001b[43m,\u001b[49m\u001b[43m \u001b[49m\u001b[43mcrs\u001b[49m\u001b[38;5;241;43m=\u001b[39;49m\u001b[43mcrs\u001b[49m\u001b[43m)\u001b[49m\n\u001b[1;32m     43\u001b[0m     \u001b[38;5;28;01mreturn\u001b[39;00m out\n",
      "File \u001b[0;32m~/anaconda3/envs/geospatial/lib/python3.8/site-packages/geopandas/array.py:166\u001b[0m, in \u001b[0;36mfrom_shapely\u001b[0;34m(data, crs)\u001b[0m\n\u001b[1;32m    150\u001b[0m \u001b[38;5;28;01mdef\u001b[39;00m \u001b[38;5;21mfrom_shapely\u001b[39m(data, crs\u001b[38;5;241m=\u001b[39m\u001b[38;5;28;01mNone\u001b[39;00m):\n\u001b[1;32m    151\u001b[0m     \u001b[38;5;124;03m\"\"\"\u001b[39;00m\n\u001b[1;32m    152\u001b[0m \u001b[38;5;124;03m    Convert a list or array of shapely objects to a GeometryArray.\u001b[39;00m\n\u001b[1;32m    153\u001b[0m \n\u001b[0;32m   (...)\u001b[0m\n\u001b[1;32m    164\u001b[0m \n\u001b[1;32m    165\u001b[0m \u001b[38;5;124;03m    \"\"\"\u001b[39;00m\n\u001b[0;32m--> 166\u001b[0m     \u001b[38;5;28;01mreturn\u001b[39;00m GeometryArray(\u001b[43mvectorized\u001b[49m\u001b[38;5;241;43m.\u001b[39;49m\u001b[43mfrom_shapely\u001b[49m\u001b[43m(\u001b[49m\u001b[43mdata\u001b[49m\u001b[43m)\u001b[49m, crs\u001b[38;5;241m=\u001b[39mcrs)\n",
      "File \u001b[0;32m~/anaconda3/envs/geospatial/lib/python3.8/site-packages/geopandas/_vectorized.py:142\u001b[0m, in \u001b[0;36mfrom_shapely\u001b[0;34m(data)\u001b[0m\n\u001b[1;32m    138\u001b[0m \u001b[38;5;28;01melse\u001b[39;00m:\n\u001b[1;32m    139\u001b[0m     \u001b[38;5;66;03m# numpy can expand geometry collections into 2D arrays, use this\u001b[39;00m\n\u001b[1;32m    140\u001b[0m     \u001b[38;5;66;03m# two-step construction to avoid this\u001b[39;00m\n\u001b[1;32m    141\u001b[0m     aout \u001b[38;5;241m=\u001b[39m np\u001b[38;5;241m.\u001b[39mempty(\u001b[38;5;28mlen\u001b[39m(data), dtype\u001b[38;5;241m=\u001b[39m\u001b[38;5;28mobject\u001b[39m)\n\u001b[0;32m--> 142\u001b[0m     \u001b[43maout\u001b[49m\u001b[43m[\u001b[49m\u001b[43m:\u001b[49m\u001b[43m]\u001b[49m \u001b[38;5;241m=\u001b[39m out\n\u001b[1;32m    143\u001b[0m     \u001b[38;5;28;01mreturn\u001b[39;00m aout\n",
      "File \u001b[0;32m~/anaconda3/envs/geospatial/lib/python3.8/site-packages/shapely/geometry/base.py:854\u001b[0m, in \u001b[0;36mBaseMultipartGeometry.__array_interface__\u001b[0;34m(self)\u001b[0m\n\u001b[1;32m    851\u001b[0m \u001b[38;5;129m@property\u001b[39m\n\u001b[1;32m    852\u001b[0m \u001b[38;5;28;01mdef\u001b[39;00m \u001b[38;5;21m__array_interface__\u001b[39m(\u001b[38;5;28mself\u001b[39m):\n\u001b[1;32m    853\u001b[0m     \u001b[38;5;124;03m\"\"\"Provide the Numpy array protocol.\"\"\"\u001b[39;00m\n\u001b[0;32m--> 854\u001b[0m     \u001b[38;5;28;01mraise\u001b[39;00m \u001b[38;5;167;01mNotImplementedError\u001b[39;00m(\u001b[38;5;124m\"\u001b[39m\u001b[38;5;124mMulti-part geometries do not themselves \u001b[39m\u001b[38;5;124m\"\u001b[39m\n\u001b[1;32m    855\u001b[0m                               \u001b[38;5;124m\"\u001b[39m\u001b[38;5;124mprovide the array interface\u001b[39m\u001b[38;5;124m\"\u001b[39m)\n",
      "\u001b[0;31mNotImplementedError\u001b[0m: Multi-part geometries do not themselves provide the array interface"
     ]
    }
   ],
   "source": [
    "gpd.GeoDataFrame(data=street_center_lines, geometry='the_geom', crs='EPSG:4326')"
   ]
  },
  {
   "cell_type": "code",
   "execution_count": null,
   "id": "5b4da364",
   "metadata": {},
   "outputs": [],
   "source": [
    "#crashes_df.sjoin(street_center_lines, op = 'within')\n",
    "gpd.sjoin(crashes_df, street_center_lines, op = 'within')"
   ]
  },
  {
   "cell_type": "code",
   "execution_count": null,
   "id": "399cf81e",
   "metadata": {},
   "outputs": [],
   "source": [
    "import shapely\n",
    "shapely.__version__"
   ]
  },
  {
   "cell_type": "code",
   "execution_count": null,
   "id": "86c2c39c",
   "metadata": {},
   "outputs": [],
   "source": [
    "street_center_lines = street_center_lines[['the_geom','CLASS']]\n",
    "street_center_lines.loc[1,'the_geom']"
   ]
  },
  {
   "cell_type": "markdown",
   "id": "35c13f4e",
   "metadata": {},
   "source": [
    "## load street center lines from API "
   ]
  },
  {
   "cell_type": "code",
   "execution_count": null,
   "id": "8ec8c333",
   "metadata": {},
   "outputs": [],
   "source": [
    "endpoint = 'https://data.cityofchicago.org/resource/pr57-gg9e.json'\n",
    "res = requests.get(endpoint)\n",
    "res = res.json()\n",
    "street_center_lines_API = pd.DataFrame(res)"
   ]
  },
  {
   "cell_type": "code",
   "execution_count": null,
   "id": "8eb7ab21",
   "metadata": {},
   "outputs": [],
   "source": [
    "street_center_lines_API"
   ]
  },
  {
   "cell_type": "markdown",
   "id": "a7dcf2a1",
   "metadata": {},
   "source": [
    "## load street center lines from CSV"
   ]
  },
  {
   "cell_type": "code",
   "execution_count": 3,
   "id": "2a927586",
   "metadata": {},
   "outputs": [],
   "source": [
    "street_center_lines = pd.read_csv('data/street_center_lines.csv')"
   ]
  },
  {
   "cell_type": "code",
   "execution_count": null,
   "id": "0ae6d954",
   "metadata": {},
   "outputs": [],
   "source": [
    "street_center_lines.info()"
   ]
  },
  {
   "cell_type": "code",
   "execution_count": null,
   "id": "7e9d7607",
   "metadata": {},
   "outputs": [],
   "source": [
    "street_center_lines.head()"
   ]
  },
  {
   "cell_type": "code",
   "execution_count": null,
   "id": "39203c24",
   "metadata": {},
   "outputs": [],
   "source": [
    "street_center_lines['the_geom'].str.extract('(\\d{})\\s')"
   ]
  },
  {
   "cell_type": "code",
   "execution_count": 20,
   "id": "a3f7e243",
   "metadata": {},
   "outputs": [],
   "source": [
    "classes = ['1','2','3','4']\n",
    "street_center_lines = street_center_lines.loc[street_center_lines['CLASS'].isin(classes)].reset_index()"
   ]
  },
  {
   "cell_type": "code",
   "execution_count": null,
   "id": "d6353c3d",
   "metadata": {},
   "outputs": [],
   "source": [
    "#clean up\n",
    "street_center_lines['CLASS'].value_counts()"
   ]
  },
  {
   "cell_type": "code",
   "execution_count": 27,
   "id": "5a66a42b",
   "metadata": {},
   "outputs": [],
   "source": [
    "#L_F_ADD, L_T_ADD etc etc are the RANGE OF ADDRESSES FOR THAT STREET. When I clicked on Carmen between Broadway\n",
    "#and Glenwood, LFADD and RFADD were 1301 and 1300. LTADD and RTADD were 1359 and 1358.\n",
    "city_addresses = street_center_lines[['L_F_ADD','L_T_ADD','R_F_ADD','R_T_ADD','PRE_DIR','STREET_NAM','STREET_TYP','CLASS']]"
   ]
  },
  {
   "cell_type": "code",
   "execution_count": 31,
   "id": "88d14045",
   "metadata": {},
   "outputs": [
    {
     "name": "stderr",
     "output_type": "stream",
     "text": [
      "/tmp/ipykernel_56141/3888918883.py:1: SettingWithCopyWarning: \n",
      "A value is trying to be set on a copy of a slice from a DataFrame.\n",
      "Try using .loc[row_indexer,col_indexer] = value instead\n",
      "\n",
      "See the caveats in the documentation: https://pandas.pydata.org/pandas-docs/stable/user_guide/indexing.html#returning-a-view-versus-a-copy\n",
      "  city_addresses['searchable_address'] = city_addresses['PRE_DIR'] + ' ' + city_addresses['STREET_NAM'] + ' ' + city_addresses['STREET_TYP']\n"
     ]
    }
   ],
   "source": [
    "city_addresses['searchable_address'] = city_addresses['PRE_DIR'] + ' ' + city_addresses['STREET_NAM'] + ' ' + city_addresses['STREET_TYP']"
   ]
  },
  {
   "cell_type": "code",
   "execution_count": 33,
   "id": "b62f2ce6",
   "metadata": {},
   "outputs": [],
   "source": [
    "city_addresses = city_addresses[['L_F_ADD','L_T_ADD','R_F_ADD','R_T_ADD','searchable_address','CLASS']]"
   ]
  },
  {
   "cell_type": "code",
   "execution_count": null,
   "id": "8b06d715",
   "metadata": {},
   "outputs": [],
   "source": []
  },
  {
   "cell_type": "code",
   "execution_count": 51,
   "id": "29c5bec4",
   "metadata": {},
   "outputs": [
    {
     "name": "stderr",
     "output_type": "stream",
     "text": [
      "/tmp/ipykernel_56141/3537348477.py:1: FutureWarning: Dropping of nuisance columns in DataFrame reductions (with 'numeric_only=None') is deprecated; in a future version this will raise TypeError.  Select only valid columns before calling the reduction.\n",
      "  city_addresses['min'] = city_addresses.min(axis=1)\n",
      "/tmp/ipykernel_56141/3537348477.py:2: FutureWarning: Dropping of nuisance columns in DataFrame reductions (with 'numeric_only=None') is deprecated; in a future version this will raise TypeError.  Select only valid columns before calling the reduction.\n",
      "  city_addresses['max'] = city_addresses.max(axis=1)\n"
     ]
    }
   ],
   "source": [
    "city_addresses['min'] = city_addresses.min(axis=1)\n",
    "city_addresses['max'] = city_addresses.max(axis=1)"
   ]
  },
  {
   "cell_type": "code",
   "execution_count": null,
   "id": "bea25099",
   "metadata": {},
   "outputs": [],
   "source": [
    "for index, row in city_addresses.iterrows():\n",
    "    if row.L_F_ADD < L_T_ADD & R_F_ADD & R_T_ADD:\n",
    "        city_addresses.loc[index, \"min\"] = L_F_ADD\n",
    "\n",
    "for index, row in movies_df.iterrows():\n",
    "    if row['duration'] <= 30:\n",
    "        movies_df.loc[index, 'category'] = 'short'\n",
    "    elif row['duration'] <= 120:\n",
    "        movies_df.loc[index, 'category'] = 'average'\n",
    "    else:\n",
    "        movies_df.loc[index, 'category'] = 'long'"
   ]
  },
  {
   "cell_type": "code",
   "execution_count": 41,
   "id": "65e4bd48",
   "metadata": {
    "collapsed": true
   },
   "outputs": [
    {
     "ename": "TypeError",
     "evalue": "reduction operation 'argmin' not allowed for this dtype",
     "output_type": "error",
     "traceback": [
      "\u001b[0;31m---------------------------------------------------------------------------\u001b[0m",
      "\u001b[0;31mTypeError\u001b[0m                                 Traceback (most recent call last)",
      "Input \u001b[0;32mIn [41]\u001b[0m, in \u001b[0;36m<cell line: 1>\u001b[0;34m()\u001b[0m\n\u001b[0;32m----> 1\u001b[0m mins \u001b[38;5;241m=\u001b[39m \u001b[43mcity_addresses\u001b[49m\u001b[38;5;241;43m.\u001b[39;49m\u001b[43midxmin\u001b[49m\u001b[43m(\u001b[49m\u001b[43maxis\u001b[49m\u001b[38;5;241;43m=\u001b[39;49m\u001b[38;5;124;43m\"\u001b[39;49m\u001b[38;5;124;43mcolumns\u001b[39;49m\u001b[38;5;124;43m\"\u001b[39;49m\u001b[43m)\u001b[49m\n\u001b[1;32m      3\u001b[0m \u001b[38;5;28;01mfor\u001b[39;00m i, r \u001b[38;5;129;01min\u001b[39;00m df\u001b[38;5;241m.\u001b[39miterrows():\n\u001b[1;32m      4\u001b[0m     mins[i] \u001b[38;5;241m=\u001b[39m \u001b[38;5;28mlist\u001b[39m(r[r \u001b[38;5;241m==\u001b[39m r[mins[i]]]\u001b[38;5;241m.\u001b[39mindex)\n",
      "File \u001b[0;32m~/anaconda3/envs/geospatial/lib/python3.8/site-packages/pandas/core/frame.py:10220\u001b[0m, in \u001b[0;36mDataFrame.idxmin\u001b[0;34m(self, axis, skipna)\u001b[0m\n\u001b[1;32m  10158\u001b[0m \u001b[38;5;124;03m\"\"\"\u001b[39;00m\n\u001b[1;32m  10159\u001b[0m \u001b[38;5;124;03mReturn index of first occurrence of minimum over requested axis.\u001b[39;00m\n\u001b[1;32m  10160\u001b[0m \n\u001b[0;32m   (...)\u001b[0m\n\u001b[1;32m  10216\u001b[0m \u001b[38;5;124;03mdtype: object\u001b[39;00m\n\u001b[1;32m  10217\u001b[0m \u001b[38;5;124;03m\"\"\"\u001b[39;00m\n\u001b[1;32m  10218\u001b[0m axis \u001b[38;5;241m=\u001b[39m \u001b[38;5;28mself\u001b[39m\u001b[38;5;241m.\u001b[39m_get_axis_number(axis)\n\u001b[0;32m> 10220\u001b[0m res \u001b[38;5;241m=\u001b[39m \u001b[38;5;28;43mself\u001b[39;49m\u001b[38;5;241;43m.\u001b[39;49m\u001b[43m_reduce\u001b[49m\u001b[43m(\u001b[49m\n\u001b[1;32m  10221\u001b[0m \u001b[43m    \u001b[49m\u001b[43mnanops\u001b[49m\u001b[38;5;241;43m.\u001b[39;49m\u001b[43mnanargmin\u001b[49m\u001b[43m,\u001b[49m\u001b[43m \u001b[49m\u001b[38;5;124;43m\"\u001b[39;49m\u001b[38;5;124;43margmin\u001b[39;49m\u001b[38;5;124;43m\"\u001b[39;49m\u001b[43m,\u001b[49m\u001b[43m \u001b[49m\u001b[43maxis\u001b[49m\u001b[38;5;241;43m=\u001b[39;49m\u001b[43maxis\u001b[49m\u001b[43m,\u001b[49m\u001b[43m \u001b[49m\u001b[43mskipna\u001b[49m\u001b[38;5;241;43m=\u001b[39;49m\u001b[43mskipna\u001b[49m\u001b[43m,\u001b[49m\u001b[43m \u001b[49m\u001b[43mnumeric_only\u001b[49m\u001b[38;5;241;43m=\u001b[39;49m\u001b[38;5;28;43;01mFalse\u001b[39;49;00m\n\u001b[1;32m  10222\u001b[0m \u001b[43m\u001b[49m\u001b[43m)\u001b[49m\n\u001b[1;32m  10223\u001b[0m indices \u001b[38;5;241m=\u001b[39m res\u001b[38;5;241m.\u001b[39m_values\n\u001b[1;32m  10225\u001b[0m \u001b[38;5;66;03m# indices will always be np.ndarray since axis is not None and\u001b[39;00m\n\u001b[1;32m  10226\u001b[0m \u001b[38;5;66;03m# values is a 2d array for DataFrame\u001b[39;00m\n\u001b[1;32m  10227\u001b[0m \u001b[38;5;66;03m# error: Item \"int\" of \"Union[int, Any]\" has no attribute \"__iter__\"\u001b[39;00m\n",
      "File \u001b[0;32m~/anaconda3/envs/geospatial/lib/python3.8/site-packages/pandas/core/frame.py:10020\u001b[0m, in \u001b[0;36mDataFrame._reduce\u001b[0;34m(self, op, name, axis, skipna, numeric_only, filter_type, **kwds)\u001b[0m\n\u001b[1;32m  10016\u001b[0m ignore_failures \u001b[38;5;241m=\u001b[39m numeric_only \u001b[38;5;129;01mis\u001b[39;00m \u001b[38;5;28;01mNone\u001b[39;00m\n\u001b[1;32m  10018\u001b[0m \u001b[38;5;66;03m# After possibly _get_data and transposing, we are now in the\u001b[39;00m\n\u001b[1;32m  10019\u001b[0m \u001b[38;5;66;03m#  simple case where we can use BlockManager.reduce\u001b[39;00m\n\u001b[0;32m> 10020\u001b[0m res, _ \u001b[38;5;241m=\u001b[39m \u001b[43mdf\u001b[49m\u001b[38;5;241;43m.\u001b[39;49m\u001b[43m_mgr\u001b[49m\u001b[38;5;241;43m.\u001b[39;49m\u001b[43mreduce\u001b[49m\u001b[43m(\u001b[49m\u001b[43mblk_func\u001b[49m\u001b[43m,\u001b[49m\u001b[43m \u001b[49m\u001b[43mignore_failures\u001b[49m\u001b[38;5;241;43m=\u001b[39;49m\u001b[43mignore_failures\u001b[49m\u001b[43m)\u001b[49m\n\u001b[1;32m  10021\u001b[0m out \u001b[38;5;241m=\u001b[39m df\u001b[38;5;241m.\u001b[39m_constructor(res)\u001b[38;5;241m.\u001b[39miloc[\u001b[38;5;241m0\u001b[39m]\n\u001b[1;32m  10022\u001b[0m \u001b[38;5;28;01mif\u001b[39;00m out_dtype \u001b[38;5;129;01mis\u001b[39;00m \u001b[38;5;129;01mnot\u001b[39;00m \u001b[38;5;28;01mNone\u001b[39;00m:\n",
      "File \u001b[0;32m~/anaconda3/envs/geospatial/lib/python3.8/site-packages/pandas/core/internals/managers.py:1389\u001b[0m, in \u001b[0;36mBlockManager.reduce\u001b[0;34m(self, func, ignore_failures)\u001b[0m\n\u001b[1;32m   1387\u001b[0m res_blocks: \u001b[38;5;28mlist\u001b[39m[Block] \u001b[38;5;241m=\u001b[39m []\n\u001b[1;32m   1388\u001b[0m \u001b[38;5;28;01mfor\u001b[39;00m blk \u001b[38;5;129;01min\u001b[39;00m \u001b[38;5;28mself\u001b[39m\u001b[38;5;241m.\u001b[39mblocks:\n\u001b[0;32m-> 1389\u001b[0m     nbs \u001b[38;5;241m=\u001b[39m \u001b[43mblk\u001b[49m\u001b[38;5;241;43m.\u001b[39;49m\u001b[43mreduce\u001b[49m\u001b[43m(\u001b[49m\u001b[43mfunc\u001b[49m\u001b[43m,\u001b[49m\u001b[43m \u001b[49m\u001b[43mignore_failures\u001b[49m\u001b[43m)\u001b[49m\n\u001b[1;32m   1390\u001b[0m     res_blocks\u001b[38;5;241m.\u001b[39mextend(nbs)\n\u001b[1;32m   1392\u001b[0m index \u001b[38;5;241m=\u001b[39m Index([\u001b[38;5;28;01mNone\u001b[39;00m])  \u001b[38;5;66;03m# placeholder\u001b[39;00m\n",
      "File \u001b[0;32m~/anaconda3/envs/geospatial/lib/python3.8/site-packages/pandas/core/internals/blocks.py:142\u001b[0m, in \u001b[0;36mmaybe_split.<locals>.newfunc\u001b[0;34m(self, *args, **kwargs)\u001b[0m\n\u001b[1;32m    139\u001b[0m     \u001b[38;5;28;01mreturn\u001b[39;00m meth(\u001b[38;5;28mself\u001b[39m, \u001b[38;5;241m*\u001b[39margs, \u001b[38;5;241m*\u001b[39m\u001b[38;5;241m*\u001b[39mkwargs)\n\u001b[1;32m    140\u001b[0m \u001b[38;5;28;01melse\u001b[39;00m:\n\u001b[1;32m    141\u001b[0m     \u001b[38;5;66;03m# Split and operate column-by-column\u001b[39;00m\n\u001b[0;32m--> 142\u001b[0m     \u001b[38;5;28;01mreturn\u001b[39;00m \u001b[38;5;28;43mself\u001b[39;49m\u001b[38;5;241;43m.\u001b[39;49m\u001b[43msplit_and_operate\u001b[49m\u001b[43m(\u001b[49m\u001b[43mmeth\u001b[49m\u001b[43m,\u001b[49m\u001b[43m \u001b[49m\u001b[38;5;241;43m*\u001b[39;49m\u001b[43margs\u001b[49m\u001b[43m,\u001b[49m\u001b[43m \u001b[49m\u001b[38;5;241;43m*\u001b[39;49m\u001b[38;5;241;43m*\u001b[39;49m\u001b[43mkwargs\u001b[49m\u001b[43m)\u001b[49m\n",
      "File \u001b[0;32m~/anaconda3/envs/geospatial/lib/python3.8/site-packages/pandas/core/internals/blocks.py:525\u001b[0m, in \u001b[0;36mBlock.split_and_operate\u001b[0;34m(self, func, *args, **kwargs)\u001b[0m\n\u001b[1;32m    523\u001b[0m res_blocks \u001b[38;5;241m=\u001b[39m []\n\u001b[1;32m    524\u001b[0m \u001b[38;5;28;01mfor\u001b[39;00m nb \u001b[38;5;129;01min\u001b[39;00m \u001b[38;5;28mself\u001b[39m\u001b[38;5;241m.\u001b[39m_split():\n\u001b[0;32m--> 525\u001b[0m     rbs \u001b[38;5;241m=\u001b[39m \u001b[43mfunc\u001b[49m\u001b[43m(\u001b[49m\u001b[43mnb\u001b[49m\u001b[43m,\u001b[49m\u001b[43m \u001b[49m\u001b[38;5;241;43m*\u001b[39;49m\u001b[43margs\u001b[49m\u001b[43m,\u001b[49m\u001b[43m \u001b[49m\u001b[38;5;241;43m*\u001b[39;49m\u001b[38;5;241;43m*\u001b[39;49m\u001b[43mkwargs\u001b[49m\u001b[43m)\u001b[49m\n\u001b[1;32m    526\u001b[0m     res_blocks\u001b[38;5;241m.\u001b[39mextend(rbs)\n\u001b[1;32m    527\u001b[0m \u001b[38;5;28;01mreturn\u001b[39;00m res_blocks\n",
      "File \u001b[0;32m~/anaconda3/envs/geospatial/lib/python3.8/site-packages/pandas/core/internals/blocks.py:1907\u001b[0m, in \u001b[0;36mObjectBlock.reduce\u001b[0;34m(self, func, ignore_failures)\u001b[0m\n\u001b[1;32m   1904\u001b[0m \u001b[38;5;28;01massert\u001b[39;00m \u001b[38;5;28mself\u001b[39m\u001b[38;5;241m.\u001b[39mndim \u001b[38;5;241m==\u001b[39m \u001b[38;5;241m2\u001b[39m\n\u001b[1;32m   1906\u001b[0m \u001b[38;5;28;01mtry\u001b[39;00m:\n\u001b[0;32m-> 1907\u001b[0m     res \u001b[38;5;241m=\u001b[39m \u001b[43mfunc\u001b[49m\u001b[43m(\u001b[49m\u001b[38;5;28;43mself\u001b[39;49m\u001b[38;5;241;43m.\u001b[39;49m\u001b[43mvalues\u001b[49m\u001b[43m)\u001b[49m\n\u001b[1;32m   1908\u001b[0m \u001b[38;5;28;01mexcept\u001b[39;00m \u001b[38;5;167;01mTypeError\u001b[39;00m:\n\u001b[1;32m   1909\u001b[0m     \u001b[38;5;28;01mif\u001b[39;00m \u001b[38;5;129;01mnot\u001b[39;00m ignore_failures:\n",
      "File \u001b[0;32m~/anaconda3/envs/geospatial/lib/python3.8/site-packages/pandas/core/frame.py:9992\u001b[0m, in \u001b[0;36mDataFrame._reduce.<locals>.blk_func\u001b[0;34m(values, axis)\u001b[0m\n\u001b[1;32m   9990\u001b[0m     \u001b[38;5;28;01mreturn\u001b[39;00m values\u001b[38;5;241m.\u001b[39m_reduce(name, skipna\u001b[38;5;241m=\u001b[39mskipna, \u001b[38;5;241m*\u001b[39m\u001b[38;5;241m*\u001b[39mkwds)\n\u001b[1;32m   9991\u001b[0m \u001b[38;5;28;01melse\u001b[39;00m:\n\u001b[0;32m-> 9992\u001b[0m     \u001b[38;5;28;01mreturn\u001b[39;00m \u001b[43mop\u001b[49m\u001b[43m(\u001b[49m\u001b[43mvalues\u001b[49m\u001b[43m,\u001b[49m\u001b[43m \u001b[49m\u001b[43maxis\u001b[49m\u001b[38;5;241;43m=\u001b[39;49m\u001b[43maxis\u001b[49m\u001b[43m,\u001b[49m\u001b[43m \u001b[49m\u001b[43mskipna\u001b[49m\u001b[38;5;241;43m=\u001b[39;49m\u001b[43mskipna\u001b[49m\u001b[43m,\u001b[49m\u001b[43m \u001b[49m\u001b[38;5;241;43m*\u001b[39;49m\u001b[38;5;241;43m*\u001b[39;49m\u001b[43mkwds\u001b[49m\u001b[43m)\u001b[49m\n",
      "File \u001b[0;32m~/anaconda3/envs/geospatial/lib/python3.8/site-packages/pandas/core/nanops.py:88\u001b[0m, in \u001b[0;36mdisallow.__call__.<locals>._f\u001b[0;34m(*args, **kwargs)\u001b[0m\n\u001b[1;32m     86\u001b[0m \u001b[38;5;28;01mif\u001b[39;00m \u001b[38;5;28many\u001b[39m(\u001b[38;5;28mself\u001b[39m\u001b[38;5;241m.\u001b[39mcheck(obj) \u001b[38;5;28;01mfor\u001b[39;00m obj \u001b[38;5;129;01min\u001b[39;00m obj_iter):\n\u001b[1;32m     87\u001b[0m     f_name \u001b[38;5;241m=\u001b[39m f\u001b[38;5;241m.\u001b[39m\u001b[38;5;18m__name__\u001b[39m\u001b[38;5;241m.\u001b[39mreplace(\u001b[38;5;124m\"\u001b[39m\u001b[38;5;124mnan\u001b[39m\u001b[38;5;124m\"\u001b[39m, \u001b[38;5;124m\"\u001b[39m\u001b[38;5;124m\"\u001b[39m)\n\u001b[0;32m---> 88\u001b[0m     \u001b[38;5;28;01mraise\u001b[39;00m \u001b[38;5;167;01mTypeError\u001b[39;00m(\n\u001b[1;32m     89\u001b[0m         \u001b[38;5;124mf\u001b[39m\u001b[38;5;124m\"\u001b[39m\u001b[38;5;124mreduction operation \u001b[39m\u001b[38;5;124m'\u001b[39m\u001b[38;5;132;01m{\u001b[39;00mf_name\u001b[38;5;132;01m}\u001b[39;00m\u001b[38;5;124m'\u001b[39m\u001b[38;5;124m not allowed for this dtype\u001b[39m\u001b[38;5;124m\"\u001b[39m\n\u001b[1;32m     90\u001b[0m     )\n\u001b[1;32m     91\u001b[0m \u001b[38;5;28;01mtry\u001b[39;00m:\n\u001b[1;32m     92\u001b[0m     \u001b[38;5;28;01mwith\u001b[39;00m np\u001b[38;5;241m.\u001b[39merrstate(invalid\u001b[38;5;241m=\u001b[39m\u001b[38;5;124m\"\u001b[39m\u001b[38;5;124mignore\u001b[39m\u001b[38;5;124m\"\u001b[39m):\n",
      "\u001b[0;31mTypeError\u001b[0m: reduction operation 'argmin' not allowed for this dtype"
     ]
    }
   ],
   "source": [
    "mins = city_addresses.idxmin(axis=\"columns\")\n",
    "\n",
    "for i, r in df.iterrows():\n",
    "    mins[i] = list(r[r == r[mins[i]]].index)"
   ]
  },
  {
   "cell_type": "code",
   "execution_count": 52,
   "id": "37bd2dcc",
   "metadata": {},
   "outputs": [
    {
     "data": {
      "text/html": [
       "<div>\n",
       "<style scoped>\n",
       "    .dataframe tbody tr th:only-of-type {\n",
       "        vertical-align: middle;\n",
       "    }\n",
       "\n",
       "    .dataframe tbody tr th {\n",
       "        vertical-align: top;\n",
       "    }\n",
       "\n",
       "    .dataframe thead th {\n",
       "        text-align: right;\n",
       "    }\n",
       "</style>\n",
       "<table border=\"1\" class=\"dataframe\">\n",
       "  <thead>\n",
       "    <tr style=\"text-align: right;\">\n",
       "      <th></th>\n",
       "      <th>L_F_ADD</th>\n",
       "      <th>L_T_ADD</th>\n",
       "      <th>R_F_ADD</th>\n",
       "      <th>R_T_ADD</th>\n",
       "      <th>searchable_address</th>\n",
       "      <th>CLASS</th>\n",
       "      <th>min</th>\n",
       "      <th>max</th>\n",
       "    </tr>\n",
       "  </thead>\n",
       "  <tbody>\n",
       "    <tr>\n",
       "      <th>0</th>\n",
       "      <td>0</td>\n",
       "      <td>0</td>\n",
       "      <td>6228</td>\n",
       "      <td>6248</td>\n",
       "      <td>S YALE AVE</td>\n",
       "      <td>4</td>\n",
       "      <td>0</td>\n",
       "      <td>6248</td>\n",
       "    </tr>\n",
       "    <tr>\n",
       "      <th>1</th>\n",
       "      <td>7301</td>\n",
       "      <td>7359</td>\n",
       "      <td>7300</td>\n",
       "      <td>7358</td>\n",
       "      <td>S COTTAGE GROVE AVE</td>\n",
       "      <td>2</td>\n",
       "      <td>7300</td>\n",
       "      <td>7359</td>\n",
       "    </tr>\n",
       "    <tr>\n",
       "      <th>2</th>\n",
       "      <td>10801</td>\n",
       "      <td>10859</td>\n",
       "      <td>10800</td>\n",
       "      <td>10858</td>\n",
       "      <td>S CAMPBELL AVE</td>\n",
       "      <td>4</td>\n",
       "      <td>10800</td>\n",
       "      <td>10859</td>\n",
       "    </tr>\n",
       "    <tr>\n",
       "      <th>3</th>\n",
       "      <td>0</td>\n",
       "      <td>0</td>\n",
       "      <td>11026</td>\n",
       "      <td>11032</td>\n",
       "      <td>S SANGAMON ST</td>\n",
       "      <td>4</td>\n",
       "      <td>0</td>\n",
       "      <td>11032</td>\n",
       "    </tr>\n",
       "    <tr>\n",
       "      <th>4</th>\n",
       "      <td>1933</td>\n",
       "      <td>1959</td>\n",
       "      <td>1932</td>\n",
       "      <td>1958</td>\n",
       "      <td>W 118TH ST</td>\n",
       "      <td>4</td>\n",
       "      <td>1932</td>\n",
       "      <td>1959</td>\n",
       "    </tr>\n",
       "  </tbody>\n",
       "</table>\n",
       "</div>"
      ],
      "text/plain": [
       "   L_F_ADD  L_T_ADD  R_F_ADD  R_T_ADD   searchable_address CLASS    min    max\n",
       "0        0        0     6228     6248           S YALE AVE     4      0   6248\n",
       "1     7301     7359     7300     7358  S COTTAGE GROVE AVE     2   7300   7359\n",
       "2    10801    10859    10800    10858       S CAMPBELL AVE     4  10800  10859\n",
       "3        0        0    11026    11032        S SANGAMON ST     4      0  11032\n",
       "4     1933     1959     1932     1958           W 118TH ST     4   1932   1959"
      ]
     },
     "execution_count": 52,
     "metadata": {},
     "output_type": "execute_result"
    }
   ],
   "source": [
    "city_addresses.head()"
   ]
  },
  {
   "cell_type": "code",
   "execution_count": 22,
   "id": "b46dfe24",
   "metadata": {},
   "outputs": [],
   "source": [
    "crashes_df['searchable_address'] = crashes_df['street_direction'] + ' ' + crashes_df['street_name']"
   ]
  },
  {
   "cell_type": "code",
   "execution_count": 38,
   "id": "19d8f35b",
   "metadata": {},
   "outputs": [],
   "source": [
    "crashes_df['street_no'] = pd.to_numeric(crashes_df['street_no'])"
   ]
  },
  {
   "cell_type": "code",
   "execution_count": 46,
   "id": "6fbb2623",
   "metadata": {},
   "outputs": [],
   "source": [
    "null_lanes = crashes_df[crashes_df['lane_cnt'].isna()]"
   ]
  },
  {
   "cell_type": "code",
   "execution_count": 47,
   "id": "2e1f5041",
   "metadata": {
    "collapsed": true
   },
   "outputs": [
    {
     "name": "stdout",
     "output_type": "stream",
     "text": [
      "<class 'geopandas.geodataframe.GeoDataFrame'>\n",
      "Int64Index: 434861 entries, 0 to 631403\n",
      "Data columns (total 32 columns):\n",
      " #   Column                         Non-Null Count   Dtype   \n",
      "---  ------                         --------------   -----   \n",
      " 0   injuries_fatal                 433881 non-null  float64 \n",
      " 1   injuries_non_incapacitating    433881 non-null  float64 \n",
      " 2   crash_record_id                434861 non-null  object  \n",
      " 3   injuries_incapacitating        433881 non-null  float64 \n",
      " 4   injuries_no_indication         433881 non-null  float64 \n",
      " 5   latitude                       433643 non-null  object  \n",
      " 6   street_no                      434861 non-null  int64   \n",
      " 7   injuries_unknown               433881 non-null  float64 \n",
      " 8   device_condition               434861 non-null  object  \n",
      " 9   crash_date                     434861 non-null  object  \n",
      " 10  trafficway_type                434861 non-null  object  \n",
      " 11  traffic_control_device         434861 non-null  object  \n",
      " 12  road_defect                    434861 non-null  object  \n",
      " 13  longitude                      433643 non-null  object  \n",
      " 14  crash_month                    434861 non-null  object  \n",
      " 15  street_name                    434861 non-null  object  \n",
      " 16  crash_day_of_week              434861 non-null  object  \n",
      " 17  crash_hour                     434861 non-null  object  \n",
      " 18  first_crash_type               434861 non-null  object  \n",
      " 19  injuries_reported_not_evident  433881 non-null  float64 \n",
      " 20  most_severe_injury             433878 non-null  object  \n",
      " 21  prim_contributory_cause        434861 non-null  object  \n",
      " 22  sec_contributory_cause         434861 non-null  object  \n",
      " 23  street_direction               434861 non-null  object  \n",
      " 24  posted_speed_limit             434861 non-null  object  \n",
      " 25  injuries_total                 433881 non-null  float64 \n",
      " 26  lane_cnt                       0 non-null       object  \n",
      " 27  full_address                   434861 non-null  object  \n",
      " 28  no_significant_injury          433881 non-null  float64 \n",
      " 29  injuries_not_significant       433881 non-null  float64 \n",
      " 30  geometry                       434861 non-null  geometry\n",
      " 31  searchable_address             434861 non-null  object  \n",
      "dtypes: float64(9), geometry(1), int64(1), object(21)\n",
      "memory usage: 109.5+ MB\n"
     ]
    }
   ],
   "source": [
    "null_lanes.info()"
   ]
  },
  {
   "cell_type": "code",
   "execution_count": 53,
   "id": "6267017c",
   "metadata": {},
   "outputs": [
    {
     "data": {
      "text/html": [
       "<div>\n",
       "<style scoped>\n",
       "    .dataframe tbody tr th:only-of-type {\n",
       "        vertical-align: middle;\n",
       "    }\n",
       "\n",
       "    .dataframe tbody tr th {\n",
       "        vertical-align: top;\n",
       "    }\n",
       "\n",
       "    .dataframe thead th {\n",
       "        text-align: right;\n",
       "    }\n",
       "</style>\n",
       "<table border=\"1\" class=\"dataframe\">\n",
       "  <thead>\n",
       "    <tr style=\"text-align: right;\">\n",
       "      <th></th>\n",
       "      <th>street_no</th>\n",
       "      <th>searchable_address</th>\n",
       "      <th>lane_cnt</th>\n",
       "    </tr>\n",
       "  </thead>\n",
       "  <tbody>\n",
       "    <tr>\n",
       "      <th>0</th>\n",
       "      <td>3357</td>\n",
       "      <td>W HARRISON ST</td>\n",
       "      <td>None</td>\n",
       "    </tr>\n",
       "    <tr>\n",
       "      <th>1</th>\n",
       "      <td>3410</td>\n",
       "      <td>S DAMEN AVE</td>\n",
       "      <td>None</td>\n",
       "    </tr>\n",
       "    <tr>\n",
       "      <th>2</th>\n",
       "      <td>130</td>\n",
       "      <td>W 31ST ST</td>\n",
       "      <td>None</td>\n",
       "    </tr>\n",
       "    <tr>\n",
       "      <th>3</th>\n",
       "      <td>2747</td>\n",
       "      <td>W OGDEN AVE</td>\n",
       "      <td>None</td>\n",
       "    </tr>\n",
       "    <tr>\n",
       "      <th>4</th>\n",
       "      <td>3100</td>\n",
       "      <td>S HALSTED ST</td>\n",
       "      <td>None</td>\n",
       "    </tr>\n",
       "    <tr>\n",
       "      <th>...</th>\n",
       "      <td>...</td>\n",
       "      <td>...</td>\n",
       "      <td>...</td>\n",
       "    </tr>\n",
       "    <tr>\n",
       "      <th>631398</th>\n",
       "      <td>1298</td>\n",
       "      <td>W DEVON AVE</td>\n",
       "      <td>None</td>\n",
       "    </tr>\n",
       "    <tr>\n",
       "      <th>631400</th>\n",
       "      <td>3132</td>\n",
       "      <td>S PULASKI RD</td>\n",
       "      <td>None</td>\n",
       "    </tr>\n",
       "    <tr>\n",
       "      <th>631401</th>\n",
       "      <td>199</td>\n",
       "      <td>N SACRAMENTO BLVD</td>\n",
       "      <td>None</td>\n",
       "    </tr>\n",
       "    <tr>\n",
       "      <th>631402</th>\n",
       "      <td>7400</td>\n",
       "      <td>S EXCHANGE AVE</td>\n",
       "      <td>None</td>\n",
       "    </tr>\n",
       "    <tr>\n",
       "      <th>631403</th>\n",
       "      <td>415</td>\n",
       "      <td>W LAKE ST</td>\n",
       "      <td>None</td>\n",
       "    </tr>\n",
       "  </tbody>\n",
       "</table>\n",
       "<p>434861 rows × 3 columns</p>\n",
       "</div>"
      ],
      "text/plain": [
       "        street_no searchable_address lane_cnt\n",
       "0            3357      W HARRISON ST     None\n",
       "1            3410        S DAMEN AVE     None\n",
       "2             130          W 31ST ST     None\n",
       "3            2747        W OGDEN AVE     None\n",
       "4            3100       S HALSTED ST     None\n",
       "...           ...                ...      ...\n",
       "631398       1298        W DEVON AVE     None\n",
       "631400       3132       S PULASKI RD     None\n",
       "631401        199  N SACRAMENTO BLVD     None\n",
       "631402       7400     S EXCHANGE AVE     None\n",
       "631403        415          W LAKE ST     None\n",
       "\n",
       "[434861 rows x 3 columns]"
      ]
     },
     "execution_count": 53,
     "metadata": {},
     "output_type": "execute_result"
    }
   ],
   "source": [
    "null_lanes[['street_no','searchable_address','lane_cnt']]"
   ]
  },
  {
   "cell_type": "code",
   "execution_count": null,
   "id": "6ac03aa1",
   "metadata": {},
   "outputs": [],
   "source": [
    "from tqdm.notebook import tqdm\n",
    "#wrap null_lanes.iterrows in tqdm\n",
    "#creates progress bar"
   ]
  },
  {
   "cell_type": "code",
   "execution_count": 58,
   "id": "363e4913",
   "metadata": {},
   "outputs": [
    {
     "ename": "KeyboardInterrupt",
     "evalue": "",
     "output_type": "error",
     "traceback": [
      "\u001b[0;31m---------------------------------------------------------------------------\u001b[0m",
      "\u001b[0;31mKeyboardInterrupt\u001b[0m                         Traceback (most recent call last)",
      "Input \u001b[0;32mIn [58]\u001b[0m, in \u001b[0;36m<cell line: 1>\u001b[0;34m()\u001b[0m\n\u001b[1;32m      1\u001b[0m \u001b[38;5;28;01mfor\u001b[39;00m null_index, null_row \u001b[38;5;129;01min\u001b[39;00m null_lanes\u001b[38;5;241m.\u001b[39miterrows():\n\u001b[0;32m----> 2\u001b[0m     \u001b[38;5;28;01mfor\u001b[39;00m index, row \u001b[38;5;129;01min\u001b[39;00m city_addresses\u001b[38;5;241m.\u001b[39miterrows():\n\u001b[1;32m      3\u001b[0m         \u001b[38;5;28;01mif\u001b[39;00m row[\u001b[38;5;124m'\u001b[39m\u001b[38;5;124mmin\u001b[39m\u001b[38;5;124m'\u001b[39m] \u001b[38;5;241m<\u001b[39m\u001b[38;5;241m=\u001b[39m null_row\u001b[38;5;241m.\u001b[39mstreet_no \u001b[38;5;241m<\u001b[39m\u001b[38;5;241m=\u001b[39m row[\u001b[38;5;124m'\u001b[39m\u001b[38;5;124mmax\u001b[39m\u001b[38;5;124m'\u001b[39m] \u001b[38;5;129;01mand\u001b[39;00m null_row\u001b[38;5;241m.\u001b[39msearchable_address \u001b[38;5;241m==\u001b[39m row\u001b[38;5;241m.\u001b[39msearchable_address:\n\u001b[1;32m      4\u001b[0m             null_lanes\u001b[38;5;241m.\u001b[39mat[null_index, \u001b[38;5;124m'\u001b[39m\u001b[38;5;124mlane_cnt\u001b[39m\u001b[38;5;124m'\u001b[39m] \u001b[38;5;241m=\u001b[39m row\u001b[38;5;241m.\u001b[39mCLASS\n",
      "File \u001b[0;32m~/anaconda3/envs/geospatial/lib/python3.8/site-packages/pandas/core/frame.py:1324\u001b[0m, in \u001b[0;36mDataFrame.iterrows\u001b[0;34m(self)\u001b[0m\n\u001b[1;32m   1322\u001b[0m klass \u001b[38;5;241m=\u001b[39m \u001b[38;5;28mself\u001b[39m\u001b[38;5;241m.\u001b[39m_constructor_sliced\n\u001b[1;32m   1323\u001b[0m \u001b[38;5;28;01mfor\u001b[39;00m k, v \u001b[38;5;129;01min\u001b[39;00m \u001b[38;5;28mzip\u001b[39m(\u001b[38;5;28mself\u001b[39m\u001b[38;5;241m.\u001b[39mindex, \u001b[38;5;28mself\u001b[39m\u001b[38;5;241m.\u001b[39mvalues):\n\u001b[0;32m-> 1324\u001b[0m     s \u001b[38;5;241m=\u001b[39m \u001b[43mklass\u001b[49m\u001b[43m(\u001b[49m\u001b[43mv\u001b[49m\u001b[43m,\u001b[49m\u001b[43m \u001b[49m\u001b[43mindex\u001b[49m\u001b[38;5;241;43m=\u001b[39;49m\u001b[43mcolumns\u001b[49m\u001b[43m,\u001b[49m\u001b[43m \u001b[49m\u001b[43mname\u001b[49m\u001b[38;5;241;43m=\u001b[39;49m\u001b[43mk\u001b[49m\u001b[43m)\u001b[49m\n\u001b[1;32m   1325\u001b[0m     \u001b[38;5;28;01myield\u001b[39;00m k, s\n",
      "File \u001b[0;32m~/anaconda3/envs/geospatial/lib/python3.8/site-packages/pandas/core/series.py:451\u001b[0m, in \u001b[0;36mSeries.__init__\u001b[0;34m(self, data, index, dtype, name, copy, fastpath)\u001b[0m\n\u001b[1;32m    449\u001b[0m         data \u001b[38;5;241m=\u001b[39m data\u001b[38;5;241m.\u001b[39mcopy()\n\u001b[1;32m    450\u001b[0m \u001b[38;5;28;01melse\u001b[39;00m:\n\u001b[0;32m--> 451\u001b[0m     data \u001b[38;5;241m=\u001b[39m \u001b[43msanitize_array\u001b[49m\u001b[43m(\u001b[49m\u001b[43mdata\u001b[49m\u001b[43m,\u001b[49m\u001b[43m \u001b[49m\u001b[43mindex\u001b[49m\u001b[43m,\u001b[49m\u001b[43m \u001b[49m\u001b[43mdtype\u001b[49m\u001b[43m,\u001b[49m\u001b[43m \u001b[49m\u001b[43mcopy\u001b[49m\u001b[43m)\u001b[49m\n\u001b[1;32m    453\u001b[0m     manager \u001b[38;5;241m=\u001b[39m get_option(\u001b[38;5;124m\"\u001b[39m\u001b[38;5;124mmode.data_manager\u001b[39m\u001b[38;5;124m\"\u001b[39m)\n\u001b[1;32m    454\u001b[0m     \u001b[38;5;28;01mif\u001b[39;00m manager \u001b[38;5;241m==\u001b[39m \u001b[38;5;124m\"\u001b[39m\u001b[38;5;124mblock\u001b[39m\u001b[38;5;124m\"\u001b[39m:\n",
      "File \u001b[0;32m~/anaconda3/envs/geospatial/lib/python3.8/site-packages/pandas/core/construction.py:511\u001b[0m, in \u001b[0;36msanitize_array\u001b[0;34m(data, index, dtype, copy, raise_cast_failure, allow_2d)\u001b[0m\n\u001b[1;32m    508\u001b[0m     dtype \u001b[38;5;241m=\u001b[39m dtype\u001b[38;5;241m.\u001b[39mnumpy_dtype\n\u001b[1;32m    510\u001b[0m \u001b[38;5;66;03m# extract ndarray or ExtensionArray, ensure we have no PandasArray\u001b[39;00m\n\u001b[0;32m--> 511\u001b[0m data \u001b[38;5;241m=\u001b[39m \u001b[43mextract_array\u001b[49m\u001b[43m(\u001b[49m\u001b[43mdata\u001b[49m\u001b[43m,\u001b[49m\u001b[43m \u001b[49m\u001b[43mextract_numpy\u001b[49m\u001b[38;5;241;43m=\u001b[39;49m\u001b[38;5;28;43;01mTrue\u001b[39;49;00m\u001b[43m,\u001b[49m\u001b[43m \u001b[49m\u001b[43mextract_range\u001b[49m\u001b[38;5;241;43m=\u001b[39;49m\u001b[38;5;28;43;01mTrue\u001b[39;49;00m\u001b[43m)\u001b[49m\n\u001b[1;32m    513\u001b[0m \u001b[38;5;28;01mif\u001b[39;00m \u001b[38;5;28misinstance\u001b[39m(data, np\u001b[38;5;241m.\u001b[39mndarray) \u001b[38;5;129;01mand\u001b[39;00m data\u001b[38;5;241m.\u001b[39mndim \u001b[38;5;241m==\u001b[39m \u001b[38;5;241m0\u001b[39m:\n\u001b[1;32m    514\u001b[0m     \u001b[38;5;28;01mif\u001b[39;00m dtype \u001b[38;5;129;01mis\u001b[39;00m \u001b[38;5;28;01mNone\u001b[39;00m:\n",
      "File \u001b[0;32m~/anaconda3/envs/geospatial/lib/python3.8/site-packages/pandas/core/construction.py:424\u001b[0m, in \u001b[0;36mextract_array\u001b[0;34m(obj, extract_numpy, extract_range)\u001b[0m\n\u001b[1;32m    379\u001b[0m \u001b[38;5;28;01mdef\u001b[39;00m \u001b[38;5;21mextract_array\u001b[39m(\n\u001b[1;32m    380\u001b[0m     obj: \u001b[38;5;28mobject\u001b[39m, extract_numpy: \u001b[38;5;28mbool\u001b[39m \u001b[38;5;241m=\u001b[39m \u001b[38;5;28;01mFalse\u001b[39;00m, extract_range: \u001b[38;5;28mbool\u001b[39m \u001b[38;5;241m=\u001b[39m \u001b[38;5;28;01mFalse\u001b[39;00m\n\u001b[1;32m    381\u001b[0m ) \u001b[38;5;241m-\u001b[39m\u001b[38;5;241m>\u001b[39m Any \u001b[38;5;241m|\u001b[39m ArrayLike:\n\u001b[1;32m    382\u001b[0m     \u001b[38;5;124;03m\"\"\"\u001b[39;00m\n\u001b[1;32m    383\u001b[0m \u001b[38;5;124;03m    Extract the ndarray or ExtensionArray from a Series or Index.\u001b[39;00m\n\u001b[1;32m    384\u001b[0m \n\u001b[0;32m   (...)\u001b[0m\n\u001b[1;32m    422\u001b[0m \u001b[38;5;124;03m    array([1, 2, 3])\u001b[39;00m\n\u001b[1;32m    423\u001b[0m \u001b[38;5;124;03m    \"\"\"\u001b[39;00m\n\u001b[0;32m--> 424\u001b[0m     \u001b[38;5;28;01mif\u001b[39;00m \u001b[38;5;28;43misinstance\u001b[39;49m\u001b[43m(\u001b[49m\u001b[43mobj\u001b[49m\u001b[43m,\u001b[49m\u001b[43m \u001b[49m\u001b[43m(\u001b[49m\u001b[43mABCIndex\u001b[49m\u001b[43m,\u001b[49m\u001b[43m \u001b[49m\u001b[43mABCSeries\u001b[49m\u001b[43m)\u001b[49m\u001b[43m)\u001b[49m:\n\u001b[1;32m    425\u001b[0m         \u001b[38;5;28;01mif\u001b[39;00m \u001b[38;5;28misinstance\u001b[39m(obj, ABCRangeIndex):\n\u001b[1;32m    426\u001b[0m             \u001b[38;5;28;01mif\u001b[39;00m extract_range:\n",
      "File \u001b[0;32m~/anaconda3/envs/geospatial/lib/python3.8/site-packages/pandas/core/dtypes/generic.py:43\u001b[0m, in \u001b[0;36mcreate_pandas_abc_type.<locals>._check\u001b[0;34m(cls, inst)\u001b[0m\n\u001b[1;32m     39\u001b[0m \u001b[38;5;28;01mdef\u001b[39;00m \u001b[38;5;21mcreate_pandas_abc_type\u001b[39m(name, attr, comp):\n\u001b[1;32m     40\u001b[0m \n\u001b[1;32m     41\u001b[0m     \u001b[38;5;66;03m# https://github.com/python/mypy/issues/1006\u001b[39;00m\n\u001b[1;32m     42\u001b[0m     \u001b[38;5;66;03m# error: 'classmethod' used with a non-method\u001b[39;00m\n\u001b[0;32m---> 43\u001b[0m     \u001b[38;5;129m@classmethod\u001b[39m  \u001b[38;5;66;03m# type: ignore[misc]\u001b[39;00m\n\u001b[1;32m     44\u001b[0m     \u001b[38;5;28;01mdef\u001b[39;00m \u001b[38;5;21m_check\u001b[39m(\u001b[38;5;28mcls\u001b[39m, inst) \u001b[38;5;241m-\u001b[39m\u001b[38;5;241m>\u001b[39m \u001b[38;5;28mbool\u001b[39m:\n\u001b[1;32m     45\u001b[0m         \u001b[38;5;28;01mreturn\u001b[39;00m \u001b[38;5;28mgetattr\u001b[39m(inst, attr, \u001b[38;5;124m\"\u001b[39m\u001b[38;5;124m_typ\u001b[39m\u001b[38;5;124m\"\u001b[39m) \u001b[38;5;129;01min\u001b[39;00m comp\n\u001b[1;32m     47\u001b[0m     dct \u001b[38;5;241m=\u001b[39m {\u001b[38;5;124m\"\u001b[39m\u001b[38;5;124m__instancecheck__\u001b[39m\u001b[38;5;124m\"\u001b[39m: _check, \u001b[38;5;124m\"\u001b[39m\u001b[38;5;124m__subclasscheck__\u001b[39m\u001b[38;5;124m\"\u001b[39m: _check}\n",
      "\u001b[0;31mKeyboardInterrupt\u001b[0m: "
     ]
    }
   ],
   "source": [
    "for null_index, null_row in null_lanes.iterrows():\n",
    "    for index, row in city_addresses.iterrows():\n",
    "        if row['min'] <= null_row.street_no <= row['max'] and null_row.searchable_address == row.searchable_address:\n",
    "            null_lanes.at[null_index, 'lane_cnt'] = row.CLASS\n",
    "            break"
   ]
  },
  {
   "cell_type": "code",
   "execution_count": null,
   "id": "ab760d78",
   "metadata": {},
   "outputs": [],
   "source": [
    "null_lanes[['street_no','searchable_address','lane_cnt']]"
   ]
  },
  {
   "cell_type": "code",
   "execution_count": null,
   "id": "70642747",
   "metadata": {},
   "outputs": [],
   "source": [
    " if row.street_no between \n",
    "        for row min and row.max and searchable_address = searchable_address :\n",
    "        return class at \n",
    "                crashes_df.at[index, 'geometry'] = Point((location.longitude, location.latitude))"
   ]
  }
 ],
 "metadata": {
  "kernelspec": {
   "display_name": "Python 3 (ipykernel)",
   "language": "python",
   "name": "python3"
  },
  "language_info": {
   "codemirror_mode": {
    "name": "ipython",
    "version": 3
   },
   "file_extension": ".py",
   "mimetype": "text/x-python",
   "name": "python",
   "nbconvert_exporter": "python",
   "pygments_lexer": "ipython3",
   "version": "3.8.5"
  }
 },
 "nbformat": 4,
 "nbformat_minor": 5
}
