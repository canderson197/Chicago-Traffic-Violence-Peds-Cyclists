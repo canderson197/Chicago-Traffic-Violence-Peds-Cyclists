{
 "cells": [
  {
   "cell_type": "code",
   "execution_count": 2,
   "id": "509b231d",
   "metadata": {},
   "outputs": [],
   "source": [
    "from shapely.geometry import Point, MultiLineString\n",
    "import geopandas as gpd\n",
    "import pandas as pd\n",
    "import numpy as np\n",
    "import matplotlib.pyplot as plt\n",
    "import requests\n",
    "import json\n",
    "import folium\n",
    "from folium.plugins import MarkerCluster\n",
    "from folium.plugins import FastMarkerCluster\n",
    "#from geopy.geocoders import Nominatim\n",
    "%matplotlib inline "
   ]
  },
  {
   "cell_type": "markdown",
   "id": "1a793439",
   "metadata": {},
   "source": [
    "## get crashes_df from the API and clean"
   ]
  },
  {
   "cell_type": "code",
   "execution_count": null,
   "id": "e2a19949",
   "metadata": {},
   "outputs": [],
   "source": [
    "endpoint_crashes = 'https://data.cityofchicago.org/resource/85ca-t3if.geojson?$select=crash_record_id,crash_date,posted_speed_limit,traffic_control_device,device_condition,first_crash_type,trafficway_type,lane_cnt,road_defect,prim_contributory_cause,sec_contributory_cause,most_severe_injury,injuries_total,injuries_fatal,injuries_incapacitating,injuries_non_incapacitating,injuries_reported_not_evident,injuries_no_indication,injuries_unknown,crash_hour,crash_day_of_week,crash_month,street_no,street_direction,street_name,latitude,longitude,location&$limit=650000'\n",
    "res = requests.get(endpoint_crashes)\n",
    "res = res.json()"
   ]
  },
  {
   "cell_type": "code",
   "execution_count": null,
   "id": "1860e2d2",
   "metadata": {
    "scrolled": true
   },
   "outputs": [],
   "source": [
    "crashes_df = gpd.GeoDataFrame.from_features(res['features'])"
   ]
  },
  {
   "cell_type": "code",
   "execution_count": null,
   "id": "5846a67a",
   "metadata": {
    "scrolled": true
   },
   "outputs": [],
   "source": [
    "crashes_df.info()"
   ]
  },
  {
   "cell_type": "code",
   "execution_count": null,
   "id": "a02575fd",
   "metadata": {},
   "outputs": [],
   "source": [
    "type(crashes_df)"
   ]
  },
  {
   "cell_type": "code",
   "execution_count": null,
   "id": "f6ee8046",
   "metadata": {},
   "outputs": [],
   "source": [
    "#filter out crashes where there was debris on roadway\n",
    "crashes_df = crashes_df.loc[crashes_df['road_defect'] != 'DEBRIS ON ROADWAY']"
   ]
  },
  {
   "cell_type": "code",
   "execution_count": null,
   "id": "ce87c829",
   "metadata": {},
   "outputs": [],
   "source": [
    "#filter out crashes where the traffic control device was functioning improperly or not functioning\n",
    "device_not_working = ['FUNCTIONING IMPROPERLY','NOT FUNCTIONING']\n",
    "crashes_df = crashes_df.loc[~crashes_df['device_condition'].isin(device_not_working)]\n",
    "#crashes.loc[crashes['crash_record_id'].isin(crash_id_peds)]"
   ]
  },
  {
   "cell_type": "code",
   "execution_count": null,
   "id": "31c7a06d",
   "metadata": {},
   "outputs": [],
   "source": [
    "#there is one row in there with POINT of (0,0) and it throws off plotting the map later on, so get rid of it\n",
    "crashes_df = crashes_df[crashes_df['geometry'].x != 0]"
   ]
  },
  {
   "cell_type": "code",
   "execution_count": null,
   "id": "951096f6",
   "metadata": {},
   "outputs": [],
   "source": [
    "#concat full address\n",
    "crashes_df['full_address'] = crashes_df['street_no'] + ' ' + crashes_df['street_direction'] + ' ' + crashes_df['street_name'] + ' CHICAGO IL'"
   ]
  },
  {
   "cell_type": "code",
   "execution_count": null,
   "id": "9d78fabf",
   "metadata": {},
   "outputs": [],
   "source": [
    "#filter out 5 rows with null full_address\n",
    "crashes_df = crashes_df[crashes_df['full_address'].notna()]"
   ]
  },
  {
   "cell_type": "code",
   "execution_count": null,
   "id": "dc6546a4",
   "metadata": {},
   "outputs": [],
   "source": [
    "#how many null geometries are there? 3877\n",
    "len(crashes_df[crashes_df['geometry'].isna()])"
   ]
  },
  {
   "cell_type": "code",
   "execution_count": null,
   "id": "330c0ded",
   "metadata": {},
   "outputs": [],
   "source": [
    "#geopy code. this takes an address and generates long/lat\n",
    "#checking to see if it works for one single row before applying to larger set\n",
    "geolocator = Nominatim(user_agent=\"colin\")\n",
    "location = geolocator.geocode(crashes_df.loc[1,'full_address'])\n",
    "print(location.address)\n",
    "print((location.longitude, location.latitude))"
   ]
  },
  {
   "cell_type": "code",
   "execution_count": null,
   "id": "af54271d",
   "metadata": {},
   "outputs": [],
   "source": [
    "#check what data type is generated\n",
    "type(location.longitude)"
   ]
  },
  {
   "cell_type": "code",
   "execution_count": null,
   "id": "5c3d910e",
   "metadata": {},
   "outputs": [],
   "source": [
    "#could try counter, progress bar\n",
    "#this code looks at every row of crashes_df. it tries to generate long/lat using the full_address. if it can't, it prints the index. if it can, it makes it into a POINT geometry and puts it in the geometry column in the row it got the address from\n",
    "for index, row in crashes_df.iterrows():\n",
    "    if row.geometry is None:\n",
    "        try:\n",
    "            geolocator = Nominatim(user_agent=\"colin\")\n",
    "            location = geolocator.geocode(row['full_address'])\n",
    "            crashes_df.at[index, 'geometry'] = Point((location.longitude, location.latitude))\n",
    "        except: \n",
    "            print(index)"
   ]
  },
  {
   "cell_type": "code",
   "execution_count": null,
   "id": "1398a4b5",
   "metadata": {
    "scrolled": true
   },
   "outputs": [],
   "source": [
    "#how many null geometries are there now that we populated missing ones from the address?\n",
    "#there are still 2097. that must be how many weird addresses there are that it can't generate a lat/long for.\n",
    "#addresses like '1 w parking lot a' \n",
    "crashes_df[crashes_df['geometry'].isna()]"
   ]
  },
  {
   "cell_type": "code",
   "execution_count": null,
   "id": "f8658ae1",
   "metadata": {},
   "outputs": [],
   "source": [
    "#remove null geometries that we could not generate a POINT for from the address\n",
    "crashes_df = crashes_df[crashes_df['geometry'].notna()]"
   ]
  },
  {
   "cell_type": "code",
   "execution_count": 1,
   "id": "192f87b0",
   "metadata": {},
   "outputs": [
    {
     "ename": "NameError",
     "evalue": "name 'crashes_df' is not defined",
     "output_type": "error",
     "traceback": [
      "\u001b[0;31m---------------------------------------------------------------------------\u001b[0m",
      "\u001b[0;31mNameError\u001b[0m                                 Traceback (most recent call last)",
      "Input \u001b[0;32mIn [1]\u001b[0m, in \u001b[0;36m<cell line: 1>\u001b[0;34m()\u001b[0m\n\u001b[0;32m----> 1\u001b[0m \u001b[43mcrashes_df\u001b[49m\u001b[38;5;241m.\u001b[39minfo()\n",
      "\u001b[0;31mNameError\u001b[0m: name 'crashes_df' is not defined"
     ]
    }
   ],
   "source": [
    "crashes_df.info()"
   ]
  },
  {
   "cell_type": "code",
   "execution_count": 9,
   "id": "4a4dc7cd",
   "metadata": {},
   "outputs": [
    {
     "data": {
      "text/plain": [
       "Index(['injuries_fatal', 'injuries_non_incapacitating', 'crash_record_id',\n",
       "       'injuries_incapacitating', 'injuries_no_indication', 'latitude',\n",
       "       'street_no', 'device_condition', 'crash_date', 'trafficway_type',\n",
       "       'traffic_control_device', 'road_defect', 'longitude', 'crash_month',\n",
       "       'street_name', 'crash_day_of_week', 'crash_hour', 'first_crash_type',\n",
       "       'injuries_reported_not_evident', 'most_severe_injury',\n",
       "       'prim_contributory_cause', 'sec_contributory_cause', 'street_direction',\n",
       "       'posted_speed_limit', 'injuries_total', 'lane_cnt', 'full_address',\n",
       "       'month_name', 'year', 'geometry', 'injuries_none'],\n",
       "      dtype='object')"
      ]
     },
     "execution_count": 9,
     "metadata": {},
     "output_type": "execute_result"
    }
   ],
   "source": [
    "crashes_df.columns"
   ]
  },
  {
   "cell_type": "code",
   "execution_count": null,
   "id": "9b141e2f",
   "metadata": {},
   "outputs": [],
   "source": [
    "#convert injury counts from strings to integers\n",
    "crashes_df['injuries_fatal'] = pd.to_numeric(crashes_df['injuries_fatal'])\n",
    "crashes_df['injuries_non_incapacitating'] = pd.to_numeric(crashes_df['injuries_non_incapacitating'])\n",
    "crashes_df['injuries_no_indication'] = pd.to_numeric(crashes_df['injuries_no_indication'])\n",
    "crashes_df['injuries_incapacitating'] = pd.to_numeric(crashes_df['injuries_incapacitating'])\n",
    "crashes_df['injuries_unknown'] = pd.to_numeric(crashes_df['injuries_unknown'])\n",
    "crashes_df['injuries_total'] = pd.to_numeric(crashes_df['injuries_total'])\n",
    "crashes_df['injuries_reported_not_evident'] = pd.to_numeric(crashes_df['injuries_reported_not_evident'])"
   ]
  },
  {
   "cell_type": "code",
   "execution_count": 6,
   "id": "8823a32d",
   "metadata": {},
   "outputs": [],
   "source": [
    "#combine \"injuries reported not evident\" and \"injuries no indication\" into category called \"injuries none\"\n",
    "crashes_df['injuries_none'] = crashes_df['injuries_reported_not_evident'] + crashes_df['injuries_no_indication']"
   ]
  },
  {
   "cell_type": "code",
   "execution_count": null,
   "id": "0118ca08",
   "metadata": {},
   "outputs": [],
   "source": [
    "#check that 2nd and 3rd add up to 1st\n",
    "crashes_df[['injuries_none', 'injuries_reported_not_evident', 'injuries_no_indication']]"
   ]
  },
  {
   "cell_type": "code",
   "execution_count": 8,
   "id": "a402eb8b",
   "metadata": {},
   "outputs": [],
   "source": [
    "#had to go back in and rename to \"injuries none\" and delete 2 created columns (first 2) and 1 unnecessary original column (unknown)\n",
    "crashes_df = crashes_df.drop(['no_significant_injury', 'injuries_not_significant','injuries_unknown'], axis=1)"
   ]
  },
  {
   "cell_type": "code",
   "execution_count": null,
   "id": "777ce345",
   "metadata": {},
   "outputs": [],
   "source": [
    "crashes_df = crashes_df.reset_index(drop=True)"
   ]
  },
  {
   "cell_type": "markdown",
   "id": "4c2023f3",
   "metadata": {},
   "source": [
    "### create separate year & month/year columns"
   ]
  },
  {
   "cell_type": "code",
   "execution_count": null,
   "id": "78a74b7b",
   "metadata": {},
   "outputs": [],
   "source": [
    "crashes_df['month_name'] = crashes_df['crash_date'].dt.month_name()"
   ]
  },
  {
   "cell_type": "code",
   "execution_count": null,
   "id": "036e9ccd",
   "metadata": {},
   "outputs": [],
   "source": [
    "crashes_df['year'] = crashes_df['crash_date'].dt.year"
   ]
  },
  {
   "cell_type": "code",
   "execution_count": null,
   "id": "1cbcb8f4",
   "metadata": {},
   "outputs": [],
   "source": [
    "crashes_df.info()"
   ]
  },
  {
   "cell_type": "code",
   "execution_count": 10,
   "id": "597b4a2d",
   "metadata": {},
   "outputs": [],
   "source": [
    "#save crashes_df as geojson\n",
    "crashes_df.to_file(\"data/crashes_cleaned.geojson\", driver='GeoJSON')"
   ]
  },
  {
   "cell_type": "markdown",
   "id": "7fd886a3",
   "metadata": {},
   "source": [
    "## get pedestrians from the people API, clean, export to CSV"
   ]
  },
  {
   "cell_type": "code",
   "execution_count": null,
   "id": "e9538e87",
   "metadata": {},
   "outputs": [],
   "source": [
    "endpoint_people = 'https://data.cityofchicago.org/resource/u6pd-qa9d.json?person_type=PEDESTRIAN&$limit=16000'\n",
    "res = requests.get(endpoint_people)\n",
    "res = res.json()\n",
    "peds_df = pd.DataFrame(res)"
   ]
  },
  {
   "cell_type": "code",
   "execution_count": null,
   "id": "2f051951",
   "metadata": {},
   "outputs": [],
   "source": [
    "peds_df['injury_classification'].value_counts()"
   ]
  },
  {
   "cell_type": "code",
   "execution_count": null,
   "id": "e8eef930",
   "metadata": {
    "scrolled": true
   },
   "outputs": [],
   "source": [
    "#remove peds who were impaired by drugs or alcohol or both\n",
    "#DON'T filter in ['NORMAL','UNKNOWN','REMOVED BY EMS','OTHER','EMOTIONAL'] b/c you lose 1000 NaNs \n",
    "#instead, filter OUT with impaired_list and ~\n",
    "\n",
    "impaired_list = ['IMPAIRED - ALCOHOL',\n",
    "'HAD BEEN DRINKING',\n",
    "'IMPAIRED - DRUGS',\n",
    "'IMPAIRED - ALCOHOL AND DRUGS',\n",
    "'FATIGUED/ASLEEP',\n",
    "'ILLNESS/FAINTED',\n",
    "'MEDICATED']\n",
    "peds_df = peds_df.loc[~peds_df['physical_condition'].isin(impaired_list)]"
   ]
  },
  {
   "cell_type": "code",
   "execution_count": null,
   "id": "b6de0d20",
   "metadata": {},
   "outputs": [],
   "source": [
    "#remove pedpedal_action \"INTOXICATED\"\n",
    "peds_df = peds_df.loc[peds_df['pedpedal_action'] != 'INTOXICATED PED/PEDAL']"
   ]
  },
  {
   "cell_type": "code",
   "execution_count": null,
   "id": "b64338ca",
   "metadata": {},
   "outputs": [],
   "source": [
    "peds_df = peds_df.reset_index(drop=True)"
   ]
  },
  {
   "cell_type": "code",
   "execution_count": null,
   "id": "8d977d36",
   "metadata": {},
   "outputs": [],
   "source": [
    "#create new value called \"NO SIGNIFICANT INJURY\" in the injury_classification column by combining \"REPORTED, NOT EVIDENT\" and \"NO INDICATION OF INJURY\"\n",
    "#this makes more semantic sense for our purposes (the 2 original categories probably exist for police/legal purposes)\n",
    "for index, row in peds_df.iterrows():\n",
    "    if row.injury_classification == \"REPORTED, NOT EVIDENT\":\n",
    "        peds_df.loc[index, 'injury_classification'] = 'NO INJURY'\n",
    "    elif row.injury_classification == \"NO INDICATION OF INJURY\":\n",
    "        peds_df.loc[index, 'injury_classification'] = 'NO INJURY'"
   ]
  },
  {
   "cell_type": "code",
   "execution_count": 13,
   "id": "d17f6e25",
   "metadata": {},
   "outputs": [],
   "source": [
    "#went back in and changed \"NO SIGNIFICANT INJURY\" to \"NO INJURY\" cuz semantically it makes more sense. it's people who were involved in the crash but who were no injured. the field is NOT used in calculating injuries_total\n",
    "for index, row in peds_df.iterrows():\n",
    "    if row.injury_classification == \"NO SIGNIFICANT INJURY\":\n",
    "        peds_df.loc[index, 'injury_classification'] = 'NO INJURY'"
   ]
  },
  {
   "cell_type": "code",
   "execution_count": 14,
   "id": "ead5d559",
   "metadata": {},
   "outputs": [
    {
     "data": {
      "text/plain": [
       "NONINCAPACITATING INJURY    8075\n",
       "NO INJURY                   4467\n",
       "INCAPACITATING INJURY       2575\n",
       "FATAL                        191\n",
       "Name: injury_classification, dtype: int64"
      ]
     },
     "execution_count": 14,
     "metadata": {},
     "output_type": "execute_result"
    }
   ],
   "source": [
    "#make sure it worked\n",
    "peds_df['injury_classification'].value_counts()"
   ]
  },
  {
   "cell_type": "code",
   "execution_count": 15,
   "id": "e840542a",
   "metadata": {},
   "outputs": [],
   "source": [
    "peds_df.to_csv('data/peds_cleaned_df.csv')"
   ]
  },
  {
   "cell_type": "markdown",
   "id": "c2e37b1c",
   "metadata": {},
   "source": [
    "## get cyclists from the people API, clean, export to CSV"
   ]
  },
  {
   "cell_type": "code",
   "execution_count": null,
   "id": "d5f54a76",
   "metadata": {},
   "outputs": [],
   "source": [
    "endpoint_people = 'https://data.cityofchicago.org/resource/u6pd-qa9d.json?person_type=BICYCLE&$limit=16000'\n",
    "res = requests.get(endpoint_people)\n",
    "res = res.json()\n",
    "cyclists_df = pd.DataFrame(res)"
   ]
  },
  {
   "cell_type": "code",
   "execution_count": null,
   "id": "7e43e5f8",
   "metadata": {},
   "outputs": [],
   "source": [
    "cyclists_df.info()"
   ]
  },
  {
   "cell_type": "code",
   "execution_count": null,
   "id": "d829e8c3",
   "metadata": {},
   "outputs": [],
   "source": [
    "#remove cyclists who were impaired by drugs or alcohol or both\n",
    "#DON'T filter in ['NORMAL','UNKNOWN','REMOVED BY EMS','OTHER','EMOTIONAL'] b/c you lose NaNs \n",
    "#instead, filter OUT with impaired_list and ~\n",
    "\n",
    "impaired_list = ['IMPAIRED - ALCOHOL',\n",
    "'HAD BEEN DRINKING',\n",
    "'IMPAIRED - DRUGS',\n",
    "'IMPAIRED - ALCOHOL AND DRUGS',\n",
    "'FATIGUED/ASLEEP',\n",
    "'ILLNESS/FAINTED',\n",
    "'MEDICATED']\n",
    "cyclists_df = cyclists_df.loc[~cyclists_df['physical_condition'].isin(impaired_list)]"
   ]
  },
  {
   "cell_type": "code",
   "execution_count": null,
   "id": "35dc695e",
   "metadata": {},
   "outputs": [],
   "source": [
    "#remove pedpedal_action \"INTOXICATED\"\n",
    "cyclists_df = cyclists_df.loc[cyclists_df['pedpedal_action'] != 'INTOXICATED PED/PEDAL']"
   ]
  },
  {
   "cell_type": "code",
   "execution_count": null,
   "id": "bf4a4ff5",
   "metadata": {},
   "outputs": [],
   "source": [
    "cyclists_df = cyclists_df.reset_index(drop=True)"
   ]
  },
  {
   "cell_type": "code",
   "execution_count": null,
   "id": "cecbff95",
   "metadata": {},
   "outputs": [],
   "source": [
    "for index, row in cyclists_df.iterrows():\n",
    "    if row.injury_classification == \"REPORTED, NOT EVIDENT\":\n",
    "        cyclists_df.loc[index, 'injury_classification'] = 'NO SIGNIFICANT INJURY'\n",
    "    elif row.injury_classification == \"NO INDICATION OF INJURY\":\n",
    "        cyclists_df.loc[index, 'injury_classification'] = 'NO SIGNIFICANT INJURY'"
   ]
  },
  {
   "cell_type": "code",
   "execution_count": 18,
   "id": "4beca36d",
   "metadata": {},
   "outputs": [],
   "source": [
    "#went back in and changed \"NO SIGNIFICANT INJURY\" to \"NO INJURY\" cuz semantically it makes more sense. it's people who were involved in the crash but who were no injured. the field is NOT used in calculating injuries_total\n",
    "for index, row in cyclists_df.iterrows():\n",
    "    if row.injury_classification == \"NO SIGNIFICANT INJURY\":\n",
    "        cyclists_df.loc[index, 'injury_classification'] = 'NO INJURY'"
   ]
  },
  {
   "cell_type": "code",
   "execution_count": 19,
   "id": "aeb55fb6",
   "metadata": {},
   "outputs": [
    {
     "data": {
      "text/plain": [
       "NONINCAPACITATING INJURY    4556\n",
       "NO INJURY                   4026\n",
       "INCAPACITATING INJURY        862\n",
       "FATAL                         29\n",
       "Name: injury_classification, dtype: int64"
      ]
     },
     "execution_count": 19,
     "metadata": {},
     "output_type": "execute_result"
    }
   ],
   "source": [
    "cyclists_df['injury_classification'].value_counts()"
   ]
  },
  {
   "cell_type": "code",
   "execution_count": 20,
   "id": "b3ad2caa",
   "metadata": {},
   "outputs": [],
   "source": [
    "cyclists_df.to_csv('data/cyclists_cleaned_df.csv')"
   ]
  },
  {
   "cell_type": "markdown",
   "id": "588377b6",
   "metadata": {},
   "source": [
    "# crash_date cleaning"
   ]
  },
  {
   "cell_type": "code",
   "execution_count": 23,
   "id": "1175608c",
   "metadata": {},
   "outputs": [],
   "source": [
    "cyclists_df['crash_date'] = pd.to_datetime(cyclists_df['crash_date'])"
   ]
  },
  {
   "cell_type": "code",
   "execution_count": 14,
   "id": "b21a0b32",
   "metadata": {
    "collapsed": true
   },
   "outputs": [
    {
     "data": {
      "text/plain": [
       "0       2022-08-08 17:22:00\n",
       "1       2022-08-08 17:12:00\n",
       "2       2022-08-08 15:34:00\n",
       "3       2022-08-08 14:54:00\n",
       "4       2022-08-08 09:28:00\n",
       "                ...        \n",
       "15303   2015-09-10 14:00:00\n",
       "15304   2015-09-07 16:30:00\n",
       "15305   2015-09-04 23:10:00\n",
       "15306   2015-08-15 12:30:00\n",
       "15307   2015-08-11 06:30:00\n",
       "Name: crash_date, Length: 15308, dtype: datetime64[ns]"
      ]
     },
     "execution_count": 14,
     "metadata": {},
     "output_type": "execute_result"
    }
   ],
   "source": [
    "peds_df['crash_date'] = pd.to_datetime(peds_df['crash_date'])"
   ]
  },
  {
   "cell_type": "code",
   "execution_count": null,
   "id": "fa9524db",
   "metadata": {},
   "outputs": [],
   "source": [
    "#gives us a Timestamp\n",
    "type(timestamp)\n",
    "timestamp"
   ]
  },
  {
   "cell_type": "code",
   "execution_count": null,
   "id": "d6c16f1a",
   "metadata": {},
   "outputs": [],
   "source": [
    "#can use Timestamp methods on it\n",
    "#Timestamp is pandas equivalent of Python datetime \n",
    "#https://pandas.pydata.org/docs/reference/api/pandas.Timestamp.html\n",
    "timestamp.month_name()"
   ]
  },
  {
   "cell_type": "markdown",
   "id": "0942eb77",
   "metadata": {},
   "source": [
    "### making this a Timestamp screwed up my folium map. folium map wants a string\n",
    "### having as Timestamp throws TypeError: Object of type Timestamp is not JSON serializable\n",
    "#convert crash_date of whole df\n",
    "#crashes_df['crash_date'] = pd.to_datetime(crashes_df['crash_date'], format = '%Y/%m/%d %H:%M:%S')"
   ]
  },
  {
   "cell_type": "code",
   "execution_count": null,
   "id": "b023606e",
   "metadata": {},
   "outputs": [],
   "source": [
    "#crash day of week, crash hour and crash month look fine as far as their range\n",
    "crashes_df['crash_day_of_week'].value_counts()"
   ]
  },
  {
   "cell_type": "code",
   "execution_count": null,
   "id": "a47f62b8",
   "metadata": {},
   "outputs": [],
   "source": [
    "#injury columns to integers\n",
    "#leave posted_speed_limit, lane_cnt as objects, they are more like categories than numerical measures\n",
    "#leave crash_month, crash_day_of_week and crash_hour as objects for now, not sure what to make them"
   ]
  },
  {
   "cell_type": "code",
   "execution_count": null,
   "id": "201f2ba8",
   "metadata": {},
   "outputs": [],
   "source": [
    "crashes_df.dtypes"
   ]
  },
  {
   "cell_type": "markdown",
   "id": "c9f54b57",
   "metadata": {},
   "source": [
    "# get roadway class for each crash by joining crashes with street center lines\n",
    "## I took the POINTs from crashes and left joined them ON the nearest point within the multiline strings contained in street center lines, augmenting crashes with the info from street center lines"
   ]
  },
  {
   "cell_type": "code",
   "execution_count": 21,
   "id": "2bba0f0c",
   "metadata": {},
   "outputs": [
    {
     "data": {
      "text/html": [
       "<div>\n",
       "<style scoped>\n",
       "    .dataframe tbody tr th:only-of-type {\n",
       "        vertical-align: middle;\n",
       "    }\n",
       "\n",
       "    .dataframe tbody tr th {\n",
       "        vertical-align: top;\n",
       "    }\n",
       "\n",
       "    .dataframe thead th {\n",
       "        text-align: right;\n",
       "    }\n",
       "</style>\n",
       "<table border=\"1\" class=\"dataframe\">\n",
       "  <thead>\n",
       "    <tr style=\"text-align: right;\">\n",
       "      <th></th>\n",
       "      <th>injuries_fatal</th>\n",
       "      <th>injuries_non_incapacitating</th>\n",
       "      <th>crash_record_id</th>\n",
       "      <th>injuries_incapacitating</th>\n",
       "      <th>injuries_no_indication</th>\n",
       "      <th>latitude</th>\n",
       "      <th>street_no</th>\n",
       "      <th>device_condition</th>\n",
       "      <th>crash_date</th>\n",
       "      <th>trafficway_type</th>\n",
       "      <th>...</th>\n",
       "      <th>sec_contributory_cause</th>\n",
       "      <th>street_direction</th>\n",
       "      <th>posted_speed_limit</th>\n",
       "      <th>injuries_total</th>\n",
       "      <th>lane_cnt</th>\n",
       "      <th>full_address</th>\n",
       "      <th>month_name</th>\n",
       "      <th>year</th>\n",
       "      <th>injuries_none</th>\n",
       "      <th>geometry</th>\n",
       "    </tr>\n",
       "  </thead>\n",
       "  <tbody>\n",
       "    <tr>\n",
       "      <th>0</th>\n",
       "      <td>NaN</td>\n",
       "      <td>NaN</td>\n",
       "      <td>0edc78f89df5b72ddaa1c1f567e229ad39c0e098953a9d...</td>\n",
       "      <td>NaN</td>\n",
       "      <td>NaN</td>\n",
       "      <td>41.873520168</td>\n",
       "      <td>3357</td>\n",
       "      <td>NO CONTROLS</td>\n",
       "      <td>2022-08-09 01:40:00</td>\n",
       "      <td>OTHER</td>\n",
       "      <td>...</td>\n",
       "      <td>NOT APPLICABLE</td>\n",
       "      <td>W</td>\n",
       "      <td>30</td>\n",
       "      <td>NaN</td>\n",
       "      <td>None</td>\n",
       "      <td>3357 W HARRISON ST CHICAGO IL</td>\n",
       "      <td>August</td>\n",
       "      <td>2022</td>\n",
       "      <td>NaN</td>\n",
       "      <td>POINT (-87.71064 41.87352)</td>\n",
       "    </tr>\n",
       "    <tr>\n",
       "      <th>1</th>\n",
       "      <td>0.0</td>\n",
       "      <td>0.0</td>\n",
       "      <td>49ff3f04d16f5a71e6d66436c94f6acfd939c20d6c3651...</td>\n",
       "      <td>0.0</td>\n",
       "      <td>2.0</td>\n",
       "      <td>41.831835811</td>\n",
       "      <td>3410</td>\n",
       "      <td>FUNCTIONING PROPERLY</td>\n",
       "      <td>2022-08-09 00:45:00</td>\n",
       "      <td>NOT DIVIDED</td>\n",
       "      <td>...</td>\n",
       "      <td>NOT APPLICABLE</td>\n",
       "      <td>S</td>\n",
       "      <td>30</td>\n",
       "      <td>0.0</td>\n",
       "      <td>None</td>\n",
       "      <td>3410 S DAMEN AVE CHICAGO IL</td>\n",
       "      <td>August</td>\n",
       "      <td>2022</td>\n",
       "      <td>2.0</td>\n",
       "      <td>POINT (-87.67546 41.83184)</td>\n",
       "    </tr>\n",
       "    <tr>\n",
       "      <th>2</th>\n",
       "      <td>NaN</td>\n",
       "      <td>NaN</td>\n",
       "      <td>e580e89f187525bf685101a36fc64df499a72be926d5a9...</td>\n",
       "      <td>NaN</td>\n",
       "      <td>NaN</td>\n",
       "      <td>41.838371536</td>\n",
       "      <td>130</td>\n",
       "      <td>FUNCTIONING PROPERLY</td>\n",
       "      <td>2022-08-08 23:55:00</td>\n",
       "      <td>DIVIDED - W/MEDIAN (NOT RAISED)</td>\n",
       "      <td>...</td>\n",
       "      <td>NOT APPLICABLE</td>\n",
       "      <td>W</td>\n",
       "      <td>35</td>\n",
       "      <td>NaN</td>\n",
       "      <td>None</td>\n",
       "      <td>130 W 31ST ST CHICAGO IL</td>\n",
       "      <td>August</td>\n",
       "      <td>2022</td>\n",
       "      <td>NaN</td>\n",
       "      <td>POINT (-87.63002 41.83837)</td>\n",
       "    </tr>\n",
       "    <tr>\n",
       "      <th>3</th>\n",
       "      <td>0.0</td>\n",
       "      <td>0.0</td>\n",
       "      <td>cdd7c5d90668e4d1bda12805ad19cec305667643a88806...</td>\n",
       "      <td>0.0</td>\n",
       "      <td>1.0</td>\n",
       "      <td>41.861481407</td>\n",
       "      <td>2747</td>\n",
       "      <td>NO CONTROLS</td>\n",
       "      <td>2022-08-08 23:00:00</td>\n",
       "      <td>OTHER</td>\n",
       "      <td>...</td>\n",
       "      <td>UNABLE TO DETERMINE</td>\n",
       "      <td>W</td>\n",
       "      <td>30</td>\n",
       "      <td>0.0</td>\n",
       "      <td>None</td>\n",
       "      <td>2747 W OGDEN AVE CHICAGO IL</td>\n",
       "      <td>August</td>\n",
       "      <td>2022</td>\n",
       "      <td>1.0</td>\n",
       "      <td>POINT (-87.69494 41.86148)</td>\n",
       "    </tr>\n",
       "    <tr>\n",
       "      <th>4</th>\n",
       "      <td>0.0</td>\n",
       "      <td>0.0</td>\n",
       "      <td>e7c26ad2dd7f250b14acafe2d86265616f59f7c642a505...</td>\n",
       "      <td>0.0</td>\n",
       "      <td>2.0</td>\n",
       "      <td>41.837964154</td>\n",
       "      <td>3100</td>\n",
       "      <td>FUNCTIONING PROPERLY</td>\n",
       "      <td>2022-08-08 23:00:00</td>\n",
       "      <td>FOUR WAY</td>\n",
       "      <td>...</td>\n",
       "      <td>DISREGARDING TRAFFIC SIGNALS</td>\n",
       "      <td>S</td>\n",
       "      <td>35</td>\n",
       "      <td>0.0</td>\n",
       "      <td>None</td>\n",
       "      <td>3100 S HALSTED ST CHICAGO IL</td>\n",
       "      <td>August</td>\n",
       "      <td>2022</td>\n",
       "      <td>2.0</td>\n",
       "      <td>POINT (-87.64642 41.83796)</td>\n",
       "    </tr>\n",
       "    <tr>\n",
       "      <th>...</th>\n",
       "      <td>...</td>\n",
       "      <td>...</td>\n",
       "      <td>...</td>\n",
       "      <td>...</td>\n",
       "      <td>...</td>\n",
       "      <td>...</td>\n",
       "      <td>...</td>\n",
       "      <td>...</td>\n",
       "      <td>...</td>\n",
       "      <td>...</td>\n",
       "      <td>...</td>\n",
       "      <td>...</td>\n",
       "      <td>...</td>\n",
       "      <td>...</td>\n",
       "      <td>...</td>\n",
       "      <td>...</td>\n",
       "      <td>...</td>\n",
       "      <td>...</td>\n",
       "      <td>...</td>\n",
       "      <td>...</td>\n",
       "      <td>...</td>\n",
       "    </tr>\n",
       "    <tr>\n",
       "      <th>631400</th>\n",
       "      <td>0.0</td>\n",
       "      <td>0.0</td>\n",
       "      <td>964aaaeb569e364886cfbdf89ca73e09ca15cd916d87b2...</td>\n",
       "      <td>0.0</td>\n",
       "      <td>2.0</td>\n",
       "      <td>41.835886103</td>\n",
       "      <td>3132</td>\n",
       "      <td>NO CONTROLS</td>\n",
       "      <td>2014-06-25 19:00:00</td>\n",
       "      <td>NOT DIVIDED</td>\n",
       "      <td>...</td>\n",
       "      <td>NOT APPLICABLE</td>\n",
       "      <td>S</td>\n",
       "      <td>30</td>\n",
       "      <td>0.0</td>\n",
       "      <td>None</td>\n",
       "      <td>3132 S PULASKI RD CHICAGO IL</td>\n",
       "      <td>June</td>\n",
       "      <td>2014</td>\n",
       "      <td>2.0</td>\n",
       "      <td>POINT (-87.72447 41.83589)</td>\n",
       "    </tr>\n",
       "    <tr>\n",
       "      <th>631401</th>\n",
       "      <td>0.0</td>\n",
       "      <td>0.0</td>\n",
       "      <td>1d0232afecbdfd01968555aa956a688fd6f55a2bd1984f...</td>\n",
       "      <td>0.0</td>\n",
       "      <td>2.0</td>\n",
       "      <td>41.884016475</td>\n",
       "      <td>199</td>\n",
       "      <td>FUNCTIONING PROPERLY</td>\n",
       "      <td>2014-02-24 19:45:00</td>\n",
       "      <td>NOT DIVIDED</td>\n",
       "      <td>...</td>\n",
       "      <td>UNABLE TO DETERMINE</td>\n",
       "      <td>N</td>\n",
       "      <td>30</td>\n",
       "      <td>0.0</td>\n",
       "      <td>None</td>\n",
       "      <td>199 N SACRAMENTO BLVD CHICAGO IL</td>\n",
       "      <td>February</td>\n",
       "      <td>2014</td>\n",
       "      <td>2.0</td>\n",
       "      <td>POINT (-87.70114 41.88402)</td>\n",
       "    </tr>\n",
       "    <tr>\n",
       "      <th>631402</th>\n",
       "      <td>0.0</td>\n",
       "      <td>1.0</td>\n",
       "      <td>957783a4787318f005a7dbc920e4c84cb9ac8aa7329a62...</td>\n",
       "      <td>0.0</td>\n",
       "      <td>1.0</td>\n",
       "      <td>41.760710194</td>\n",
       "      <td>7400</td>\n",
       "      <td>NO CONTROLS</td>\n",
       "      <td>2014-01-21 07:40:00</td>\n",
       "      <td>DIVIDED - W/MEDIAN (NOT RAISED)</td>\n",
       "      <td>...</td>\n",
       "      <td>NOT APPLICABLE</td>\n",
       "      <td>S</td>\n",
       "      <td>30</td>\n",
       "      <td>1.0</td>\n",
       "      <td>None</td>\n",
       "      <td>7400 S EXCHANGE AVE CHICAGO IL</td>\n",
       "      <td>January</td>\n",
       "      <td>2014</td>\n",
       "      <td>1.0</td>\n",
       "      <td>POINT (-87.56195 41.76071)</td>\n",
       "    </tr>\n",
       "    <tr>\n",
       "      <th>631403</th>\n",
       "      <td>0.0</td>\n",
       "      <td>0.0</td>\n",
       "      <td>f62e27317feb174811cf4fefeb9fa1064fea6c0619a873...</td>\n",
       "      <td>0.0</td>\n",
       "      <td>2.0</td>\n",
       "      <td>41.885609917</td>\n",
       "      <td>415</td>\n",
       "      <td>NO CONTROLS</td>\n",
       "      <td>2014-01-18 18:14:00</td>\n",
       "      <td>DIVIDED - W/MEDIAN BARRIER</td>\n",
       "      <td>...</td>\n",
       "      <td>UNABLE TO DETERMINE</td>\n",
       "      <td>W</td>\n",
       "      <td>30</td>\n",
       "      <td>0.0</td>\n",
       "      <td>None</td>\n",
       "      <td>415 W LAKE ST CHICAGO IL</td>\n",
       "      <td>January</td>\n",
       "      <td>2014</td>\n",
       "      <td>2.0</td>\n",
       "      <td>POINT (-87.63876 41.88561)</td>\n",
       "    </tr>\n",
       "    <tr>\n",
       "      <th>631404</th>\n",
       "      <td>0.0</td>\n",
       "      <td>0.0</td>\n",
       "      <td>a802658be15312809c771559e4f81088cfb226830792a5...</td>\n",
       "      <td>0.0</td>\n",
       "      <td>1.0</td>\n",
       "      <td>41.975856916</td>\n",
       "      <td>3200</td>\n",
       "      <td>FUNCTIONING PROPERLY</td>\n",
       "      <td>2013-03-03 16:48:00</td>\n",
       "      <td>NOT DIVIDED</td>\n",
       "      <td>...</td>\n",
       "      <td>DISREGARDING ROAD MARKINGS</td>\n",
       "      <td>W</td>\n",
       "      <td>30</td>\n",
       "      <td>2.0</td>\n",
       "      <td>2</td>\n",
       "      <td>3200 W FOSTER AVE CHICAGO IL</td>\n",
       "      <td>March</td>\n",
       "      <td>2013</td>\n",
       "      <td>3.0</td>\n",
       "      <td>POINT (-87.70874 41.97586)</td>\n",
       "    </tr>\n",
       "  </tbody>\n",
       "</table>\n",
       "<p>631405 rows × 31 columns</p>\n",
       "</div>"
      ],
      "text/plain": [
       "        injuries_fatal  injuries_non_incapacitating  \\\n",
       "0                  NaN                          NaN   \n",
       "1                  0.0                          0.0   \n",
       "2                  NaN                          NaN   \n",
       "3                  0.0                          0.0   \n",
       "4                  0.0                          0.0   \n",
       "...                ...                          ...   \n",
       "631400             0.0                          0.0   \n",
       "631401             0.0                          0.0   \n",
       "631402             0.0                          1.0   \n",
       "631403             0.0                          0.0   \n",
       "631404             0.0                          0.0   \n",
       "\n",
       "                                          crash_record_id  \\\n",
       "0       0edc78f89df5b72ddaa1c1f567e229ad39c0e098953a9d...   \n",
       "1       49ff3f04d16f5a71e6d66436c94f6acfd939c20d6c3651...   \n",
       "2       e580e89f187525bf685101a36fc64df499a72be926d5a9...   \n",
       "3       cdd7c5d90668e4d1bda12805ad19cec305667643a88806...   \n",
       "4       e7c26ad2dd7f250b14acafe2d86265616f59f7c642a505...   \n",
       "...                                                   ...   \n",
       "631400  964aaaeb569e364886cfbdf89ca73e09ca15cd916d87b2...   \n",
       "631401  1d0232afecbdfd01968555aa956a688fd6f55a2bd1984f...   \n",
       "631402  957783a4787318f005a7dbc920e4c84cb9ac8aa7329a62...   \n",
       "631403  f62e27317feb174811cf4fefeb9fa1064fea6c0619a873...   \n",
       "631404  a802658be15312809c771559e4f81088cfb226830792a5...   \n",
       "\n",
       "        injuries_incapacitating  injuries_no_indication      latitude  \\\n",
       "0                           NaN                     NaN  41.873520168   \n",
       "1                           0.0                     2.0  41.831835811   \n",
       "2                           NaN                     NaN  41.838371536   \n",
       "3                           0.0                     1.0  41.861481407   \n",
       "4                           0.0                     2.0  41.837964154   \n",
       "...                         ...                     ...           ...   \n",
       "631400                      0.0                     2.0  41.835886103   \n",
       "631401                      0.0                     2.0  41.884016475   \n",
       "631402                      0.0                     1.0  41.760710194   \n",
       "631403                      0.0                     2.0  41.885609917   \n",
       "631404                      0.0                     1.0  41.975856916   \n",
       "\n",
       "       street_no      device_condition          crash_date  \\\n",
       "0           3357           NO CONTROLS 2022-08-09 01:40:00   \n",
       "1           3410  FUNCTIONING PROPERLY 2022-08-09 00:45:00   \n",
       "2            130  FUNCTIONING PROPERLY 2022-08-08 23:55:00   \n",
       "3           2747           NO CONTROLS 2022-08-08 23:00:00   \n",
       "4           3100  FUNCTIONING PROPERLY 2022-08-08 23:00:00   \n",
       "...          ...                   ...                 ...   \n",
       "631400      3132           NO CONTROLS 2014-06-25 19:00:00   \n",
       "631401       199  FUNCTIONING PROPERLY 2014-02-24 19:45:00   \n",
       "631402      7400           NO CONTROLS 2014-01-21 07:40:00   \n",
       "631403       415           NO CONTROLS 2014-01-18 18:14:00   \n",
       "631404      3200  FUNCTIONING PROPERLY 2013-03-03 16:48:00   \n",
       "\n",
       "                        trafficway_type  ...        sec_contributory_cause  \\\n",
       "0                                 OTHER  ...                NOT APPLICABLE   \n",
       "1                           NOT DIVIDED  ...                NOT APPLICABLE   \n",
       "2       DIVIDED - W/MEDIAN (NOT RAISED)  ...                NOT APPLICABLE   \n",
       "3                                 OTHER  ...           UNABLE TO DETERMINE   \n",
       "4                              FOUR WAY  ...  DISREGARDING TRAFFIC SIGNALS   \n",
       "...                                 ...  ...                           ...   \n",
       "631400                      NOT DIVIDED  ...                NOT APPLICABLE   \n",
       "631401                      NOT DIVIDED  ...           UNABLE TO DETERMINE   \n",
       "631402  DIVIDED - W/MEDIAN (NOT RAISED)  ...                NOT APPLICABLE   \n",
       "631403       DIVIDED - W/MEDIAN BARRIER  ...           UNABLE TO DETERMINE   \n",
       "631404                      NOT DIVIDED  ...    DISREGARDING ROAD MARKINGS   \n",
       "\n",
       "       street_direction posted_speed_limit injuries_total lane_cnt  \\\n",
       "0                     W                 30            NaN     None   \n",
       "1                     S                 30            0.0     None   \n",
       "2                     W                 35            NaN     None   \n",
       "3                     W                 30            0.0     None   \n",
       "4                     S                 35            0.0     None   \n",
       "...                 ...                ...            ...      ...   \n",
       "631400                S                 30            0.0     None   \n",
       "631401                N                 30            0.0     None   \n",
       "631402                S                 30            1.0     None   \n",
       "631403                W                 30            0.0     None   \n",
       "631404                W                 30            2.0        2   \n",
       "\n",
       "                            full_address month_name  year  injuries_none  \\\n",
       "0          3357 W HARRISON ST CHICAGO IL     August  2022            NaN   \n",
       "1            3410 S DAMEN AVE CHICAGO IL     August  2022            2.0   \n",
       "2               130 W 31ST ST CHICAGO IL     August  2022            NaN   \n",
       "3            2747 W OGDEN AVE CHICAGO IL     August  2022            1.0   \n",
       "4           3100 S HALSTED ST CHICAGO IL     August  2022            2.0   \n",
       "...                                  ...        ...   ...            ...   \n",
       "631400      3132 S PULASKI RD CHICAGO IL       June  2014            2.0   \n",
       "631401  199 N SACRAMENTO BLVD CHICAGO IL   February  2014            2.0   \n",
       "631402    7400 S EXCHANGE AVE CHICAGO IL    January  2014            1.0   \n",
       "631403          415 W LAKE ST CHICAGO IL    January  2014            2.0   \n",
       "631404      3200 W FOSTER AVE CHICAGO IL      March  2013            3.0   \n",
       "\n",
       "                          geometry  \n",
       "0       POINT (-87.71064 41.87352)  \n",
       "1       POINT (-87.67546 41.83184)  \n",
       "2       POINT (-87.63002 41.83837)  \n",
       "3       POINT (-87.69494 41.86148)  \n",
       "4       POINT (-87.64642 41.83796)  \n",
       "...                            ...  \n",
       "631400  POINT (-87.72447 41.83589)  \n",
       "631401  POINT (-87.70114 41.88402)  \n",
       "631402  POINT (-87.56195 41.76071)  \n",
       "631403  POINT (-87.63876 41.88561)  \n",
       "631404  POINT (-87.70874 41.97586)  \n",
       "\n",
       "[631405 rows x 31 columns]"
      ]
     },
     "execution_count": 21,
     "metadata": {},
     "output_type": "execute_result"
    }
   ],
   "source": [
    "crashes_df = gpd.read_file('data/crashes_cleaned.geojson')\n",
    "crashes_df.set_crs(crs='EPSG:4326', inplace=True)"
   ]
  },
  {
   "cell_type": "code",
   "execution_count": null,
   "id": "f1bfba14",
   "metadata": {},
   "outputs": [],
   "source": [
    "crashes_df.crs"
   ]
  },
  {
   "cell_type": "markdown",
   "id": "bf5d30b8",
   "metadata": {},
   "source": [
    "## we only need to get roadway class for ped and cyclist crashes, not all crashes. create crashes_ped_df and crashes_cyclist_df, then join each to street center lines"
   ]
  },
  {
   "cell_type": "code",
   "execution_count": 13,
   "id": "58d14440",
   "metadata": {},
   "outputs": [],
   "source": [
    "peds_df = pd.read_csv('data/peds_cleaned_df.csv')"
   ]
  },
  {
   "cell_type": "code",
   "execution_count": 3,
   "id": "7b05eaf8",
   "metadata": {},
   "outputs": [],
   "source": [
    "cyclists_df = pd.read_csv('data/cyclists_cleaned_df.csv')"
   ]
  },
  {
   "cell_type": "code",
   "execution_count": 24,
   "id": "87ddd86f",
   "metadata": {},
   "outputs": [],
   "source": [
    "crash_id_peds = peds_df['crash_record_id'].tolist()\n",
    "crashes_ped_df = crashes_df.loc[crashes_df['crash_record_id'].isin(crash_id_peds)].reset_index(drop=True)"
   ]
  },
  {
   "cell_type": "code",
   "execution_count": 25,
   "id": "d43b7033",
   "metadata": {},
   "outputs": [],
   "source": [
    "crash_id_cyclists = cyclists_df['crash_record_id'].tolist()\n",
    "crashes_cyclist_df = crashes_df.loc[crashes_df['crash_record_id'].isin(crash_id_cyclists)].reset_index(drop=True)"
   ]
  },
  {
   "cell_type": "markdown",
   "id": "b7e0b8e8",
   "metadata": {},
   "source": [
    "## load street center lines from geojson"
   ]
  },
  {
   "cell_type": "code",
   "execution_count": 26,
   "id": "80ea09c2",
   "metadata": {},
   "outputs": [],
   "source": [
    "street_center_lines_geo = gpd.read_file('data/street_center_lines.geojson')\n",
    "# gpd.explode this would explode multi part geometries into multiple single part geometries"
   ]
  },
  {
   "cell_type": "code",
   "execution_count": 27,
   "id": "721c3e54",
   "metadata": {},
   "outputs": [],
   "source": [
    "street_center_lines_geo['geometry'] = street_center_lines_geo['geometry'].to_crs(crs='EPSG:4326')"
   ]
  },
  {
   "cell_type": "code",
   "execution_count": 28,
   "id": "6ac3b968",
   "metadata": {},
   "outputs": [],
   "source": [
    "street_center_lines_geo = street_center_lines_geo[['geometry', 'class']]"
   ]
  },
  {
   "cell_type": "code",
   "execution_count": 29,
   "id": "1c306da3",
   "metadata": {},
   "outputs": [
    {
     "name": "stderr",
     "output_type": "stream",
     "text": [
      "/home/colin/anaconda3/envs/geospatial4/lib/python3.10/site-packages/geopandas/array.py:340: UserWarning: Geometry is in a geographic CRS. Results from 'sjoin_nearest' are likely incorrect. Use 'GeoSeries.to_crs()' to re-project geometries to a projected CRS before this operation.\n",
      "\n",
      "  warnings.warn(\n"
     ]
    }
   ],
   "source": [
    "crashes_ped_aug_df = gpd.sjoin_nearest(crashes_ped_df, street_center_lines_geo, how = 'left', max_distance = 0.001, distance_col= 'distance')"
   ]
  },
  {
   "cell_type": "markdown",
   "id": "76c36977",
   "metadata": {},
   "source": [
    "### common sense check - do the roadway classes match up with what you would expect from the addresses? sure, seems accurate that 500 S LSD is marked as class 1, seems plausible that 7100 S Western would be class 2, but seems wrong that 1000 N Cicero would be class 4...two possibilities: 1) that when it joined on the nearest point, it actually got a point from August Blvd which would be class 4 over there. if the crash actually happened *ON CICERO* then the roadway class would be wrong. but, possibility 2) is that the address entered for the crash is wrong, that the crash actually happened on Augusta, not Cicero, based on the long/lat. so that 4 listed as roadway class would actually be right.\n"
   ]
  },
  {
   "cell_type": "code",
   "execution_count": 33,
   "id": "d15c88a2",
   "metadata": {},
   "outputs": [
    {
     "data": {
      "text/html": [
       "<div>\n",
       "<style scoped>\n",
       "    .dataframe tbody tr th:only-of-type {\n",
       "        vertical-align: middle;\n",
       "    }\n",
       "\n",
       "    .dataframe tbody tr th {\n",
       "        vertical-align: top;\n",
       "    }\n",
       "\n",
       "    .dataframe thead th {\n",
       "        text-align: right;\n",
       "    }\n",
       "</style>\n",
       "<table border=\"1\" class=\"dataframe\">\n",
       "  <thead>\n",
       "    <tr style=\"text-align: right;\">\n",
       "      <th></th>\n",
       "      <th>injuries_fatal</th>\n",
       "      <th>injuries_non_incapacitating</th>\n",
       "      <th>crash_record_id</th>\n",
       "      <th>injuries_incapacitating</th>\n",
       "      <th>injuries_no_indication</th>\n",
       "      <th>latitude</th>\n",
       "      <th>street_no</th>\n",
       "      <th>device_condition</th>\n",
       "      <th>crash_date</th>\n",
       "      <th>trafficway_type</th>\n",
       "      <th>...</th>\n",
       "      <th>lane_cnt</th>\n",
       "      <th>full_address</th>\n",
       "      <th>month_name</th>\n",
       "      <th>year</th>\n",
       "      <th>injuries_none</th>\n",
       "      <th>geometry</th>\n",
       "      <th>index_right</th>\n",
       "      <th>class</th>\n",
       "      <th>distance</th>\n",
       "      <th>roadway_class</th>\n",
       "    </tr>\n",
       "  </thead>\n",
       "  <tbody>\n",
       "    <tr>\n",
       "      <th>0</th>\n",
       "      <td>0.0</td>\n",
       "      <td>0.0</td>\n",
       "      <td>10c02ad83b1b241f057db7e3f4bebdb9a9a2798dc57db4...</td>\n",
       "      <td>1.0</td>\n",
       "      <td>1.0</td>\n",
       "      <td>41.876656066</td>\n",
       "      <td>400</td>\n",
       "      <td>FUNCTIONING PROPERLY</td>\n",
       "      <td>2022-08-08 17:22:00</td>\n",
       "      <td>FOUR WAY</td>\n",
       "      <td>...</td>\n",
       "      <td>None</td>\n",
       "      <td>400 S HALSTED ST CHICAGO IL</td>\n",
       "      <td>August</td>\n",
       "      <td>2022</td>\n",
       "      <td>1.0</td>\n",
       "      <td>POINT (-87.64735 41.87666)</td>\n",
       "      <td>21960.0</td>\n",
       "      <td>3</td>\n",
       "      <td>0.000013</td>\n",
       "      <td>collector</td>\n",
       "    </tr>\n",
       "    <tr>\n",
       "      <th>1</th>\n",
       "      <td>0.0</td>\n",
       "      <td>0.0</td>\n",
       "      <td>e287152209a3cf769764c1df04fa42bc3eddafd1df32ef...</td>\n",
       "      <td>0.0</td>\n",
       "      <td>2.0</td>\n",
       "      <td>41.898729831</td>\n",
       "      <td>1000</td>\n",
       "      <td>FUNCTIONING PROPERLY</td>\n",
       "      <td>2022-08-08 17:12:00</td>\n",
       "      <td>DIVIDED - W/MEDIAN (NOT RAISED)</td>\n",
       "      <td>...</td>\n",
       "      <td>None</td>\n",
       "      <td>1000 N CICERO AVE CHICAGO IL</td>\n",
       "      <td>August</td>\n",
       "      <td>2022</td>\n",
       "      <td>2.0</td>\n",
       "      <td>POINT (-87.74604 41.89873)</td>\n",
       "      <td>1269.0</td>\n",
       "      <td>4</td>\n",
       "      <td>0.000051</td>\n",
       "      <td>other streets</td>\n",
       "    </tr>\n",
       "    <tr>\n",
       "      <th>2</th>\n",
       "      <td>0.0</td>\n",
       "      <td>0.0</td>\n",
       "      <td>862babdabad4148c0e2345ae956733d6c0d3e4fb5b5f11...</td>\n",
       "      <td>0.0</td>\n",
       "      <td>1.0</td>\n",
       "      <td>41.880437392</td>\n",
       "      <td>601</td>\n",
       "      <td>FUNCTIONING PROPERLY</td>\n",
       "      <td>2022-08-08 15:34:00</td>\n",
       "      <td>FOUR WAY</td>\n",
       "      <td>...</td>\n",
       "      <td>None</td>\n",
       "      <td>601 W MONROE ST CHICAGO IL</td>\n",
       "      <td>August</td>\n",
       "      <td>2022</td>\n",
       "      <td>2.0</td>\n",
       "      <td>POINT (-87.64269 41.88044)</td>\n",
       "      <td>40998.0</td>\n",
       "      <td>4</td>\n",
       "      <td>0.000075</td>\n",
       "      <td>other streets</td>\n",
       "    </tr>\n",
       "    <tr>\n",
       "      <th>3</th>\n",
       "      <td>0.0</td>\n",
       "      <td>1.0</td>\n",
       "      <td>1a12b6c50c25d0f049e4d33dce433272217e0d220f8963...</td>\n",
       "      <td>0.0</td>\n",
       "      <td>1.0</td>\n",
       "      <td>41.875756255</td>\n",
       "      <td>500</td>\n",
       "      <td>FUNCTIONING PROPERLY</td>\n",
       "      <td>2022-08-08 14:54:00</td>\n",
       "      <td>DIVIDED - W/MEDIAN BARRIER</td>\n",
       "      <td>...</td>\n",
       "      <td>None</td>\n",
       "      <td>500 S LAKE SHORE DR NB CHICAGO IL</td>\n",
       "      <td>August</td>\n",
       "      <td>2022</td>\n",
       "      <td>1.0</td>\n",
       "      <td>POINT (-87.61752 41.87576)</td>\n",
       "      <td>13034.0</td>\n",
       "      <td>1</td>\n",
       "      <td>0.000147</td>\n",
       "      <td>expressway</td>\n",
       "    </tr>\n",
       "    <tr>\n",
       "      <th>4</th>\n",
       "      <td>0.0</td>\n",
       "      <td>0.0</td>\n",
       "      <td>94d427ca74695d355d9dad4d717140f436aeb16f447a24...</td>\n",
       "      <td>0.0</td>\n",
       "      <td>1.0</td>\n",
       "      <td>41.842510273</td>\n",
       "      <td>2701</td>\n",
       "      <td>NO CONTROLS</td>\n",
       "      <td>2022-08-08 09:28:00</td>\n",
       "      <td>PARKING LOT</td>\n",
       "      <td>...</td>\n",
       "      <td>None</td>\n",
       "      <td>2701 S CALIFORNIA AVE CHICAGO IL</td>\n",
       "      <td>August</td>\n",
       "      <td>2022</td>\n",
       "      <td>2.0</td>\n",
       "      <td>POINT (-87.69500 41.84251)</td>\n",
       "      <td>50025.0</td>\n",
       "      <td>4</td>\n",
       "      <td>0.000068</td>\n",
       "      <td>other streets</td>\n",
       "    </tr>\n",
       "    <tr>\n",
       "      <th>...</th>\n",
       "      <td>...</td>\n",
       "      <td>...</td>\n",
       "      <td>...</td>\n",
       "      <td>...</td>\n",
       "      <td>...</td>\n",
       "      <td>...</td>\n",
       "      <td>...</td>\n",
       "      <td>...</td>\n",
       "      <td>...</td>\n",
       "      <td>...</td>\n",
       "      <td>...</td>\n",
       "      <td>...</td>\n",
       "      <td>...</td>\n",
       "      <td>...</td>\n",
       "      <td>...</td>\n",
       "      <td>...</td>\n",
       "      <td>...</td>\n",
       "      <td>...</td>\n",
       "      <td>...</td>\n",
       "      <td>...</td>\n",
       "      <td>...</td>\n",
       "    </tr>\n",
       "    <tr>\n",
       "      <th>14384</th>\n",
       "      <td>0.0</td>\n",
       "      <td>1.0</td>\n",
       "      <td>5c2f4f8b30e69e1de1f45f57e8a38dec2dcf7fc04d7fbe...</td>\n",
       "      <td>0.0</td>\n",
       "      <td>1.0</td>\n",
       "      <td>41.871010349</td>\n",
       "      <td>3400</td>\n",
       "      <td>FUNCTIONING PROPERLY</td>\n",
       "      <td>2015-09-10 14:00:00</td>\n",
       "      <td>NOT DIVIDED</td>\n",
       "      <td>...</td>\n",
       "      <td>2</td>\n",
       "      <td>3400 W POLK ST CHICAGO IL</td>\n",
       "      <td>September</td>\n",
       "      <td>2015</td>\n",
       "      <td>1.0</td>\n",
       "      <td>POINT (-87.71081 41.87101)</td>\n",
       "      <td>27603.0</td>\n",
       "      <td>4</td>\n",
       "      <td>0.000110</td>\n",
       "      <td>other streets</td>\n",
       "    </tr>\n",
       "    <tr>\n",
       "      <th>14385</th>\n",
       "      <td>0.0</td>\n",
       "      <td>1.0</td>\n",
       "      <td>752aff26b79c9532bec8561c5f3096c2fe4c1fe39ff4c1...</td>\n",
       "      <td>0.0</td>\n",
       "      <td>1.0</td>\n",
       "      <td>41.791283706</td>\n",
       "      <td>5600</td>\n",
       "      <td>NO CONTROLS</td>\n",
       "      <td>2015-09-07 16:30:00</td>\n",
       "      <td>OTHER</td>\n",
       "      <td>...</td>\n",
       "      <td>3</td>\n",
       "      <td>5600 S CICERO AVE CHICAGO IL</td>\n",
       "      <td>September</td>\n",
       "      <td>2015</td>\n",
       "      <td>1.0</td>\n",
       "      <td>POINT (-87.74170 41.79128)</td>\n",
       "      <td>35447.0</td>\n",
       "      <td>2</td>\n",
       "      <td>0.000147</td>\n",
       "      <td>arterial</td>\n",
       "    </tr>\n",
       "    <tr>\n",
       "      <th>14386</th>\n",
       "      <td>0.0</td>\n",
       "      <td>0.0</td>\n",
       "      <td>55fce492bac7d0ef0e025a0b1d99a6b748436bfa095cf3...</td>\n",
       "      <td>1.0</td>\n",
       "      <td>2.0</td>\n",
       "      <td>41.764608912</td>\n",
       "      <td>7100</td>\n",
       "      <td>NO CONTROLS</td>\n",
       "      <td>2015-09-04 23:10:00</td>\n",
       "      <td>PARKING LOT</td>\n",
       "      <td>...</td>\n",
       "      <td>0</td>\n",
       "      <td>7100 S WESTERN AVE CHICAGO IL</td>\n",
       "      <td>September</td>\n",
       "      <td>2015</td>\n",
       "      <td>2.0</td>\n",
       "      <td>POINT (-87.68339 41.76461)</td>\n",
       "      <td>1870.0</td>\n",
       "      <td>2</td>\n",
       "      <td>0.000090</td>\n",
       "      <td>arterial</td>\n",
       "    </tr>\n",
       "    <tr>\n",
       "      <th>14387</th>\n",
       "      <td>0.0</td>\n",
       "      <td>1.0</td>\n",
       "      <td>b81b574c31921480db8a53b6e3472948e42f356906dfc1...</td>\n",
       "      <td>0.0</td>\n",
       "      <td>1.0</td>\n",
       "      <td>41.88061965</td>\n",
       "      <td>3997</td>\n",
       "      <td>FUNCTIONING PROPERLY</td>\n",
       "      <td>2015-08-15 12:30:00</td>\n",
       "      <td>NOT DIVIDED</td>\n",
       "      <td>...</td>\n",
       "      <td>4</td>\n",
       "      <td>3997 W MADISON ST CHICAGO IL</td>\n",
       "      <td>August</td>\n",
       "      <td>2015</td>\n",
       "      <td>1.0</td>\n",
       "      <td>POINT (-87.72555 41.88062)</td>\n",
       "      <td>54291.0</td>\n",
       "      <td>2</td>\n",
       "      <td>0.000110</td>\n",
       "      <td>arterial</td>\n",
       "    </tr>\n",
       "    <tr>\n",
       "      <th>14388</th>\n",
       "      <td>0.0</td>\n",
       "      <td>0.0</td>\n",
       "      <td>6c522884b92e0dfba17b1f1a4ae4753542cfa7da3178a9...</td>\n",
       "      <td>0.0</td>\n",
       "      <td>2.0</td>\n",
       "      <td>41.876429057</td>\n",
       "      <td>5601</td>\n",
       "      <td>FUNCTIONING PROPERLY</td>\n",
       "      <td>2015-08-11 06:30:00</td>\n",
       "      <td>DIVIDED - W/MEDIAN (NOT RAISED)</td>\n",
       "      <td>...</td>\n",
       "      <td>4</td>\n",
       "      <td>5601 W JACKSON BLVD CHICAGO IL</td>\n",
       "      <td>August</td>\n",
       "      <td>2015</td>\n",
       "      <td>2.0</td>\n",
       "      <td>POINT (-87.76480 41.87643)</td>\n",
       "      <td>29864.0</td>\n",
       "      <td>2</td>\n",
       "      <td>0.000078</td>\n",
       "      <td>arterial</td>\n",
       "    </tr>\n",
       "  </tbody>\n",
       "</table>\n",
       "<p>14389 rows × 35 columns</p>\n",
       "</div>"
      ],
      "text/plain": [
       "       injuries_fatal  injuries_non_incapacitating  \\\n",
       "0                 0.0                          0.0   \n",
       "1                 0.0                          0.0   \n",
       "2                 0.0                          0.0   \n",
       "3                 0.0                          1.0   \n",
       "4                 0.0                          0.0   \n",
       "...               ...                          ...   \n",
       "14384             0.0                          1.0   \n",
       "14385             0.0                          1.0   \n",
       "14386             0.0                          0.0   \n",
       "14387             0.0                          1.0   \n",
       "14388             0.0                          0.0   \n",
       "\n",
       "                                         crash_record_id  \\\n",
       "0      10c02ad83b1b241f057db7e3f4bebdb9a9a2798dc57db4...   \n",
       "1      e287152209a3cf769764c1df04fa42bc3eddafd1df32ef...   \n",
       "2      862babdabad4148c0e2345ae956733d6c0d3e4fb5b5f11...   \n",
       "3      1a12b6c50c25d0f049e4d33dce433272217e0d220f8963...   \n",
       "4      94d427ca74695d355d9dad4d717140f436aeb16f447a24...   \n",
       "...                                                  ...   \n",
       "14384  5c2f4f8b30e69e1de1f45f57e8a38dec2dcf7fc04d7fbe...   \n",
       "14385  752aff26b79c9532bec8561c5f3096c2fe4c1fe39ff4c1...   \n",
       "14386  55fce492bac7d0ef0e025a0b1d99a6b748436bfa095cf3...   \n",
       "14387  b81b574c31921480db8a53b6e3472948e42f356906dfc1...   \n",
       "14388  6c522884b92e0dfba17b1f1a4ae4753542cfa7da3178a9...   \n",
       "\n",
       "       injuries_incapacitating  injuries_no_indication      latitude  \\\n",
       "0                          1.0                     1.0  41.876656066   \n",
       "1                          0.0                     2.0  41.898729831   \n",
       "2                          0.0                     1.0  41.880437392   \n",
       "3                          0.0                     1.0  41.875756255   \n",
       "4                          0.0                     1.0  41.842510273   \n",
       "...                        ...                     ...           ...   \n",
       "14384                      0.0                     1.0  41.871010349   \n",
       "14385                      0.0                     1.0  41.791283706   \n",
       "14386                      1.0                     2.0  41.764608912   \n",
       "14387                      0.0                     1.0   41.88061965   \n",
       "14388                      0.0                     2.0  41.876429057   \n",
       "\n",
       "      street_no      device_condition          crash_date  \\\n",
       "0           400  FUNCTIONING PROPERLY 2022-08-08 17:22:00   \n",
       "1          1000  FUNCTIONING PROPERLY 2022-08-08 17:12:00   \n",
       "2           601  FUNCTIONING PROPERLY 2022-08-08 15:34:00   \n",
       "3           500  FUNCTIONING PROPERLY 2022-08-08 14:54:00   \n",
       "4          2701           NO CONTROLS 2022-08-08 09:28:00   \n",
       "...         ...                   ...                 ...   \n",
       "14384      3400  FUNCTIONING PROPERLY 2015-09-10 14:00:00   \n",
       "14385      5600           NO CONTROLS 2015-09-07 16:30:00   \n",
       "14386      7100           NO CONTROLS 2015-09-04 23:10:00   \n",
       "14387      3997  FUNCTIONING PROPERLY 2015-08-15 12:30:00   \n",
       "14388      5601  FUNCTIONING PROPERLY 2015-08-11 06:30:00   \n",
       "\n",
       "                       trafficway_type  ... lane_cnt  \\\n",
       "0                             FOUR WAY  ...     None   \n",
       "1      DIVIDED - W/MEDIAN (NOT RAISED)  ...     None   \n",
       "2                             FOUR WAY  ...     None   \n",
       "3           DIVIDED - W/MEDIAN BARRIER  ...     None   \n",
       "4                          PARKING LOT  ...     None   \n",
       "...                                ...  ...      ...   \n",
       "14384                      NOT DIVIDED  ...        2   \n",
       "14385                            OTHER  ...        3   \n",
       "14386                      PARKING LOT  ...        0   \n",
       "14387                      NOT DIVIDED  ...        4   \n",
       "14388  DIVIDED - W/MEDIAN (NOT RAISED)  ...        4   \n",
       "\n",
       "                            full_address month_name  year injuries_none  \\\n",
       "0            400 S HALSTED ST CHICAGO IL     August  2022           1.0   \n",
       "1           1000 N CICERO AVE CHICAGO IL     August  2022           2.0   \n",
       "2             601 W MONROE ST CHICAGO IL     August  2022           2.0   \n",
       "3      500 S LAKE SHORE DR NB CHICAGO IL     August  2022           1.0   \n",
       "4       2701 S CALIFORNIA AVE CHICAGO IL     August  2022           2.0   \n",
       "...                                  ...        ...   ...           ...   \n",
       "14384          3400 W POLK ST CHICAGO IL  September  2015           1.0   \n",
       "14385       5600 S CICERO AVE CHICAGO IL  September  2015           1.0   \n",
       "14386      7100 S WESTERN AVE CHICAGO IL  September  2015           2.0   \n",
       "14387       3997 W MADISON ST CHICAGO IL     August  2015           1.0   \n",
       "14388     5601 W JACKSON BLVD CHICAGO IL     August  2015           2.0   \n",
       "\n",
       "                         geometry index_right class  distance  roadway_class  \n",
       "0      POINT (-87.64735 41.87666)     21960.0     3  0.000013      collector  \n",
       "1      POINT (-87.74604 41.89873)      1269.0     4  0.000051  other streets  \n",
       "2      POINT (-87.64269 41.88044)     40998.0     4  0.000075  other streets  \n",
       "3      POINT (-87.61752 41.87576)     13034.0     1  0.000147     expressway  \n",
       "4      POINT (-87.69500 41.84251)     50025.0     4  0.000068  other streets  \n",
       "...                           ...         ...   ...       ...            ...  \n",
       "14384  POINT (-87.71081 41.87101)     27603.0     4  0.000110  other streets  \n",
       "14385  POINT (-87.74170 41.79128)     35447.0     2  0.000147       arterial  \n",
       "14386  POINT (-87.68339 41.76461)      1870.0     2  0.000090       arterial  \n",
       "14387  POINT (-87.72555 41.88062)     54291.0     2  0.000110       arterial  \n",
       "14388  POINT (-87.76480 41.87643)     29864.0     2  0.000078       arterial  \n",
       "\n",
       "[14389 rows x 35 columns]"
      ]
     },
     "execution_count": 33,
     "metadata": {},
     "output_type": "execute_result"
    }
   ],
   "source": [
    "crashes_ped_aug_df"
   ]
  },
  {
   "cell_type": "code",
   "execution_count": 31,
   "id": "898c8ffc",
   "metadata": {},
   "outputs": [],
   "source": [
    "for index, row in crashes_ped_aug_df.iterrows():\n",
    "    if row['class'] == '1':\n",
    "        crashes_ped_aug_df.loc[index, 'roadway_class'] = 'expressway'\n",
    "    elif row['class'] == '2':\n",
    "        crashes_ped_aug_df.loc[index, 'roadway_class'] = 'arterial'\n",
    "    elif row['class'] == '3':\n",
    "        crashes_ped_aug_df.loc[index, 'roadway_class'] = 'collector'\n",
    "    elif row['class'] == '4':\n",
    "        crashes_ped_aug_df.loc[index, 'roadway_class'] = 'other streets'\n",
    "    elif row['class'] == '5':\n",
    "        crashes_ped_aug_df.loc[index, 'roadway_class'] = 'named alley'\n",
    "    elif row['class'] == '7':\n",
    "        crashes_ped_aug_df.loc[index, 'roadway_class'] = 'tiered'\n",
    "    elif row['class'] == '9':\n",
    "        crashes_ped_aug_df.loc[index, 'roadway_class'] = 'ramps'\n",
    "    elif row['class'] == 'E':\n",
    "        crashes_ped_aug_df.loc[index, 'roadway_class'] = 'extent'\n",
    "    elif row['class'] == 'RIV':\n",
    "        crashes_ped_aug_df.loc[index, 'roadway_class'] = 'river'"
   ]
  },
  {
   "cell_type": "code",
   "execution_count": 32,
   "id": "6bf5190f",
   "metadata": {},
   "outputs": [
    {
     "data": {
      "text/plain": [
       "other streets    6425\n",
       "arterial         4120\n",
       "collector        3502\n",
       "expressway         99\n",
       "extent             86\n",
       "tiered             80\n",
       "ramps              47\n",
       "named alley        19\n",
       "river              10\n",
       "Name: roadway_class, dtype: int64"
      ]
     },
     "execution_count": 32,
     "metadata": {},
     "output_type": "execute_result"
    }
   ],
   "source": [
    "crashes_ped_aug_df['roadway_class'].value_counts()"
   ]
  },
  {
   "cell_type": "code",
   "execution_count": 34,
   "id": "0e332e03",
   "metadata": {},
   "outputs": [],
   "source": [
    "#save to geojson\n",
    "crashes_ped_aug_df.to_file(\"data/crashes_ped_aug_df.geojson\", driver='GeoJSON')"
   ]
  },
  {
   "cell_type": "code",
   "execution_count": 38,
   "id": "467d67a7",
   "metadata": {},
   "outputs": [],
   "source": [
    "#save to csv\n",
    "crashes_ped_aug_df.to_csv('data/crashes_ped_aug_df.csv')"
   ]
  },
  {
   "cell_type": "code",
   "execution_count": 35,
   "id": "61fa2d9f",
   "metadata": {},
   "outputs": [
    {
     "name": "stderr",
     "output_type": "stream",
     "text": [
      "/home/colin/anaconda3/envs/geospatial4/lib/python3.10/site-packages/geopandas/array.py:340: UserWarning: Geometry is in a geographic CRS. Results from 'sjoin_nearest' are likely incorrect. Use 'GeoSeries.to_crs()' to re-project geometries to a projected CRS before this operation.\n",
      "\n",
      "  warnings.warn(\n"
     ]
    }
   ],
   "source": [
    "crashes_cyclist_aug_df = gpd.sjoin_nearest(crashes_cyclist_df, street_center_lines_geo, how = 'left', max_distance = 0.001, distance_col= 'distance')"
   ]
  },
  {
   "cell_type": "code",
   "execution_count": 16,
   "id": "9c4b7785",
   "metadata": {
    "collapsed": true
   },
   "outputs": [
    {
     "name": "stdout",
     "output_type": "stream",
     "text": [
      "<class 'geopandas.geodataframe.GeoDataFrame'>\n",
      "Int64Index: 9292 entries, 0 to 9291\n",
      "Data columns (total 36 columns):\n",
      " #   Column                         Non-Null Count  Dtype         \n",
      "---  ------                         --------------  -----         \n",
      " 0   injuries_fatal                 9292 non-null   float64       \n",
      " 1   injuries_non_incapacitating    9292 non-null   float64       \n",
      " 2   crash_record_id                9292 non-null   object        \n",
      " 3   injuries_incapacitating        9292 non-null   float64       \n",
      " 4   injuries_no_indication         9292 non-null   float64       \n",
      " 5   latitude                       9278 non-null   object        \n",
      " 6   street_no                      9292 non-null   object        \n",
      " 7   injuries_unknown               9292 non-null   float64       \n",
      " 8   device_condition               9292 non-null   object        \n",
      " 9   crash_date                     9292 non-null   datetime64[ns]\n",
      " 10  trafficway_type                9292 non-null   object        \n",
      " 11  traffic_control_device         9292 non-null   object        \n",
      " 12  road_defect                    9292 non-null   object        \n",
      " 13  longitude                      9278 non-null   object        \n",
      " 14  crash_month                    9292 non-null   object        \n",
      " 15  street_name                    9292 non-null   object        \n",
      " 16  crash_day_of_week              9292 non-null   object        \n",
      " 17  crash_hour                     9292 non-null   object        \n",
      " 18  first_crash_type               9292 non-null   object        \n",
      " 19  injuries_reported_not_evident  9292 non-null   float64       \n",
      " 20  most_severe_injury             9292 non-null   object        \n",
      " 21  prim_contributory_cause        9292 non-null   object        \n",
      " 22  sec_contributory_cause         9292 non-null   object        \n",
      " 23  street_direction               9292 non-null   object        \n",
      " 24  posted_speed_limit             9292 non-null   object        \n",
      " 25  injuries_total                 9292 non-null   float64       \n",
      " 26  lane_cnt                       2841 non-null   object        \n",
      " 27  full_address                   9292 non-null   object        \n",
      " 28  no_significant_injury          9292 non-null   float64       \n",
      " 29  injuries_not_significant       9292 non-null   float64       \n",
      " 30  month_name                     9292 non-null   object        \n",
      " 31  year                           9292 non-null   int64         \n",
      " 32  geometry                       9292 non-null   geometry      \n",
      " 33  index_right                    9292 non-null   int64         \n",
      " 34  class                          9292 non-null   object        \n",
      " 35  distance                       9292 non-null   float64       \n",
      "dtypes: datetime64[ns](1), float64(10), geometry(1), int64(2), object(22)\n",
      "memory usage: 2.6+ MB\n"
     ]
    }
   ],
   "source": [
    "crashes_cyclist_aug_df.info()"
   ]
  },
  {
   "cell_type": "code",
   "execution_count": 17,
   "id": "89f645a5",
   "metadata": {},
   "outputs": [
    {
     "data": {
      "text/plain": [
       "4      4110\n",
       "3      2869\n",
       "2      2083\n",
       "1        64\n",
       "E        54\n",
       "9        48\n",
       "7        33\n",
       "5        21\n",
       "RIV      10\n",
       "Name: class, dtype: int64"
      ]
     },
     "execution_count": 17,
     "metadata": {},
     "output_type": "execute_result"
    }
   ],
   "source": [
    "crashes_cyclist_aug_df['class'].value_counts()"
   ]
  },
  {
   "cell_type": "code",
   "execution_count": 36,
   "id": "2a3ef2c4",
   "metadata": {},
   "outputs": [],
   "source": [
    "for index, row in crashes_cyclist_aug_df.iterrows():\n",
    "    if row['class'] == '1':\n",
    "        crashes_cyclist_aug_df.loc[index, 'roadway_class'] = 'expressway'\n",
    "    elif row['class'] == '2':\n",
    "        crashes_cyclist_aug_df.loc[index, 'roadway_class'] = 'arterial'\n",
    "    elif row['class'] == '3':\n",
    "        crashes_cyclist_aug_df.loc[index, 'roadway_class'] = 'collector'\n",
    "    elif row['class'] == '4':\n",
    "        crashes_cyclist_aug_df.loc[index, 'roadway_class'] = 'other streets'\n",
    "    elif row['class'] == '5':\n",
    "        crashes_cyclist_aug_df.loc[index, 'roadway_class'] = 'named alley'\n",
    "    elif row['class'] == '7':\n",
    "        crashes_cyclist_aug_df.loc[index, 'roadway_class'] = 'tiered'\n",
    "    elif row['class'] == '9':\n",
    "        crashes_cyclist_aug_df.loc[index, 'roadway_class'] = 'ramps'\n",
    "    elif row['class'] == 'E':\n",
    "        crashes_cyclist_aug_df.loc[index, 'roadway_class'] = 'extent'\n",
    "    elif row['class'] == 'RIV':\n",
    "        crashes_cyclist_aug_df.loc[index, 'roadway_class'] = 'river'"
   ]
  },
  {
   "cell_type": "code",
   "execution_count": 37,
   "id": "9ae8fbbb",
   "metadata": {},
   "outputs": [
    {
     "data": {
      "text/html": [
       "<div>\n",
       "<style scoped>\n",
       "    .dataframe tbody tr th:only-of-type {\n",
       "        vertical-align: middle;\n",
       "    }\n",
       "\n",
       "    .dataframe tbody tr th {\n",
       "        vertical-align: top;\n",
       "    }\n",
       "\n",
       "    .dataframe thead th {\n",
       "        text-align: right;\n",
       "    }\n",
       "</style>\n",
       "<table border=\"1\" class=\"dataframe\">\n",
       "  <thead>\n",
       "    <tr style=\"text-align: right;\">\n",
       "      <th></th>\n",
       "      <th>injuries_fatal</th>\n",
       "      <th>injuries_non_incapacitating</th>\n",
       "      <th>crash_record_id</th>\n",
       "      <th>injuries_incapacitating</th>\n",
       "      <th>injuries_no_indication</th>\n",
       "      <th>latitude</th>\n",
       "      <th>street_no</th>\n",
       "      <th>device_condition</th>\n",
       "      <th>crash_date</th>\n",
       "      <th>trafficway_type</th>\n",
       "      <th>...</th>\n",
       "      <th>lane_cnt</th>\n",
       "      <th>full_address</th>\n",
       "      <th>month_name</th>\n",
       "      <th>year</th>\n",
       "      <th>injuries_none</th>\n",
       "      <th>geometry</th>\n",
       "      <th>index_right</th>\n",
       "      <th>class</th>\n",
       "      <th>distance</th>\n",
       "      <th>roadway_class</th>\n",
       "    </tr>\n",
       "  </thead>\n",
       "  <tbody>\n",
       "    <tr>\n",
       "      <th>0</th>\n",
       "      <td>0.0</td>\n",
       "      <td>0.0</td>\n",
       "      <td>73c7c72402a0325ee3217b85b97f1cd880dce1e273294e...</td>\n",
       "      <td>0.0</td>\n",
       "      <td>2.0</td>\n",
       "      <td>42.012821129</td>\n",
       "      <td>1600</td>\n",
       "      <td>NO CONTROLS</td>\n",
       "      <td>2022-08-08 16:35:00</td>\n",
       "      <td>NOT DIVIDED</td>\n",
       "      <td>...</td>\n",
       "      <td>None</td>\n",
       "      <td>1600 W TOUHY AVE CHICAGO IL</td>\n",
       "      <td>August</td>\n",
       "      <td>2022</td>\n",
       "      <td>2.0</td>\n",
       "      <td>POINT (-87.67031 42.01282)</td>\n",
       "      <td>15801</td>\n",
       "      <td>4</td>\n",
       "      <td>0.000108</td>\n",
       "      <td>other streets</td>\n",
       "    </tr>\n",
       "    <tr>\n",
       "      <th>1</th>\n",
       "      <td>0.0</td>\n",
       "      <td>0.0</td>\n",
       "      <td>e7b51330cb3cffbe562d80eb7d25cce413dcf4d3d6f8f2...</td>\n",
       "      <td>0.0</td>\n",
       "      <td>2.0</td>\n",
       "      <td>41.890595335</td>\n",
       "      <td>440</td>\n",
       "      <td>NO CONTROLS</td>\n",
       "      <td>2022-08-08 14:12:00</td>\n",
       "      <td>DIVIDED - W/MEDIAN BARRIER</td>\n",
       "      <td>...</td>\n",
       "      <td>None</td>\n",
       "      <td>440 N MICHIGAN AVE CHICAGO IL</td>\n",
       "      <td>August</td>\n",
       "      <td>2022</td>\n",
       "      <td>2.0</td>\n",
       "      <td>POINT (-87.62427 41.89060)</td>\n",
       "      <td>55009</td>\n",
       "      <td>7</td>\n",
       "      <td>0.000116</td>\n",
       "      <td>tiered</td>\n",
       "    </tr>\n",
       "    <tr>\n",
       "      <th>2</th>\n",
       "      <td>0.0</td>\n",
       "      <td>0.0</td>\n",
       "      <td>8fda3f8d995b2c9ba0cd7cbe35f60aacd6708defbd91db...</td>\n",
       "      <td>0.0</td>\n",
       "      <td>2.0</td>\n",
       "      <td>41.758291098</td>\n",
       "      <td>2</td>\n",
       "      <td>NO CONTROLS</td>\n",
       "      <td>2022-08-08 13:00:00</td>\n",
       "      <td>NOT DIVIDED</td>\n",
       "      <td>...</td>\n",
       "      <td>None</td>\n",
       "      <td>2 W 75TH ST CHICAGO IL</td>\n",
       "      <td>August</td>\n",
       "      <td>2022</td>\n",
       "      <td>2.0</td>\n",
       "      <td>POINT (-87.62479 41.75829)</td>\n",
       "      <td>32236</td>\n",
       "      <td>2</td>\n",
       "      <td>0.000029</td>\n",
       "      <td>arterial</td>\n",
       "    </tr>\n",
       "    <tr>\n",
       "      <th>3</th>\n",
       "      <td>0.0</td>\n",
       "      <td>1.0</td>\n",
       "      <td>e5bb72ff7b983e5d06b7419143e5bf9a6f6028c84cb0de...</td>\n",
       "      <td>0.0</td>\n",
       "      <td>1.0</td>\n",
       "      <td>41.800837848</td>\n",
       "      <td>2899</td>\n",
       "      <td>NO CONTROLS</td>\n",
       "      <td>2022-08-07 19:35:00</td>\n",
       "      <td>NOT DIVIDED</td>\n",
       "      <td>...</td>\n",
       "      <td>None</td>\n",
       "      <td>2899 W 51ST ST CHICAGO IL</td>\n",
       "      <td>August</td>\n",
       "      <td>2022</td>\n",
       "      <td>1.0</td>\n",
       "      <td>POINT (-87.69642 41.80084)</td>\n",
       "      <td>2237</td>\n",
       "      <td>4</td>\n",
       "      <td>0.000014</td>\n",
       "      <td>other streets</td>\n",
       "    </tr>\n",
       "    <tr>\n",
       "      <th>4</th>\n",
       "      <td>0.0</td>\n",
       "      <td>1.0</td>\n",
       "      <td>37a4a38e3879c073141bbe1259d755e6c9706c732e77c6...</td>\n",
       "      <td>0.0</td>\n",
       "      <td>1.0</td>\n",
       "      <td>41.758292422</td>\n",
       "      <td>118</td>\n",
       "      <td>NO CONTROLS</td>\n",
       "      <td>2022-08-07 17:19:00</td>\n",
       "      <td>DIVIDED - W/MEDIAN (NOT RAISED)</td>\n",
       "      <td>...</td>\n",
       "      <td>None</td>\n",
       "      <td>118 W 75TH ST CHICAGO IL</td>\n",
       "      <td>August</td>\n",
       "      <td>2022</td>\n",
       "      <td>1.0</td>\n",
       "      <td>POINT (-87.62797 41.75829)</td>\n",
       "      <td>7348</td>\n",
       "      <td>4</td>\n",
       "      <td>0.000041</td>\n",
       "      <td>other streets</td>\n",
       "    </tr>\n",
       "    <tr>\n",
       "      <th>...</th>\n",
       "      <td>...</td>\n",
       "      <td>...</td>\n",
       "      <td>...</td>\n",
       "      <td>...</td>\n",
       "      <td>...</td>\n",
       "      <td>...</td>\n",
       "      <td>...</td>\n",
       "      <td>...</td>\n",
       "      <td>...</td>\n",
       "      <td>...</td>\n",
       "      <td>...</td>\n",
       "      <td>...</td>\n",
       "      <td>...</td>\n",
       "      <td>...</td>\n",
       "      <td>...</td>\n",
       "      <td>...</td>\n",
       "      <td>...</td>\n",
       "      <td>...</td>\n",
       "      <td>...</td>\n",
       "      <td>...</td>\n",
       "      <td>...</td>\n",
       "    </tr>\n",
       "    <tr>\n",
       "      <th>9287</th>\n",
       "      <td>0.0</td>\n",
       "      <td>0.0</td>\n",
       "      <td>0ebcfc991b206474cf68ef0099609684dffb3b0c1e078e...</td>\n",
       "      <td>0.0</td>\n",
       "      <td>1.0</td>\n",
       "      <td>41.915249987</td>\n",
       "      <td>1816</td>\n",
       "      <td>FUNCTIONING PROPERLY</td>\n",
       "      <td>2015-08-26 08:41:00</td>\n",
       "      <td>NOT DIVIDED</td>\n",
       "      <td>...</td>\n",
       "      <td>4</td>\n",
       "      <td>1816 N CLARK ST CHICAGO IL</td>\n",
       "      <td>August</td>\n",
       "      <td>2015</td>\n",
       "      <td>2.0</td>\n",
       "      <td>POINT (-87.63429 41.91525)</td>\n",
       "      <td>1177</td>\n",
       "      <td>3</td>\n",
       "      <td>0.000138</td>\n",
       "      <td>collector</td>\n",
       "    </tr>\n",
       "    <tr>\n",
       "      <th>9288</th>\n",
       "      <td>0.0</td>\n",
       "      <td>1.0</td>\n",
       "      <td>a2458d8a19e7f502ec81f85ecdbd971c1e4bb12dc34da8...</td>\n",
       "      <td>0.0</td>\n",
       "      <td>1.0</td>\n",
       "      <td>41.89558431</td>\n",
       "      <td>752</td>\n",
       "      <td>FUNCTIONING PROPERLY</td>\n",
       "      <td>2015-08-21 09:30:00</td>\n",
       "      <td>NOT DIVIDED</td>\n",
       "      <td>...</td>\n",
       "      <td>2</td>\n",
       "      <td>752 N OGDEN AVE CHICAGO IL</td>\n",
       "      <td>August</td>\n",
       "      <td>2015</td>\n",
       "      <td>1.0</td>\n",
       "      <td>POINT (-87.65539 41.89558)</td>\n",
       "      <td>54633</td>\n",
       "      <td>4</td>\n",
       "      <td>0.000009</td>\n",
       "      <td>other streets</td>\n",
       "    </tr>\n",
       "    <tr>\n",
       "      <th>9289</th>\n",
       "      <td>0.0</td>\n",
       "      <td>0.0</td>\n",
       "      <td>3d25ae31f7adea360bd4b6fb138c541a84443dae0fad58...</td>\n",
       "      <td>0.0</td>\n",
       "      <td>3.0</td>\n",
       "      <td>41.87440974</td>\n",
       "      <td>105</td>\n",
       "      <td>NO CONTROLS</td>\n",
       "      <td>2015-08-19 18:45:00</td>\n",
       "      <td>NOT DIVIDED</td>\n",
       "      <td>...</td>\n",
       "      <td>2</td>\n",
       "      <td>105 W HARRISON ST CHICAGO IL</td>\n",
       "      <td>August</td>\n",
       "      <td>2015</td>\n",
       "      <td>3.0</td>\n",
       "      <td>POINT (-87.63085 41.87441)</td>\n",
       "      <td>8767</td>\n",
       "      <td>3</td>\n",
       "      <td>0.000110</td>\n",
       "      <td>collector</td>\n",
       "    </tr>\n",
       "    <tr>\n",
       "      <th>9290</th>\n",
       "      <td>0.0</td>\n",
       "      <td>0.0</td>\n",
       "      <td>960536ce2853fdd8c904e8ed3ae0ba186535e0049a999b...</td>\n",
       "      <td>0.0</td>\n",
       "      <td>1.0</td>\n",
       "      <td>41.891134744</td>\n",
       "      <td>495</td>\n",
       "      <td>NO CONTROLS</td>\n",
       "      <td>2015-08-19 09:15:00</td>\n",
       "      <td>DIVIDED - W/MEDIAN (NOT RAISED)</td>\n",
       "      <td>...</td>\n",
       "      <td>2</td>\n",
       "      <td>495 N MILWAUKEE AVE CHICAGO IL</td>\n",
       "      <td>August</td>\n",
       "      <td>2015</td>\n",
       "      <td>2.0</td>\n",
       "      <td>POINT (-87.64730 41.89113)</td>\n",
       "      <td>52900</td>\n",
       "      <td>3</td>\n",
       "      <td>0.000051</td>\n",
       "      <td>collector</td>\n",
       "    </tr>\n",
       "    <tr>\n",
       "      <th>9291</th>\n",
       "      <td>0.0</td>\n",
       "      <td>1.0</td>\n",
       "      <td>a7605090a223817b0b083b884e4b6914d7a47824a91793...</td>\n",
       "      <td>0.0</td>\n",
       "      <td>0.0</td>\n",
       "      <td>41.88932697</td>\n",
       "      <td>68</td>\n",
       "      <td>FUNCTIONING PROPERLY</td>\n",
       "      <td>2015-08-18 13:30:00</td>\n",
       "      <td>DIVIDED - W/MEDIAN (NOT RAISED)</td>\n",
       "      <td>...</td>\n",
       "      <td>2</td>\n",
       "      <td>68 W KINZIE ST CHICAGO IL</td>\n",
       "      <td>August</td>\n",
       "      <td>2015</td>\n",
       "      <td>0.0</td>\n",
       "      <td>POINT (-87.63064 41.88933)</td>\n",
       "      <td>52848</td>\n",
       "      <td>3</td>\n",
       "      <td>0.000110</td>\n",
       "      <td>collector</td>\n",
       "    </tr>\n",
       "  </tbody>\n",
       "</table>\n",
       "<p>9292 rows × 35 columns</p>\n",
       "</div>"
      ],
      "text/plain": [
       "      injuries_fatal  injuries_non_incapacitating  \\\n",
       "0                0.0                          0.0   \n",
       "1                0.0                          0.0   \n",
       "2                0.0                          0.0   \n",
       "3                0.0                          1.0   \n",
       "4                0.0                          1.0   \n",
       "...              ...                          ...   \n",
       "9287             0.0                          0.0   \n",
       "9288             0.0                          1.0   \n",
       "9289             0.0                          0.0   \n",
       "9290             0.0                          0.0   \n",
       "9291             0.0                          1.0   \n",
       "\n",
       "                                        crash_record_id  \\\n",
       "0     73c7c72402a0325ee3217b85b97f1cd880dce1e273294e...   \n",
       "1     e7b51330cb3cffbe562d80eb7d25cce413dcf4d3d6f8f2...   \n",
       "2     8fda3f8d995b2c9ba0cd7cbe35f60aacd6708defbd91db...   \n",
       "3     e5bb72ff7b983e5d06b7419143e5bf9a6f6028c84cb0de...   \n",
       "4     37a4a38e3879c073141bbe1259d755e6c9706c732e77c6...   \n",
       "...                                                 ...   \n",
       "9287  0ebcfc991b206474cf68ef0099609684dffb3b0c1e078e...   \n",
       "9288  a2458d8a19e7f502ec81f85ecdbd971c1e4bb12dc34da8...   \n",
       "9289  3d25ae31f7adea360bd4b6fb138c541a84443dae0fad58...   \n",
       "9290  960536ce2853fdd8c904e8ed3ae0ba186535e0049a999b...   \n",
       "9291  a7605090a223817b0b083b884e4b6914d7a47824a91793...   \n",
       "\n",
       "      injuries_incapacitating  injuries_no_indication      latitude street_no  \\\n",
       "0                         0.0                     2.0  42.012821129      1600   \n",
       "1                         0.0                     2.0  41.890595335       440   \n",
       "2                         0.0                     2.0  41.758291098         2   \n",
       "3                         0.0                     1.0  41.800837848      2899   \n",
       "4                         0.0                     1.0  41.758292422       118   \n",
       "...                       ...                     ...           ...       ...   \n",
       "9287                      0.0                     1.0  41.915249987      1816   \n",
       "9288                      0.0                     1.0   41.89558431       752   \n",
       "9289                      0.0                     3.0   41.87440974       105   \n",
       "9290                      0.0                     1.0  41.891134744       495   \n",
       "9291                      0.0                     0.0   41.88932697        68   \n",
       "\n",
       "          device_condition          crash_date  \\\n",
       "0              NO CONTROLS 2022-08-08 16:35:00   \n",
       "1              NO CONTROLS 2022-08-08 14:12:00   \n",
       "2              NO CONTROLS 2022-08-08 13:00:00   \n",
       "3              NO CONTROLS 2022-08-07 19:35:00   \n",
       "4              NO CONTROLS 2022-08-07 17:19:00   \n",
       "...                    ...                 ...   \n",
       "9287  FUNCTIONING PROPERLY 2015-08-26 08:41:00   \n",
       "9288  FUNCTIONING PROPERLY 2015-08-21 09:30:00   \n",
       "9289           NO CONTROLS 2015-08-19 18:45:00   \n",
       "9290           NO CONTROLS 2015-08-19 09:15:00   \n",
       "9291  FUNCTIONING PROPERLY 2015-08-18 13:30:00   \n",
       "\n",
       "                      trafficway_type  ... lane_cnt  \\\n",
       "0                         NOT DIVIDED  ...     None   \n",
       "1          DIVIDED - W/MEDIAN BARRIER  ...     None   \n",
       "2                         NOT DIVIDED  ...     None   \n",
       "3                         NOT DIVIDED  ...     None   \n",
       "4     DIVIDED - W/MEDIAN (NOT RAISED)  ...     None   \n",
       "...                               ...  ...      ...   \n",
       "9287                      NOT DIVIDED  ...        4   \n",
       "9288                      NOT DIVIDED  ...        2   \n",
       "9289                      NOT DIVIDED  ...        2   \n",
       "9290  DIVIDED - W/MEDIAN (NOT RAISED)  ...        2   \n",
       "9291  DIVIDED - W/MEDIAN (NOT RAISED)  ...        2   \n",
       "\n",
       "                        full_address month_name  year injuries_none  \\\n",
       "0        1600 W TOUHY AVE CHICAGO IL     August  2022           2.0   \n",
       "1      440 N MICHIGAN AVE CHICAGO IL     August  2022           2.0   \n",
       "2             2 W 75TH ST CHICAGO IL     August  2022           2.0   \n",
       "3          2899 W 51ST ST CHICAGO IL     August  2022           1.0   \n",
       "4           118 W 75TH ST CHICAGO IL     August  2022           1.0   \n",
       "...                              ...        ...   ...           ...   \n",
       "9287      1816 N CLARK ST CHICAGO IL     August  2015           2.0   \n",
       "9288      752 N OGDEN AVE CHICAGO IL     August  2015           1.0   \n",
       "9289    105 W HARRISON ST CHICAGO IL     August  2015           3.0   \n",
       "9290  495 N MILWAUKEE AVE CHICAGO IL     August  2015           2.0   \n",
       "9291       68 W KINZIE ST CHICAGO IL     August  2015           0.0   \n",
       "\n",
       "                        geometry index_right class  distance  roadway_class  \n",
       "0     POINT (-87.67031 42.01282)       15801     4  0.000108  other streets  \n",
       "1     POINT (-87.62427 41.89060)       55009     7  0.000116         tiered  \n",
       "2     POINT (-87.62479 41.75829)       32236     2  0.000029       arterial  \n",
       "3     POINT (-87.69642 41.80084)        2237     4  0.000014  other streets  \n",
       "4     POINT (-87.62797 41.75829)        7348     4  0.000041  other streets  \n",
       "...                          ...         ...   ...       ...            ...  \n",
       "9287  POINT (-87.63429 41.91525)        1177     3  0.000138      collector  \n",
       "9288  POINT (-87.65539 41.89558)       54633     4  0.000009  other streets  \n",
       "9289  POINT (-87.63085 41.87441)        8767     3  0.000110      collector  \n",
       "9290  POINT (-87.64730 41.89113)       52900     3  0.000051      collector  \n",
       "9291  POINT (-87.63064 41.88933)       52848     3  0.000110      collector  \n",
       "\n",
       "[9292 rows x 35 columns]"
      ]
     },
     "execution_count": 37,
     "metadata": {},
     "output_type": "execute_result"
    }
   ],
   "source": [
    "crashes_cyclist_aug_df"
   ]
  },
  {
   "cell_type": "code",
   "execution_count": 23,
   "id": "02931716",
   "metadata": {},
   "outputs": [
    {
     "data": {
      "text/plain": [
       "other streets    4110\n",
       "collector        2869\n",
       "arterial         2083\n",
       "expressway         64\n",
       "extent             54\n",
       "ramps              48\n",
       "tiered             33\n",
       "named alley        21\n",
       "river              10\n",
       "Name: roadway_class, dtype: int64"
      ]
     },
     "execution_count": 23,
     "metadata": {},
     "output_type": "execute_result"
    }
   ],
   "source": [
    "crashes_cyclist_aug_df['roadway_class'].value_counts()"
   ]
  },
  {
   "cell_type": "code",
   "execution_count": 39,
   "id": "aada8cdc",
   "metadata": {},
   "outputs": [],
   "source": [
    "#save to geojson\n",
    "crashes_cyclist_aug_df.to_file(\"data/crashes_cyclist_aug_df.geojson\", driver='GeoJSON')"
   ]
  },
  {
   "cell_type": "code",
   "execution_count": 40,
   "id": "ae941c2d",
   "metadata": {},
   "outputs": [],
   "source": [
    "#save to csv\n",
    "crashes_cyclist_aug_df.to_csv('data/crashes_cyclist_aug_df.csv')"
   ]
  },
  {
   "cell_type": "markdown",
   "id": "f7a77ca9",
   "metadata": {},
   "source": [
    "### how many of the crashes in crashes_ped_aug_df.geojson and crashes_cyclist_aug_df.geojson have the ped or cyclist for that crash_record_id as '1' for unit_no in Vehicles? Unit 1 can mean one of 2 things: it is the \"known or perceived vehicle at-fault\" OR \"if the at-fault vehicle is not evident, the striking unit should be entered as Unit 1.\""
   ]
  },
  {
   "cell_type": "code",
   "execution_count": 4,
   "id": "8de2f756",
   "metadata": {},
   "outputs": [
    {
     "name": "stderr",
     "output_type": "stream",
     "text": [
      "/tmp/ipykernel_99307/878938325.py:1: DtypeWarning: Columns (19,21,40,41,42,44,48,49,50,53,55,58,59,61,71) have mixed types. Specify dtype option on import or set low_memory=False.\n",
      "  vehicles_df = pd.read_csv('data/Traffic_Crashes_-_Vehicles.csv')\n"
     ]
    }
   ],
   "source": [
    "vehicles_df = pd.read_csv('data/Traffic_Crashes_-_Vehicles.csv')"
   ]
  },
  {
   "cell_type": "code",
   "execution_count": 5,
   "id": "ebacdae5",
   "metadata": {},
   "outputs": [
    {
     "data": {
      "text/html": [
       "<div>\n",
       "<style scoped>\n",
       "    .dataframe tbody tr th:only-of-type {\n",
       "        vertical-align: middle;\n",
       "    }\n",
       "\n",
       "    .dataframe tbody tr th {\n",
       "        vertical-align: top;\n",
       "    }\n",
       "\n",
       "    .dataframe thead th {\n",
       "        text-align: right;\n",
       "    }\n",
       "</style>\n",
       "<table border=\"1\" class=\"dataframe\">\n",
       "  <thead>\n",
       "    <tr style=\"text-align: right;\">\n",
       "      <th></th>\n",
       "      <th>CRASH_UNIT_ID</th>\n",
       "      <th>CRASH_RECORD_ID</th>\n",
       "      <th>RD_NO</th>\n",
       "      <th>CRASH_DATE</th>\n",
       "      <th>UNIT_NO</th>\n",
       "      <th>UNIT_TYPE</th>\n",
       "      <th>NUM_PASSENGERS</th>\n",
       "      <th>VEHICLE_ID</th>\n",
       "      <th>CMRC_VEH_I</th>\n",
       "      <th>MAKE</th>\n",
       "      <th>...</th>\n",
       "      <th>TRAILER1_LENGTH</th>\n",
       "      <th>TRAILER2_LENGTH</th>\n",
       "      <th>TOTAL_VEHICLE_LENGTH</th>\n",
       "      <th>AXLE_CNT</th>\n",
       "      <th>VEHICLE_CONFIG</th>\n",
       "      <th>CARGO_BODY_TYPE</th>\n",
       "      <th>LOAD_TYPE</th>\n",
       "      <th>HAZMAT_OUT_OF_SERVICE_I</th>\n",
       "      <th>MCS_OUT_OF_SERVICE_I</th>\n",
       "      <th>HAZMAT_CLASS</th>\n",
       "    </tr>\n",
       "  </thead>\n",
       "  <tbody>\n",
       "    <tr>\n",
       "      <th>0</th>\n",
       "      <td>829999</td>\n",
       "      <td>24ddf9fd8542199d832e1c223cc474e5601b356f1d77a6...</td>\n",
       "      <td>JD124535</td>\n",
       "      <td>01/22/2020 06:25:00 AM</td>\n",
       "      <td>1</td>\n",
       "      <td>DRIVER</td>\n",
       "      <td>NaN</td>\n",
       "      <td>796949.0</td>\n",
       "      <td>NaN</td>\n",
       "      <td>INFINITI</td>\n",
       "      <td>...</td>\n",
       "      <td>NaN</td>\n",
       "      <td>NaN</td>\n",
       "      <td>NaN</td>\n",
       "      <td>NaN</td>\n",
       "      <td>NaN</td>\n",
       "      <td>NaN</td>\n",
       "      <td>NaN</td>\n",
       "      <td>NaN</td>\n",
       "      <td>NaN</td>\n",
       "      <td>NaN</td>\n",
       "    </tr>\n",
       "    <tr>\n",
       "      <th>1</th>\n",
       "      <td>749947</td>\n",
       "      <td>81dc0de2ed92aa62baccab641fa377be7feb1cc47e6554...</td>\n",
       "      <td>JC451435</td>\n",
       "      <td>09/28/2019 03:30:00 AM</td>\n",
       "      <td>1</td>\n",
       "      <td>DRIVER</td>\n",
       "      <td>NaN</td>\n",
       "      <td>834816.0</td>\n",
       "      <td>NaN</td>\n",
       "      <td>HONDA</td>\n",
       "      <td>...</td>\n",
       "      <td>NaN</td>\n",
       "      <td>NaN</td>\n",
       "      <td>NaN</td>\n",
       "      <td>NaN</td>\n",
       "      <td>NaN</td>\n",
       "      <td>NaN</td>\n",
       "      <td>NaN</td>\n",
       "      <td>NaN</td>\n",
       "      <td>NaN</td>\n",
       "      <td>NaN</td>\n",
       "    </tr>\n",
       "    <tr>\n",
       "      <th>2</th>\n",
       "      <td>749949</td>\n",
       "      <td>81dc0de2ed92aa62baccab641fa377be7feb1cc47e6554...</td>\n",
       "      <td>JC451435</td>\n",
       "      <td>09/28/2019 03:30:00 AM</td>\n",
       "      <td>2</td>\n",
       "      <td>PARKED</td>\n",
       "      <td>NaN</td>\n",
       "      <td>834819.0</td>\n",
       "      <td>NaN</td>\n",
       "      <td>TOYOTA</td>\n",
       "      <td>...</td>\n",
       "      <td>NaN</td>\n",
       "      <td>NaN</td>\n",
       "      <td>NaN</td>\n",
       "      <td>NaN</td>\n",
       "      <td>NaN</td>\n",
       "      <td>NaN</td>\n",
       "      <td>NaN</td>\n",
       "      <td>NaN</td>\n",
       "      <td>NaN</td>\n",
       "      <td>NaN</td>\n",
       "    </tr>\n",
       "    <tr>\n",
       "      <th>3</th>\n",
       "      <td>749950</td>\n",
       "      <td>81dc0de2ed92aa62baccab641fa377be7feb1cc47e6554...</td>\n",
       "      <td>JC451435</td>\n",
       "      <td>09/28/2019 03:30:00 AM</td>\n",
       "      <td>3</td>\n",
       "      <td>PARKED</td>\n",
       "      <td>NaN</td>\n",
       "      <td>834817.0</td>\n",
       "      <td>NaN</td>\n",
       "      <td>GENERAL MOTORS CORPORATION (GMC)</td>\n",
       "      <td>...</td>\n",
       "      <td>NaN</td>\n",
       "      <td>NaN</td>\n",
       "      <td>NaN</td>\n",
       "      <td>NaN</td>\n",
       "      <td>NaN</td>\n",
       "      <td>NaN</td>\n",
       "      <td>NaN</td>\n",
       "      <td>NaN</td>\n",
       "      <td>NaN</td>\n",
       "      <td>NaN</td>\n",
       "    </tr>\n",
       "    <tr>\n",
       "      <th>4</th>\n",
       "      <td>871921</td>\n",
       "      <td>af84fb5c8d996fcd3aefd36593c3a02e6e7509eeb27568...</td>\n",
       "      <td>JD208731</td>\n",
       "      <td>04/13/2020 10:50:00 PM</td>\n",
       "      <td>2</td>\n",
       "      <td>DRIVER</td>\n",
       "      <td>NaN</td>\n",
       "      <td>827212.0</td>\n",
       "      <td>NaN</td>\n",
       "      <td>BUICK</td>\n",
       "      <td>...</td>\n",
       "      <td>NaN</td>\n",
       "      <td>NaN</td>\n",
       "      <td>NaN</td>\n",
       "      <td>NaN</td>\n",
       "      <td>NaN</td>\n",
       "      <td>NaN</td>\n",
       "      <td>NaN</td>\n",
       "      <td>NaN</td>\n",
       "      <td>NaN</td>\n",
       "      <td>NaN</td>\n",
       "    </tr>\n",
       "  </tbody>\n",
       "</table>\n",
       "<p>5 rows × 72 columns</p>\n",
       "</div>"
      ],
      "text/plain": [
       "   CRASH_UNIT_ID                                    CRASH_RECORD_ID     RD_NO  \\\n",
       "0         829999  24ddf9fd8542199d832e1c223cc474e5601b356f1d77a6...  JD124535   \n",
       "1         749947  81dc0de2ed92aa62baccab641fa377be7feb1cc47e6554...  JC451435   \n",
       "2         749949  81dc0de2ed92aa62baccab641fa377be7feb1cc47e6554...  JC451435   \n",
       "3         749950  81dc0de2ed92aa62baccab641fa377be7feb1cc47e6554...  JC451435   \n",
       "4         871921  af84fb5c8d996fcd3aefd36593c3a02e6e7509eeb27568...  JD208731   \n",
       "\n",
       "               CRASH_DATE  UNIT_NO UNIT_TYPE  NUM_PASSENGERS  VEHICLE_ID  \\\n",
       "0  01/22/2020 06:25:00 AM        1    DRIVER             NaN    796949.0   \n",
       "1  09/28/2019 03:30:00 AM        1    DRIVER             NaN    834816.0   \n",
       "2  09/28/2019 03:30:00 AM        2    PARKED             NaN    834819.0   \n",
       "3  09/28/2019 03:30:00 AM        3    PARKED             NaN    834817.0   \n",
       "4  04/13/2020 10:50:00 PM        2    DRIVER             NaN    827212.0   \n",
       "\n",
       "  CMRC_VEH_I                              MAKE  ... TRAILER1_LENGTH  \\\n",
       "0        NaN                          INFINITI  ...             NaN   \n",
       "1        NaN                             HONDA  ...             NaN   \n",
       "2        NaN                            TOYOTA  ...             NaN   \n",
       "3        NaN  GENERAL MOTORS CORPORATION (GMC)  ...             NaN   \n",
       "4        NaN                             BUICK  ...             NaN   \n",
       "\n",
       "  TRAILER2_LENGTH  TOTAL_VEHICLE_LENGTH AXLE_CNT VEHICLE_CONFIG  \\\n",
       "0             NaN                   NaN      NaN            NaN   \n",
       "1             NaN                   NaN      NaN            NaN   \n",
       "2             NaN                   NaN      NaN            NaN   \n",
       "3             NaN                   NaN      NaN            NaN   \n",
       "4             NaN                   NaN      NaN            NaN   \n",
       "\n",
       "  CARGO_BODY_TYPE LOAD_TYPE HAZMAT_OUT_OF_SERVICE_I MCS_OUT_OF_SERVICE_I  \\\n",
       "0             NaN       NaN                     NaN                  NaN   \n",
       "1             NaN       NaN                     NaN                  NaN   \n",
       "2             NaN       NaN                     NaN                  NaN   \n",
       "3             NaN       NaN                     NaN                  NaN   \n",
       "4             NaN       NaN                     NaN                  NaN   \n",
       "\n",
       "  HAZMAT_CLASS  \n",
       "0          NaN  \n",
       "1          NaN  \n",
       "2          NaN  \n",
       "3          NaN  \n",
       "4          NaN  \n",
       "\n",
       "[5 rows x 72 columns]"
      ]
     },
     "execution_count": 5,
     "metadata": {},
     "output_type": "execute_result"
    }
   ],
   "source": [
    "vehicles_df.head()"
   ]
  },
  {
   "cell_type": "code",
   "execution_count": 15,
   "id": "10cbae95",
   "metadata": {},
   "outputs": [
    {
     "data": {
      "text/plain": [
       "DRIVER                 1095565\n",
       "PARKED                  171961\n",
       "PEDESTRIAN               15945\n",
       "DRIVERLESS               11582\n",
       "BICYCLE                   9704\n",
       "NON-MOTOR VEHICLE         1156\n",
       "NON-CONTACT VEHICLE        254\n",
       "DISABLED VEHICLE           150\n",
       "EQUESTRIAN                   6\n",
       "Name: UNIT_TYPE, dtype: int64"
      ]
     },
     "execution_count": 15,
     "metadata": {},
     "output_type": "execute_result"
    }
   ],
   "source": [
    "vehicles_df['UNIT_TYPE'].value_counts()"
   ]
  },
  {
   "cell_type": "code",
   "execution_count": 23,
   "id": "32d96cff",
   "metadata": {},
   "outputs": [],
   "source": [
    "peds_unit_no = vehicles_df[vehicles_df['UNIT_TYPE'] == 'PEDESTRIAN']"
   ]
  },
  {
   "cell_type": "code",
   "execution_count": 24,
   "id": "afba3cb1",
   "metadata": {},
   "outputs": [],
   "source": [
    "peds_fault_df = peds_unit_no[peds_unit_no['UNIT_NO'] == 1]"
   ]
  },
  {
   "cell_type": "code",
   "execution_count": 41,
   "id": "5903508c",
   "metadata": {},
   "outputs": [
    {
     "data": {
      "text/plain": [
       "(1277, 72)"
      ]
     },
     "execution_count": 41,
     "metadata": {},
     "output_type": "execute_result"
    }
   ],
   "source": [
    "peds_fault_df.shape\n",
    "#1277 peds listed as Unit 1 in Vehicles"
   ]
  },
  {
   "cell_type": "code",
   "execution_count": 25,
   "id": "3154fc3c",
   "metadata": {},
   "outputs": [],
   "source": [
    "peds_not_fault_df = peds_unit_no[peds_unit_no['UNIT_NO'] != 1]"
   ]
  },
  {
   "cell_type": "code",
   "execution_count": 27,
   "id": "5a94abc5",
   "metadata": {},
   "outputs": [
    {
     "data": {
      "text/plain": [
       "(14668, 72)"
      ]
     },
     "execution_count": 27,
     "metadata": {},
     "output_type": "execute_result"
    }
   ],
   "source": [
    "peds_not_fault_df.shape"
   ]
  },
  {
   "cell_type": "code",
   "execution_count": 28,
   "id": "f77ddb2c",
   "metadata": {},
   "outputs": [],
   "source": [
    "cyclists_unit_no = vehicles_df[vehicles_df['UNIT_TYPE'] == 'BICYCLE']"
   ]
  },
  {
   "cell_type": "code",
   "execution_count": 29,
   "id": "eb3cf4a6",
   "metadata": {},
   "outputs": [],
   "source": [
    "cyclists_fault_df = cyclists_unit_no[cyclists_unit_no['UNIT_NO'] == 1]"
   ]
  },
  {
   "cell_type": "code",
   "execution_count": 45,
   "id": "40547feb",
   "metadata": {},
   "outputs": [
    {
     "data": {
      "text/plain": [
       "(2761, 72)"
      ]
     },
     "execution_count": 45,
     "metadata": {},
     "output_type": "execute_result"
    }
   ],
   "source": [
    "cyclists_fault_df.shape\n",
    "#2761 cyclists listed as Unit 1 in Vehicles"
   ]
  },
  {
   "cell_type": "code",
   "execution_count": 30,
   "id": "2fd507cf",
   "metadata": {},
   "outputs": [],
   "source": [
    "cyclists_not_fault_df = cyclists_unit_no[cyclists_unit_no['UNIT_NO'] != 1]"
   ]
  },
  {
   "cell_type": "code",
   "execution_count": 32,
   "id": "5dfe499b",
   "metadata": {},
   "outputs": [
    {
     "data": {
      "text/plain": [
       "(6943, 72)"
      ]
     },
     "execution_count": 32,
     "metadata": {},
     "output_type": "execute_result"
    }
   ],
   "source": [
    "cyclists_not_fault_df.shape"
   ]
  },
  {
   "cell_type": "code",
   "execution_count": 37,
   "id": "2f025306",
   "metadata": {},
   "outputs": [],
   "source": [
    "crashes_ped_aug_df = gpd.read_file('data/crashes_ped_aug_df.geojson')"
   ]
  },
  {
   "cell_type": "code",
   "execution_count": 52,
   "id": "35aae4cb",
   "metadata": {},
   "outputs": [
    {
     "data": {
      "text/plain": [
       "(14389, 35)"
      ]
     },
     "execution_count": 52,
     "metadata": {},
     "output_type": "execute_result"
    }
   ],
   "source": [
    "crashes_ped_aug_df.shape"
   ]
  },
  {
   "cell_type": "code",
   "execution_count": 47,
   "id": "682ef108",
   "metadata": {},
   "outputs": [],
   "source": [
    "crashes_cyclist_aug_df = gpd.read_file('data/crashes_cyclist_aug_df.geojson')"
   ]
  },
  {
   "cell_type": "code",
   "execution_count": 53,
   "id": "d2ec9626",
   "metadata": {},
   "outputs": [
    {
     "data": {
      "text/plain": [
       "(9292, 35)"
      ]
     },
     "execution_count": 53,
     "metadata": {},
     "output_type": "execute_result"
    }
   ],
   "source": [
    "crashes_cyclist_aug_df.shape"
   ]
  },
  {
   "cell_type": "code",
   "execution_count": 42,
   "id": "fe1878d3",
   "metadata": {},
   "outputs": [
    {
     "data": {
      "text/plain": [
       "(1131, 35)"
      ]
     },
     "execution_count": 42,
     "metadata": {},
     "output_type": "execute_result"
    }
   ],
   "source": [
    "crash_id_peds = peds_fault_df['CRASH_RECORD_ID'].tolist()\n",
    "crashes_ped_aug_df.loc[crashes_ped_aug_df['crash_record_id'].isin(crash_id_peds)].reset_index(drop=True).shape\n",
    "# 1131 crashes in crashes_ped_aug_df have a pedestrian listed as unit 1 in Vehicles"
   ]
  },
  {
   "cell_type": "code",
   "execution_count": 51,
   "id": "4e07eb97",
   "metadata": {},
   "outputs": [
    {
     "data": {
      "text/plain": [
       "(2626, 35)"
      ]
     },
     "execution_count": 51,
     "metadata": {},
     "output_type": "execute_result"
    }
   ],
   "source": [
    "crash_id_cyclists = cyclists_fault_df['CRASH_RECORD_ID'].tolist()\n",
    "crashes_cyclist_aug_df.loc[crashes_cyclist_aug_df['crash_record_id'].isin(crash_id_cyclists)].reset_index(drop=True).shape\n",
    "#2626 crashes in crashes_cyclist_aug_df have a cyclist listed as unit 1 in Vehicles"
   ]
  },
  {
   "cell_type": "code",
   "execution_count": null,
   "id": "8cc71614",
   "metadata": {},
   "outputs": [],
   "source": []
  }
 ],
 "metadata": {
  "kernelspec": {
   "display_name": "Python 3 (ipykernel)",
   "language": "python",
   "name": "python3"
  },
  "language_info": {
   "codemirror_mode": {
    "name": "ipython",
    "version": 3
   },
   "file_extension": ".py",
   "mimetype": "text/x-python",
   "name": "python",
   "nbconvert_exporter": "python",
   "pygments_lexer": "ipython3",
   "version": "3.10.5"
  }
 },
 "nbformat": 4,
 "nbformat_minor": 5
}
