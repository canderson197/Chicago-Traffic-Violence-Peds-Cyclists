{
 "cells": [
  {
   "cell_type": "code",
   "execution_count": 2,
   "id": "509b231d",
   "metadata": {},
   "outputs": [],
   "source": [
    "from shapely.geometry import Point, MultiLineString\n",
    "import geopandas as gpd\n",
    "import pandas as pd\n",
    "import numpy as np\n",
    "import matplotlib.pyplot as plt\n",
    "import requests\n",
    "import json\n",
    "import folium\n",
    "from folium.plugins import MarkerCluster\n",
    "from folium.plugins import FastMarkerCluster\n",
    "#from geopy.geocoders import Nominatim\n",
    "%matplotlib inline "
   ]
  },
  {
   "cell_type": "markdown",
   "id": "1a793439",
   "metadata": {},
   "source": [
    "## get crashes_df from the API and clean"
   ]
  },
  {
   "cell_type": "code",
   "execution_count": null,
   "id": "e2a19949",
   "metadata": {},
   "outputs": [],
   "source": [
    "endpoint_crashes = 'https://data.cityofchicago.org/resource/85ca-t3if.geojson?$select=crash_record_id,crash_date,posted_speed_limit,traffic_control_device,device_condition,first_crash_type,trafficway_type,lane_cnt,road_defect,prim_contributory_cause,sec_contributory_cause,most_severe_injury,injuries_total,injuries_fatal,injuries_incapacitating,injuries_non_incapacitating,injuries_reported_not_evident,injuries_no_indication,injuries_unknown,crash_hour,crash_day_of_week,crash_month,street_no,street_direction,street_name,latitude,longitude,location&$limit=650000'\n",
    "res = requests.get(endpoint_crashes)\n",
    "res = res.json()"
   ]
  },
  {
   "cell_type": "code",
   "execution_count": null,
   "id": "1860e2d2",
   "metadata": {
    "scrolled": true
   },
   "outputs": [],
   "source": [
    "crashes_df = gpd.GeoDataFrame.from_features(res['features'])"
   ]
  },
  {
   "cell_type": "code",
   "execution_count": null,
   "id": "5846a67a",
   "metadata": {
    "scrolled": true
   },
   "outputs": [],
   "source": [
    "crashes_df.info()"
   ]
  },
  {
   "cell_type": "code",
   "execution_count": null,
   "id": "a02575fd",
   "metadata": {},
   "outputs": [],
   "source": [
    "type(crashes_df)"
   ]
  },
  {
   "cell_type": "code",
   "execution_count": null,
   "id": "f6ee8046",
   "metadata": {},
   "outputs": [],
   "source": [
    "#filter out crashes where there was debris on roadway\n",
    "crashes_df = crashes_df.loc[crashes_df['road_defect'] != 'DEBRIS ON ROADWAY']"
   ]
  },
  {
   "cell_type": "code",
   "execution_count": null,
   "id": "ce87c829",
   "metadata": {},
   "outputs": [],
   "source": [
    "#filter out crashes where the traffic control device was functioning improperly or not functioning\n",
    "device_not_working = ['FUNCTIONING IMPROPERLY','NOT FUNCTIONING']\n",
    "crashes_df = crashes_df.loc[~crashes_df['device_condition'].isin(device_not_working)]\n",
    "#crashes.loc[crashes['crash_record_id'].isin(crash_id_peds)]"
   ]
  },
  {
   "cell_type": "code",
   "execution_count": null,
   "id": "31c7a06d",
   "metadata": {},
   "outputs": [],
   "source": [
    "#there is one row in there with POINT of (0,0) and it throws off plotting the map later on, so get rid of it\n",
    "crashes_df = crashes_df[crashes_df['geometry'].x != 0]"
   ]
  },
  {
   "cell_type": "code",
   "execution_count": null,
   "id": "951096f6",
   "metadata": {},
   "outputs": [],
   "source": [
    "#concat full address\n",
    "crashes_df['full_address'] = crashes_df['street_no'] + ' ' + crashes_df['street_direction'] + ' ' + crashes_df['street_name'] + ' CHICAGO IL'"
   ]
  },
  {
   "cell_type": "code",
   "execution_count": null,
   "id": "9d78fabf",
   "metadata": {},
   "outputs": [],
   "source": [
    "#filter out 5 rows with null full_address\n",
    "crashes_df = crashes_df[crashes_df['full_address'].notna()]"
   ]
  },
  {
   "cell_type": "code",
   "execution_count": null,
   "id": "dc6546a4",
   "metadata": {},
   "outputs": [],
   "source": [
    "#how many null geometries are there? 3877\n",
    "len(crashes_df[crashes_df['geometry'].isna()])"
   ]
  },
  {
   "cell_type": "code",
   "execution_count": null,
   "id": "330c0ded",
   "metadata": {},
   "outputs": [],
   "source": [
    "#geopy code. this takes an address and generates long/lat\n",
    "#checking to see if it works for one single row before applying to larger set\n",
    "geolocator = Nominatim(user_agent=\"colin\")\n",
    "location = geolocator.geocode(crashes_df.loc[1,'full_address'])\n",
    "print(location.address)\n",
    "print((location.longitude, location.latitude))"
   ]
  },
  {
   "cell_type": "code",
   "execution_count": null,
   "id": "af54271d",
   "metadata": {},
   "outputs": [],
   "source": [
    "#check what data type is generated\n",
    "type(location.longitude)"
   ]
  },
  {
   "cell_type": "code",
   "execution_count": null,
   "id": "5c3d910e",
   "metadata": {},
   "outputs": [],
   "source": [
    "#could try counter, progress bar\n",
    "#this code looks at every row of crashes_df. it tries to generate long/lat using the full_address. if it can't, it prints the index. if it can, it makes it into a POINT geometry and puts it in the geometry column in the row it got the address from\n",
    "for index, row in crashes_df.iterrows():\n",
    "    if row.geometry is None:\n",
    "        try:\n",
    "            geolocator = Nominatim(user_agent=\"colin\")\n",
    "            location = geolocator.geocode(row['full_address'])\n",
    "            crashes_df.at[index, 'geometry'] = Point((location.longitude, location.latitude))\n",
    "        except: \n",
    "            print(index)"
   ]
  },
  {
   "cell_type": "code",
   "execution_count": null,
   "id": "1398a4b5",
   "metadata": {
    "scrolled": true
   },
   "outputs": [],
   "source": [
    "#how many null geometries are there now that we populated missing ones from the address?\n",
    "#there are still 2097. that must be how many weird addresses there are that it can't generate a lat/long for.\n",
    "#addresses like '1 w parking lot a' \n",
    "crashes_df[crashes_df['geometry'].isna()]"
   ]
  },
  {
   "cell_type": "code",
   "execution_count": null,
   "id": "f8658ae1",
   "metadata": {},
   "outputs": [],
   "source": [
    "#remove null geometries that we could not generate a POINT for from the address\n",
    "crashes_df = crashes_df[crashes_df['geometry'].notna()]"
   ]
  },
  {
   "cell_type": "code",
   "execution_count": null,
   "id": "192f87b0",
   "metadata": {},
   "outputs": [],
   "source": [
    "crashes_df.info()"
   ]
  },
  {
   "cell_type": "code",
   "execution_count": null,
   "id": "9b141e2f",
   "metadata": {},
   "outputs": [],
   "source": [
    "#convert injury counts from strings to integers\n",
    "crashes_df['injuries_fatal'] = pd.to_numeric(crashes_df['injuries_fatal'])\n",
    "crashes_df['injuries_non_incapacitating'] = pd.to_numeric(crashes_df['injuries_non_incapacitating'])\n",
    "crashes_df['injuries_no_indication'] = pd.to_numeric(crashes_df['injuries_no_indication'])\n",
    "crashes_df['injuries_incapacitating'] = pd.to_numeric(crashes_df['injuries_incapacitating'])\n",
    "crashes_df['injuries_unknown'] = pd.to_numeric(crashes_df['injuries_unknown'])\n",
    "crashes_df['injuries_total'] = pd.to_numeric(crashes_df['injuries_total'])\n",
    "crashes_df['injuries_reported_not_evident'] = pd.to_numeric(crashes_df['injuries_reported_not_evident'])"
   ]
  },
  {
   "cell_type": "code",
   "execution_count": null,
   "id": "8823a32d",
   "metadata": {},
   "outputs": [],
   "source": [
    "#combine \"injuries reported not evident\" and \"injuries no indication\" into category called \"injuries not significant\"\n",
    "crashes_df['injuries_not_significant'] = crashes_df['injuries_reported_not_evident'] + crashes_df['injuries_no_indication']"
   ]
  },
  {
   "cell_type": "code",
   "execution_count": null,
   "id": "0118ca08",
   "metadata": {},
   "outputs": [],
   "source": [
    "#check that 2nd and 3rd add up to 1st\n",
    "crashes_df[['injuries_not_significant', 'injuries_reported_not_evident', 'injuries_no_indication']]"
   ]
  },
  {
   "cell_type": "code",
   "execution_count": null,
   "id": "777ce345",
   "metadata": {},
   "outputs": [],
   "source": [
    "crashes_df = crashes_df.reset_index(drop=True)"
   ]
  },
  {
   "cell_type": "code",
   "execution_count": null,
   "id": "597b4a2d",
   "metadata": {},
   "outputs": [],
   "source": [
    "#save crashes_df as geojson\n",
    "crashes_df.to_file(\"data/crashes_cleaned.geojson\", driver='GeoJSON')"
   ]
  },
  {
   "cell_type": "markdown",
   "id": "7fd886a3",
   "metadata": {},
   "source": [
    "## get pedestrians from the people API, clean, export to CSV"
   ]
  },
  {
   "cell_type": "code",
   "execution_count": null,
   "id": "e9538e87",
   "metadata": {},
   "outputs": [],
   "source": [
    "endpoint_people = 'https://data.cityofchicago.org/resource/u6pd-qa9d.json?person_type=PEDESTRIAN&$limit=16000'\n",
    "res = requests.get(endpoint_people)\n",
    "res = res.json()\n",
    "peds_df = pd.DataFrame(res)"
   ]
  },
  {
   "cell_type": "code",
   "execution_count": null,
   "id": "2f051951",
   "metadata": {},
   "outputs": [],
   "source": [
    "peds_df['injury_classification'].value_counts()"
   ]
  },
  {
   "cell_type": "code",
   "execution_count": null,
   "id": "e8eef930",
   "metadata": {
    "scrolled": true
   },
   "outputs": [],
   "source": [
    "#remove peds who were impaired by drugs or alcohol or both\n",
    "#DON'T filter in ['NORMAL','UNKNOWN','REMOVED BY EMS','OTHER','EMOTIONAL'] b/c you lose 1000 NaNs \n",
    "#instead, filter OUT with impaired_list and ~\n",
    "\n",
    "impaired_list = ['IMPAIRED - ALCOHOL',\n",
    "'HAD BEEN DRINKING',\n",
    "'IMPAIRED - DRUGS',\n",
    "'IMPAIRED - ALCOHOL AND DRUGS',\n",
    "'FATIGUED/ASLEEP',\n",
    "'ILLNESS/FAINTED',\n",
    "'MEDICATED']\n",
    "peds_df = peds_df.loc[~peds_df['physical_condition'].isin(impaired_list)]"
   ]
  },
  {
   "cell_type": "code",
   "execution_count": null,
   "id": "b6de0d20",
   "metadata": {},
   "outputs": [],
   "source": [
    "#remove pedpedal_action \"INTOXICATED\"\n",
    "peds_df = peds_df.loc[peds_df['pedpedal_action'] != 'INTOXICATED PED/PEDAL']"
   ]
  },
  {
   "cell_type": "code",
   "execution_count": null,
   "id": "b64338ca",
   "metadata": {},
   "outputs": [],
   "source": [
    "peds_df = peds_df.reset_index(drop=True)"
   ]
  },
  {
   "cell_type": "code",
   "execution_count": null,
   "id": "8d977d36",
   "metadata": {},
   "outputs": [],
   "source": [
    "#create new value called \"NO SIGNIFICANT INJURY\" in the injury_classification column by combining \"REPORTED, NOT EVIDENT\" and \"NO INDICATION OF INJURY\"\n",
    "#this makes more semantic sense for our purposes (the 2 original categories probably exist for police/legal purposes)\n",
    "for index, row in peds_df.iterrows():\n",
    "    if row.injury_classification == \"REPORTED, NOT EVIDENT\":\n",
    "        peds_df.loc[index, 'injury_classification'] = 'NO SIGNIFICANT INJURY'\n",
    "    elif row.injury_classification == \"NO INDICATION OF INJURY\":\n",
    "        peds_df.loc[index, 'injury_classification'] = 'NO SIGNIFICANT INJURY'"
   ]
  },
  {
   "cell_type": "code",
   "execution_count": null,
   "id": "ead5d559",
   "metadata": {},
   "outputs": [],
   "source": [
    "#make sure it worked\n",
    "peds_df['injury_classification'].value_counts()"
   ]
  },
  {
   "cell_type": "code",
   "execution_count": null,
   "id": "e840542a",
   "metadata": {},
   "outputs": [],
   "source": [
    "peds_df.to_csv('data/peds_cleaned_df.csv')"
   ]
  },
  {
   "cell_type": "markdown",
   "id": "c2e37b1c",
   "metadata": {},
   "source": [
    "## get cyclists from the people API, clean, export to CSV"
   ]
  },
  {
   "cell_type": "code",
   "execution_count": null,
   "id": "d5f54a76",
   "metadata": {},
   "outputs": [],
   "source": [
    "endpoint_people = 'https://data.cityofchicago.org/resource/u6pd-qa9d.json?person_type=BICYCLE&$limit=16000'\n",
    "res = requests.get(endpoint_people)\n",
    "res = res.json()\n",
    "cyclists_df = pd.DataFrame(res)"
   ]
  },
  {
   "cell_type": "code",
   "execution_count": null,
   "id": "7e43e5f8",
   "metadata": {},
   "outputs": [],
   "source": [
    "cyclists_df.info()"
   ]
  },
  {
   "cell_type": "code",
   "execution_count": null,
   "id": "d829e8c3",
   "metadata": {},
   "outputs": [],
   "source": [
    "#remove cyclists who were impaired by drugs or alcohol or both\n",
    "#DON'T filter in ['NORMAL','UNKNOWN','REMOVED BY EMS','OTHER','EMOTIONAL'] b/c you lose NaNs \n",
    "#instead, filter OUT with impaired_list and ~\n",
    "\n",
    "impaired_list = ['IMPAIRED - ALCOHOL',\n",
    "'HAD BEEN DRINKING',\n",
    "'IMPAIRED - DRUGS',\n",
    "'IMPAIRED - ALCOHOL AND DRUGS',\n",
    "'FATIGUED/ASLEEP',\n",
    "'ILLNESS/FAINTED',\n",
    "'MEDICATED']\n",
    "cyclists_df = cyclists_df.loc[~cyclists_df['physical_condition'].isin(impaired_list)]"
   ]
  },
  {
   "cell_type": "code",
   "execution_count": null,
   "id": "35dc695e",
   "metadata": {},
   "outputs": [],
   "source": [
    "#remove pedpedal_action \"INTOXICATED\"\n",
    "cyclists_df = cyclists_df.loc[cyclists_df['pedpedal_action'] != 'INTOXICATED PED/PEDAL']"
   ]
  },
  {
   "cell_type": "code",
   "execution_count": null,
   "id": "bf4a4ff5",
   "metadata": {},
   "outputs": [],
   "source": [
    "cyclists_df = cyclists_df.reset_index(drop=True)"
   ]
  },
  {
   "cell_type": "code",
   "execution_count": null,
   "id": "cecbff95",
   "metadata": {},
   "outputs": [],
   "source": [
    "for index, row in cyclists_df.iterrows():\n",
    "    if row.injury_classification == \"REPORTED, NOT EVIDENT\":\n",
    "        cyclists_df.loc[index, 'injury_classification'] = 'NO SIGNIFICANT INJURY'\n",
    "    elif row.injury_classification == \"NO INDICATION OF INJURY\":\n",
    "        cyclists_df.loc[index, 'injury_classification'] = 'NO SIGNIFICANT INJURY'"
   ]
  },
  {
   "cell_type": "code",
   "execution_count": null,
   "id": "aeb55fb6",
   "metadata": {},
   "outputs": [],
   "source": [
    "cyclists_df['injury_classification'].value_counts()"
   ]
  },
  {
   "cell_type": "code",
   "execution_count": null,
   "id": "b3ad2caa",
   "metadata": {},
   "outputs": [],
   "source": [
    "cyclists_df.to_csv('data/cyclists_cleaned_df.csv')"
   ]
  },
  {
   "cell_type": "markdown",
   "id": "588377b6",
   "metadata": {},
   "source": [
    "# crash_date cleaning"
   ]
  },
  {
   "cell_type": "code",
   "execution_count": null,
   "id": "b3db8460",
   "metadata": {},
   "outputs": [],
   "source": [
    "#cleaning crash_date\n",
    "test_time = crashes_df.loc[15,'crash_date']\n",
    "type(test_time)\n",
    "#it's a string so convert to datetime"
   ]
  },
  {
   "cell_type": "code",
   "execution_count": null,
   "id": "5ea715bb",
   "metadata": {},
   "outputs": [],
   "source": [
    "#try it on one single value\n",
    "timestamp=pd.to_datetime(test_time, format = '%Y/%m/%d %H:%M:%S')"
   ]
  },
  {
   "cell_type": "code",
   "execution_count": null,
   "id": "fa9524db",
   "metadata": {},
   "outputs": [],
   "source": [
    "#gives us a Timestamp\n",
    "type(timestamp)\n",
    "timestamp"
   ]
  },
  {
   "cell_type": "code",
   "execution_count": null,
   "id": "d6c16f1a",
   "metadata": {},
   "outputs": [],
   "source": [
    "#can use Timestamp methods on it\n",
    "#Timestamp is pandas equivalent of Python datetime \n",
    "#https://pandas.pydata.org/docs/reference/api/pandas.Timestamp.html\n",
    "timestamp.month_name()"
   ]
  },
  {
   "cell_type": "markdown",
   "id": "0942eb77",
   "metadata": {},
   "source": [
    "### making this a Timestamp screwed up my folium map. folium map wants a string\n",
    "### having as Timestamp throws TypeError: Object of type Timestamp is not JSON serializable\n",
    "#convert crash_date of whole df\n",
    "#crashes_df['crash_date'] = pd.to_datetime(crashes_df['crash_date'], format = '%Y/%m/%d %H:%M:%S')"
   ]
  },
  {
   "cell_type": "code",
   "execution_count": null,
   "id": "b023606e",
   "metadata": {},
   "outputs": [],
   "source": [
    "#crash day of week, crash hour and crash month look fine as far as their range\n",
    "crashes_df['crash_day_of_week'].value_counts()"
   ]
  },
  {
   "cell_type": "code",
   "execution_count": null,
   "id": "a47f62b8",
   "metadata": {},
   "outputs": [],
   "source": [
    "#injury columns to integers\n",
    "#leave posted_speed_limit, lane_cnt as objects, they are more like categories than numerical measures\n",
    "#leave crash_month, crash_day_of_week and crash_hour as objects for now, not sure what to make them"
   ]
  },
  {
   "cell_type": "code",
   "execution_count": null,
   "id": "201f2ba8",
   "metadata": {},
   "outputs": [],
   "source": [
    "crashes_df.dtypes"
   ]
  },
  {
   "cell_type": "markdown",
   "id": "c9f54b57",
   "metadata": {},
   "source": [
    "# get roadway class for each crash by joining crashes with street center lines\n",
    "## I took the POINTs from crashes and left joined them ON the nearest point within the multiline strings contained in street center lines, augmenting crashes with the info from street center lines"
   ]
  },
  {
   "cell_type": "code",
   "execution_count": 3,
   "id": "2bba0f0c",
   "metadata": {
    "collapsed": true
   },
   "outputs": [
    {
     "data": {
      "text/html": [
       "<div>\n",
       "<style scoped>\n",
       "    .dataframe tbody tr th:only-of-type {\n",
       "        vertical-align: middle;\n",
       "    }\n",
       "\n",
       "    .dataframe tbody tr th {\n",
       "        vertical-align: top;\n",
       "    }\n",
       "\n",
       "    .dataframe thead th {\n",
       "        text-align: right;\n",
       "    }\n",
       "</style>\n",
       "<table border=\"1\" class=\"dataframe\">\n",
       "  <thead>\n",
       "    <tr style=\"text-align: right;\">\n",
       "      <th></th>\n",
       "      <th>injuries_fatal</th>\n",
       "      <th>injuries_non_incapacitating</th>\n",
       "      <th>crash_record_id</th>\n",
       "      <th>injuries_incapacitating</th>\n",
       "      <th>injuries_no_indication</th>\n",
       "      <th>latitude</th>\n",
       "      <th>street_no</th>\n",
       "      <th>injuries_unknown</th>\n",
       "      <th>device_condition</th>\n",
       "      <th>crash_date</th>\n",
       "      <th>...</th>\n",
       "      <th>prim_contributory_cause</th>\n",
       "      <th>sec_contributory_cause</th>\n",
       "      <th>street_direction</th>\n",
       "      <th>posted_speed_limit</th>\n",
       "      <th>injuries_total</th>\n",
       "      <th>lane_cnt</th>\n",
       "      <th>full_address</th>\n",
       "      <th>no_significant_injury</th>\n",
       "      <th>injuries_not_significant</th>\n",
       "      <th>geometry</th>\n",
       "    </tr>\n",
       "  </thead>\n",
       "  <tbody>\n",
       "    <tr>\n",
       "      <th>0</th>\n",
       "      <td>NaN</td>\n",
       "      <td>NaN</td>\n",
       "      <td>0edc78f89df5b72ddaa1c1f567e229ad39c0e098953a9d...</td>\n",
       "      <td>NaN</td>\n",
       "      <td>NaN</td>\n",
       "      <td>41.873520168</td>\n",
       "      <td>3357</td>\n",
       "      <td>NaN</td>\n",
       "      <td>NO CONTROLS</td>\n",
       "      <td>2022-08-09 01:40:00</td>\n",
       "      <td>...</td>\n",
       "      <td>FAILING TO REDUCE SPEED TO AVOID CRASH</td>\n",
       "      <td>NOT APPLICABLE</td>\n",
       "      <td>W</td>\n",
       "      <td>30</td>\n",
       "      <td>NaN</td>\n",
       "      <td>None</td>\n",
       "      <td>3357 W HARRISON ST CHICAGO IL</td>\n",
       "      <td>NaN</td>\n",
       "      <td>NaN</td>\n",
       "      <td>POINT (-87.71064 41.87352)</td>\n",
       "    </tr>\n",
       "    <tr>\n",
       "      <th>1</th>\n",
       "      <td>0.0</td>\n",
       "      <td>0.0</td>\n",
       "      <td>49ff3f04d16f5a71e6d66436c94f6acfd939c20d6c3651...</td>\n",
       "      <td>0.0</td>\n",
       "      <td>2.0</td>\n",
       "      <td>41.831835811</td>\n",
       "      <td>3410</td>\n",
       "      <td>0.0</td>\n",
       "      <td>FUNCTIONING PROPERLY</td>\n",
       "      <td>2022-08-09 00:45:00</td>\n",
       "      <td>...</td>\n",
       "      <td>FOLLOWING TOO CLOSELY</td>\n",
       "      <td>NOT APPLICABLE</td>\n",
       "      <td>S</td>\n",
       "      <td>30</td>\n",
       "      <td>0.0</td>\n",
       "      <td>None</td>\n",
       "      <td>3410 S DAMEN AVE CHICAGO IL</td>\n",
       "      <td>2.0</td>\n",
       "      <td>2.0</td>\n",
       "      <td>POINT (-87.67546 41.83184)</td>\n",
       "    </tr>\n",
       "    <tr>\n",
       "      <th>2</th>\n",
       "      <td>NaN</td>\n",
       "      <td>NaN</td>\n",
       "      <td>e580e89f187525bf685101a36fc64df499a72be926d5a9...</td>\n",
       "      <td>NaN</td>\n",
       "      <td>NaN</td>\n",
       "      <td>41.838371536</td>\n",
       "      <td>130</td>\n",
       "      <td>NaN</td>\n",
       "      <td>FUNCTIONING PROPERLY</td>\n",
       "      <td>2022-08-08 23:55:00</td>\n",
       "      <td>...</td>\n",
       "      <td>FAILING TO YIELD RIGHT-OF-WAY</td>\n",
       "      <td>NOT APPLICABLE</td>\n",
       "      <td>W</td>\n",
       "      <td>35</td>\n",
       "      <td>NaN</td>\n",
       "      <td>None</td>\n",
       "      <td>130 W 31ST ST CHICAGO IL</td>\n",
       "      <td>NaN</td>\n",
       "      <td>NaN</td>\n",
       "      <td>POINT (-87.63002 41.83837)</td>\n",
       "    </tr>\n",
       "    <tr>\n",
       "      <th>3</th>\n",
       "      <td>0.0</td>\n",
       "      <td>0.0</td>\n",
       "      <td>cdd7c5d90668e4d1bda12805ad19cec305667643a88806...</td>\n",
       "      <td>0.0</td>\n",
       "      <td>1.0</td>\n",
       "      <td>41.861481407</td>\n",
       "      <td>2747</td>\n",
       "      <td>0.0</td>\n",
       "      <td>NO CONTROLS</td>\n",
       "      <td>2022-08-08 23:00:00</td>\n",
       "      <td>...</td>\n",
       "      <td>UNABLE TO DETERMINE</td>\n",
       "      <td>UNABLE TO DETERMINE</td>\n",
       "      <td>W</td>\n",
       "      <td>30</td>\n",
       "      <td>0.0</td>\n",
       "      <td>None</td>\n",
       "      <td>2747 W OGDEN AVE CHICAGO IL</td>\n",
       "      <td>1.0</td>\n",
       "      <td>1.0</td>\n",
       "      <td>POINT (-87.69494 41.86148)</td>\n",
       "    </tr>\n",
       "    <tr>\n",
       "      <th>4</th>\n",
       "      <td>0.0</td>\n",
       "      <td>0.0</td>\n",
       "      <td>e7c26ad2dd7f250b14acafe2d86265616f59f7c642a505...</td>\n",
       "      <td>0.0</td>\n",
       "      <td>2.0</td>\n",
       "      <td>41.837964154</td>\n",
       "      <td>3100</td>\n",
       "      <td>0.0</td>\n",
       "      <td>FUNCTIONING PROPERLY</td>\n",
       "      <td>2022-08-08 23:00:00</td>\n",
       "      <td>...</td>\n",
       "      <td>DISREGARDING TRAFFIC SIGNALS</td>\n",
       "      <td>DISREGARDING TRAFFIC SIGNALS</td>\n",
       "      <td>S</td>\n",
       "      <td>35</td>\n",
       "      <td>0.0</td>\n",
       "      <td>None</td>\n",
       "      <td>3100 S HALSTED ST CHICAGO IL</td>\n",
       "      <td>2.0</td>\n",
       "      <td>2.0</td>\n",
       "      <td>POINT (-87.64642 41.83796)</td>\n",
       "    </tr>\n",
       "    <tr>\n",
       "      <th>...</th>\n",
       "      <td>...</td>\n",
       "      <td>...</td>\n",
       "      <td>...</td>\n",
       "      <td>...</td>\n",
       "      <td>...</td>\n",
       "      <td>...</td>\n",
       "      <td>...</td>\n",
       "      <td>...</td>\n",
       "      <td>...</td>\n",
       "      <td>...</td>\n",
       "      <td>...</td>\n",
       "      <td>...</td>\n",
       "      <td>...</td>\n",
       "      <td>...</td>\n",
       "      <td>...</td>\n",
       "      <td>...</td>\n",
       "      <td>...</td>\n",
       "      <td>...</td>\n",
       "      <td>...</td>\n",
       "      <td>...</td>\n",
       "      <td>...</td>\n",
       "    </tr>\n",
       "    <tr>\n",
       "      <th>631400</th>\n",
       "      <td>0.0</td>\n",
       "      <td>0.0</td>\n",
       "      <td>964aaaeb569e364886cfbdf89ca73e09ca15cd916d87b2...</td>\n",
       "      <td>0.0</td>\n",
       "      <td>2.0</td>\n",
       "      <td>41.835886103</td>\n",
       "      <td>3132</td>\n",
       "      <td>0.0</td>\n",
       "      <td>NO CONTROLS</td>\n",
       "      <td>2014-06-25 19:00:00</td>\n",
       "      <td>...</td>\n",
       "      <td>IMPROPER OVERTAKING/PASSING</td>\n",
       "      <td>NOT APPLICABLE</td>\n",
       "      <td>S</td>\n",
       "      <td>30</td>\n",
       "      <td>0.0</td>\n",
       "      <td>None</td>\n",
       "      <td>3132 S PULASKI RD CHICAGO IL</td>\n",
       "      <td>2.0</td>\n",
       "      <td>2.0</td>\n",
       "      <td>POINT (-87.72447 41.83589)</td>\n",
       "    </tr>\n",
       "    <tr>\n",
       "      <th>631401</th>\n",
       "      <td>0.0</td>\n",
       "      <td>0.0</td>\n",
       "      <td>1d0232afecbdfd01968555aa956a688fd6f55a2bd1984f...</td>\n",
       "      <td>0.0</td>\n",
       "      <td>2.0</td>\n",
       "      <td>41.884016475</td>\n",
       "      <td>199</td>\n",
       "      <td>0.0</td>\n",
       "      <td>FUNCTIONING PROPERLY</td>\n",
       "      <td>2014-02-24 19:45:00</td>\n",
       "      <td>...</td>\n",
       "      <td>UNABLE TO DETERMINE</td>\n",
       "      <td>UNABLE TO DETERMINE</td>\n",
       "      <td>N</td>\n",
       "      <td>30</td>\n",
       "      <td>0.0</td>\n",
       "      <td>None</td>\n",
       "      <td>199 N SACRAMENTO BLVD CHICAGO IL</td>\n",
       "      <td>2.0</td>\n",
       "      <td>2.0</td>\n",
       "      <td>POINT (-87.70114 41.88402)</td>\n",
       "    </tr>\n",
       "    <tr>\n",
       "      <th>631402</th>\n",
       "      <td>0.0</td>\n",
       "      <td>1.0</td>\n",
       "      <td>957783a4787318f005a7dbc920e4c84cb9ac8aa7329a62...</td>\n",
       "      <td>0.0</td>\n",
       "      <td>1.0</td>\n",
       "      <td>41.760710194</td>\n",
       "      <td>7400</td>\n",
       "      <td>0.0</td>\n",
       "      <td>NO CONTROLS</td>\n",
       "      <td>2014-01-21 07:40:00</td>\n",
       "      <td>...</td>\n",
       "      <td>FAILING TO YIELD RIGHT-OF-WAY</td>\n",
       "      <td>NOT APPLICABLE</td>\n",
       "      <td>S</td>\n",
       "      <td>30</td>\n",
       "      <td>1.0</td>\n",
       "      <td>None</td>\n",
       "      <td>7400 S EXCHANGE AVE CHICAGO IL</td>\n",
       "      <td>1.0</td>\n",
       "      <td>1.0</td>\n",
       "      <td>POINT (-87.56195 41.76071)</td>\n",
       "    </tr>\n",
       "    <tr>\n",
       "      <th>631403</th>\n",
       "      <td>0.0</td>\n",
       "      <td>0.0</td>\n",
       "      <td>f62e27317feb174811cf4fefeb9fa1064fea6c0619a873...</td>\n",
       "      <td>0.0</td>\n",
       "      <td>2.0</td>\n",
       "      <td>41.885609917</td>\n",
       "      <td>415</td>\n",
       "      <td>0.0</td>\n",
       "      <td>NO CONTROLS</td>\n",
       "      <td>2014-01-18 18:14:00</td>\n",
       "      <td>...</td>\n",
       "      <td>UNABLE TO DETERMINE</td>\n",
       "      <td>UNABLE TO DETERMINE</td>\n",
       "      <td>W</td>\n",
       "      <td>30</td>\n",
       "      <td>0.0</td>\n",
       "      <td>None</td>\n",
       "      <td>415 W LAKE ST CHICAGO IL</td>\n",
       "      <td>2.0</td>\n",
       "      <td>2.0</td>\n",
       "      <td>POINT (-87.63876 41.88561)</td>\n",
       "    </tr>\n",
       "    <tr>\n",
       "      <th>631404</th>\n",
       "      <td>0.0</td>\n",
       "      <td>0.0</td>\n",
       "      <td>a802658be15312809c771559e4f81088cfb226830792a5...</td>\n",
       "      <td>0.0</td>\n",
       "      <td>1.0</td>\n",
       "      <td>41.975856916</td>\n",
       "      <td>3200</td>\n",
       "      <td>0.0</td>\n",
       "      <td>FUNCTIONING PROPERLY</td>\n",
       "      <td>2013-03-03 16:48:00</td>\n",
       "      <td>...</td>\n",
       "      <td>IMPROPER LANE USAGE</td>\n",
       "      <td>DISREGARDING ROAD MARKINGS</td>\n",
       "      <td>W</td>\n",
       "      <td>30</td>\n",
       "      <td>2.0</td>\n",
       "      <td>2</td>\n",
       "      <td>3200 W FOSTER AVE CHICAGO IL</td>\n",
       "      <td>3.0</td>\n",
       "      <td>3.0</td>\n",
       "      <td>POINT (-87.70874 41.97586)</td>\n",
       "    </tr>\n",
       "  </tbody>\n",
       "</table>\n",
       "<p>631405 rows × 31 columns</p>\n",
       "</div>"
      ],
      "text/plain": [
       "        injuries_fatal  injuries_non_incapacitating  \\\n",
       "0                  NaN                          NaN   \n",
       "1                  0.0                          0.0   \n",
       "2                  NaN                          NaN   \n",
       "3                  0.0                          0.0   \n",
       "4                  0.0                          0.0   \n",
       "...                ...                          ...   \n",
       "631400             0.0                          0.0   \n",
       "631401             0.0                          0.0   \n",
       "631402             0.0                          1.0   \n",
       "631403             0.0                          0.0   \n",
       "631404             0.0                          0.0   \n",
       "\n",
       "                                          crash_record_id  \\\n",
       "0       0edc78f89df5b72ddaa1c1f567e229ad39c0e098953a9d...   \n",
       "1       49ff3f04d16f5a71e6d66436c94f6acfd939c20d6c3651...   \n",
       "2       e580e89f187525bf685101a36fc64df499a72be926d5a9...   \n",
       "3       cdd7c5d90668e4d1bda12805ad19cec305667643a88806...   \n",
       "4       e7c26ad2dd7f250b14acafe2d86265616f59f7c642a505...   \n",
       "...                                                   ...   \n",
       "631400  964aaaeb569e364886cfbdf89ca73e09ca15cd916d87b2...   \n",
       "631401  1d0232afecbdfd01968555aa956a688fd6f55a2bd1984f...   \n",
       "631402  957783a4787318f005a7dbc920e4c84cb9ac8aa7329a62...   \n",
       "631403  f62e27317feb174811cf4fefeb9fa1064fea6c0619a873...   \n",
       "631404  a802658be15312809c771559e4f81088cfb226830792a5...   \n",
       "\n",
       "        injuries_incapacitating  injuries_no_indication      latitude  \\\n",
       "0                           NaN                     NaN  41.873520168   \n",
       "1                           0.0                     2.0  41.831835811   \n",
       "2                           NaN                     NaN  41.838371536   \n",
       "3                           0.0                     1.0  41.861481407   \n",
       "4                           0.0                     2.0  41.837964154   \n",
       "...                         ...                     ...           ...   \n",
       "631400                      0.0                     2.0  41.835886103   \n",
       "631401                      0.0                     2.0  41.884016475   \n",
       "631402                      0.0                     1.0  41.760710194   \n",
       "631403                      0.0                     2.0  41.885609917   \n",
       "631404                      0.0                     1.0  41.975856916   \n",
       "\n",
       "       street_no  injuries_unknown      device_condition          crash_date  \\\n",
       "0           3357               NaN           NO CONTROLS 2022-08-09 01:40:00   \n",
       "1           3410               0.0  FUNCTIONING PROPERLY 2022-08-09 00:45:00   \n",
       "2            130               NaN  FUNCTIONING PROPERLY 2022-08-08 23:55:00   \n",
       "3           2747               0.0           NO CONTROLS 2022-08-08 23:00:00   \n",
       "4           3100               0.0  FUNCTIONING PROPERLY 2022-08-08 23:00:00   \n",
       "...          ...               ...                   ...                 ...   \n",
       "631400      3132               0.0           NO CONTROLS 2014-06-25 19:00:00   \n",
       "631401       199               0.0  FUNCTIONING PROPERLY 2014-02-24 19:45:00   \n",
       "631402      7400               0.0           NO CONTROLS 2014-01-21 07:40:00   \n",
       "631403       415               0.0           NO CONTROLS 2014-01-18 18:14:00   \n",
       "631404      3200               0.0  FUNCTIONING PROPERLY 2013-03-03 16:48:00   \n",
       "\n",
       "        ...                 prim_contributory_cause  \\\n",
       "0       ...  FAILING TO REDUCE SPEED TO AVOID CRASH   \n",
       "1       ...                   FOLLOWING TOO CLOSELY   \n",
       "2       ...           FAILING TO YIELD RIGHT-OF-WAY   \n",
       "3       ...                     UNABLE TO DETERMINE   \n",
       "4       ...            DISREGARDING TRAFFIC SIGNALS   \n",
       "...     ...                                     ...   \n",
       "631400  ...             IMPROPER OVERTAKING/PASSING   \n",
       "631401  ...                     UNABLE TO DETERMINE   \n",
       "631402  ...           FAILING TO YIELD RIGHT-OF-WAY   \n",
       "631403  ...                     UNABLE TO DETERMINE   \n",
       "631404  ...                     IMPROPER LANE USAGE   \n",
       "\n",
       "              sec_contributory_cause street_direction posted_speed_limit  \\\n",
       "0                     NOT APPLICABLE                W                 30   \n",
       "1                     NOT APPLICABLE                S                 30   \n",
       "2                     NOT APPLICABLE                W                 35   \n",
       "3                UNABLE TO DETERMINE                W                 30   \n",
       "4       DISREGARDING TRAFFIC SIGNALS                S                 35   \n",
       "...                              ...              ...                ...   \n",
       "631400                NOT APPLICABLE                S                 30   \n",
       "631401           UNABLE TO DETERMINE                N                 30   \n",
       "631402                NOT APPLICABLE                S                 30   \n",
       "631403           UNABLE TO DETERMINE                W                 30   \n",
       "631404    DISREGARDING ROAD MARKINGS                W                 30   \n",
       "\n",
       "       injuries_total lane_cnt                      full_address  \\\n",
       "0                 NaN     None     3357 W HARRISON ST CHICAGO IL   \n",
       "1                 0.0     None       3410 S DAMEN AVE CHICAGO IL   \n",
       "2                 NaN     None          130 W 31ST ST CHICAGO IL   \n",
       "3                 0.0     None       2747 W OGDEN AVE CHICAGO IL   \n",
       "4                 0.0     None      3100 S HALSTED ST CHICAGO IL   \n",
       "...               ...      ...                               ...   \n",
       "631400            0.0     None      3132 S PULASKI RD CHICAGO IL   \n",
       "631401            0.0     None  199 N SACRAMENTO BLVD CHICAGO IL   \n",
       "631402            1.0     None    7400 S EXCHANGE AVE CHICAGO IL   \n",
       "631403            0.0     None          415 W LAKE ST CHICAGO IL   \n",
       "631404            2.0        2      3200 W FOSTER AVE CHICAGO IL   \n",
       "\n",
       "       no_significant_injury injuries_not_significant  \\\n",
       "0                        NaN                      NaN   \n",
       "1                        2.0                      2.0   \n",
       "2                        NaN                      NaN   \n",
       "3                        1.0                      1.0   \n",
       "4                        2.0                      2.0   \n",
       "...                      ...                      ...   \n",
       "631400                   2.0                      2.0   \n",
       "631401                   2.0                      2.0   \n",
       "631402                   1.0                      1.0   \n",
       "631403                   2.0                      2.0   \n",
       "631404                   3.0                      3.0   \n",
       "\n",
       "                          geometry  \n",
       "0       POINT (-87.71064 41.87352)  \n",
       "1       POINT (-87.67546 41.83184)  \n",
       "2       POINT (-87.63002 41.83837)  \n",
       "3       POINT (-87.69494 41.86148)  \n",
       "4       POINT (-87.64642 41.83796)  \n",
       "...                            ...  \n",
       "631400  POINT (-87.72447 41.83589)  \n",
       "631401  POINT (-87.70114 41.88402)  \n",
       "631402  POINT (-87.56195 41.76071)  \n",
       "631403  POINT (-87.63876 41.88561)  \n",
       "631404  POINT (-87.70874 41.97586)  \n",
       "\n",
       "[631405 rows x 31 columns]"
      ]
     },
     "execution_count": 3,
     "metadata": {},
     "output_type": "execute_result"
    }
   ],
   "source": [
    "crashes_df = gpd.read_file('data/crashes_cleaned.geojson')\n",
    "crashes_df.set_crs(crs='EPSG:4326', inplace=True)"
   ]
  },
  {
   "cell_type": "code",
   "execution_count": 12,
   "id": "f1bfba14",
   "metadata": {
    "collapsed": true
   },
   "outputs": [
    {
     "data": {
      "text/plain": [
       "<Geographic 2D CRS: EPSG:4326>\n",
       "Name: WGS 84\n",
       "Axis Info [ellipsoidal]:\n",
       "- Lat[north]: Geodetic latitude (degree)\n",
       "- Lon[east]: Geodetic longitude (degree)\n",
       "Area of Use:\n",
       "- name: World.\n",
       "- bounds: (-180.0, -90.0, 180.0, 90.0)\n",
       "Datum: World Geodetic System 1984 ensemble\n",
       "- Ellipsoid: WGS 84\n",
       "- Prime Meridian: Greenwich"
      ]
     },
     "execution_count": 12,
     "metadata": {},
     "output_type": "execute_result"
    }
   ],
   "source": [
    "crashes_df.crs"
   ]
  },
  {
   "cell_type": "markdown",
   "id": "bf5d30b8",
   "metadata": {},
   "source": [
    "## we only need to get roadway class for ped and cyclist crashes, not all crashes. create crashes_ped_df and crashes_cyclist_df, then join each to street center lines"
   ]
  },
  {
   "cell_type": "code",
   "execution_count": 4,
   "id": "58d14440",
   "metadata": {},
   "outputs": [],
   "source": [
    "peds_df = pd.read_csv('data/peds_cleaned_df.csv')"
   ]
  },
  {
   "cell_type": "code",
   "execution_count": 5,
   "id": "7b05eaf8",
   "metadata": {},
   "outputs": [],
   "source": [
    "cyclists_df = pd.read_csv('data/cyclists_cleaned_df.csv')"
   ]
  },
  {
   "cell_type": "code",
   "execution_count": 17,
   "id": "87ddd86f",
   "metadata": {
    "collapsed": true
   },
   "outputs": [
    {
     "name": "stdout",
     "output_type": "stream",
     "text": [
      "(14389, 31)\n"
     ]
    },
    {
     "data": {
      "text/plain": [
       "injuries_fatal                      0\n",
       "injuries_non_incapacitating         0\n",
       "crash_record_id                     0\n",
       "injuries_incapacitating             0\n",
       "injuries_no_indication              0\n",
       "latitude                           33\n",
       "street_no                           0\n",
       "injuries_unknown                    0\n",
       "device_condition                    0\n",
       "crash_date                          0\n",
       "trafficway_type                     0\n",
       "traffic_control_device              0\n",
       "road_defect                         0\n",
       "longitude                          33\n",
       "crash_month                         0\n",
       "street_name                         0\n",
       "crash_day_of_week                   0\n",
       "crash_hour                          0\n",
       "first_crash_type                    0\n",
       "injuries_reported_not_evident       0\n",
       "most_severe_injury                  0\n",
       "prim_contributory_cause             0\n",
       "sec_contributory_cause              0\n",
       "street_direction                    0\n",
       "posted_speed_limit                  0\n",
       "injuries_total                      0\n",
       "lane_cnt                         9720\n",
       "full_address                        0\n",
       "no_significant_injury               0\n",
       "injuries_not_significant            0\n",
       "geometry                            0\n",
       "dtype: int64"
      ]
     },
     "execution_count": 17,
     "metadata": {},
     "output_type": "execute_result"
    }
   ],
   "source": [
    "crash_id_peds = peds_df['crash_record_id'].tolist()\n",
    "crashes_ped_df = crashes_df.loc[crashes_df['crash_record_id'].isin(crash_id_peds)].reset_index(drop=True)"
   ]
  },
  {
   "cell_type": "code",
   "execution_count": 7,
   "id": "d43b7033",
   "metadata": {
    "collapsed": true
   },
   "outputs": [
    {
     "data": {
      "text/plain": [
       "injuries_fatal                      0\n",
       "injuries_non_incapacitating         0\n",
       "crash_record_id                     0\n",
       "injuries_incapacitating             0\n",
       "injuries_no_indication              0\n",
       "latitude                           14\n",
       "street_no                           0\n",
       "injuries_unknown                    0\n",
       "device_condition                    0\n",
       "crash_date                          0\n",
       "trafficway_type                     0\n",
       "traffic_control_device              0\n",
       "road_defect                         0\n",
       "longitude                          14\n",
       "crash_month                         0\n",
       "street_name                         0\n",
       "crash_day_of_week                   0\n",
       "crash_hour                          0\n",
       "first_crash_type                    0\n",
       "injuries_reported_not_evident       0\n",
       "most_severe_injury                  0\n",
       "prim_contributory_cause             0\n",
       "sec_contributory_cause              0\n",
       "street_direction                    0\n",
       "posted_speed_limit                  0\n",
       "injuries_total                      0\n",
       "lane_cnt                         6451\n",
       "full_address                        0\n",
       "no_significant_injury               0\n",
       "injuries_not_significant            0\n",
       "geometry                            0\n",
       "dtype: int64"
      ]
     },
     "execution_count": 7,
     "metadata": {},
     "output_type": "execute_result"
    }
   ],
   "source": [
    "crash_id_cyclists = cyclists_df['crash_record_id'].tolist()\n",
    "crashes_cyclist_df = crashes_df.loc[crashes_df['crash_record_id'].isin(crash_id_cyclists)].reset_index(drop=True)"
   ]
  },
  {
   "cell_type": "markdown",
   "id": "b7e0b8e8",
   "metadata": {},
   "source": [
    "## load street center lines from geojson"
   ]
  },
  {
   "cell_type": "code",
   "execution_count": 8,
   "id": "80ea09c2",
   "metadata": {},
   "outputs": [],
   "source": [
    "street_center_lines_geo = gpd.read_file('data/street_center_lines.geojson')\n",
    "# gpd.explode this would explode multi part geometries into multiple single part geometries"
   ]
  },
  {
   "cell_type": "code",
   "execution_count": 23,
   "id": "0382d377",
   "metadata": {},
   "outputs": [],
   "source": [
    "street_center_lines_geo['geometry'] = street_center_lines_geo['geometry'].to_crs(crs='EPSG:4326')"
   ]
  },
  {
   "cell_type": "code",
   "execution_count": 11,
   "id": "6ac3b968",
   "metadata": {
    "collapsed": true
   },
   "outputs": [
    {
     "data": {
      "text/plain": [
       "<Geographic 2D CRS: EPSG:4326>\n",
       "Name: WGS 84\n",
       "Axis Info [ellipsoidal]:\n",
       "- Lat[north]: Geodetic latitude (degree)\n",
       "- Lon[east]: Geodetic longitude (degree)\n",
       "Area of Use:\n",
       "- name: World.\n",
       "- bounds: (-180.0, -90.0, 180.0, 90.0)\n",
       "Datum: World Geodetic System 1984 ensemble\n",
       "- Ellipsoid: WGS 84\n",
       "- Prime Meridian: Greenwich"
      ]
     },
     "execution_count": 11,
     "metadata": {},
     "output_type": "execute_result"
    }
   ],
   "source": [
    "street_center_lines_geo.crs"
   ]
  },
  {
   "cell_type": "code",
   "execution_count": 54,
   "id": "1c306da3",
   "metadata": {},
   "outputs": [
    {
     "name": "stderr",
     "output_type": "stream",
     "text": [
      "/home/colin/anaconda3/envs/geospatial4/lib/python3.10/site-packages/geopandas/array.py:340: UserWarning: Geometry is in a geographic CRS. Results from 'sjoin_nearest' are likely incorrect. Use 'GeoSeries.to_crs()' to re-project geometries to a projected CRS before this operation.\n",
      "\n",
      "  warnings.warn(\n"
     ]
    }
   ],
   "source": [
    "crashes_ped_aug_df = gpd.sjoin_nearest(crashes_ped_df, street_center_lines_geo, how = 'left', max_distance = 0.001, distance_col= 'distance')"
   ]
  },
  {
   "cell_type": "code",
   "execution_count": 57,
   "id": "a8377e51",
   "metadata": {},
   "outputs": [
    {
     "data": {
      "text/plain": [
       "4      6425\n",
       "2      4120\n",
       "3      3502\n",
       "1        99\n",
       "E        86\n",
       "7        80\n",
       "9        47\n",
       "5        19\n",
       "RIV      10\n",
       "Name: class, dtype: int64"
      ]
     },
     "execution_count": 57,
     "metadata": {},
     "output_type": "execute_result"
    }
   ],
   "source": [
    "crashes_ped_aug_df['class'].value_counts()"
   ]
  },
  {
   "cell_type": "code",
   "execution_count": 58,
   "id": "9f0b5b0e",
   "metadata": {},
   "outputs": [
    {
     "name": "stderr",
     "output_type": "stream",
     "text": [
      "/home/colin/anaconda3/envs/geospatial4/lib/python3.10/site-packages/geopandas/array.py:340: UserWarning: Geometry is in a geographic CRS. Results from 'sjoin_nearest' are likely incorrect. Use 'GeoSeries.to_crs()' to re-project geometries to a projected CRS before this operation.\n",
      "\n",
      "  warnings.warn(\n"
     ]
    }
   ],
   "source": [
    "crashes_cyclist_aug_df = gpd.sjoin_nearest(crashes_cyclist_df, street_center_lines_geo, how = 'left', max_distance = 0.001, distance_col= 'distance')"
   ]
  },
  {
   "cell_type": "code",
   "execution_count": 59,
   "id": "bcf2d0bd",
   "metadata": {
    "collapsed": true
   },
   "outputs": [
    {
     "name": "stdout",
     "output_type": "stream",
     "text": [
      "<class 'geopandas.geodataframe.GeoDataFrame'>\n",
      "Int64Index: 9292 entries, 0 to 9291\n",
      "Data columns (total 82 columns):\n",
      " #   Column                         Non-Null Count  Dtype              \n",
      "---  ------                         --------------  -----              \n",
      " 0   injuries_fatal                 9292 non-null   float64            \n",
      " 1   injuries_non_incapacitating    9292 non-null   float64            \n",
      " 2   crash_record_id                9292 non-null   object             \n",
      " 3   injuries_incapacitating        9292 non-null   float64            \n",
      " 4   injuries_no_indication         9292 non-null   float64            \n",
      " 5   latitude                       9278 non-null   object             \n",
      " 6   street_no                      9292 non-null   object             \n",
      " 7   injuries_unknown               9292 non-null   float64            \n",
      " 8   device_condition               9292 non-null   object             \n",
      " 9   crash_date                     9292 non-null   datetime64[ns]     \n",
      " 10  trafficway_type                9292 non-null   object             \n",
      " 11  traffic_control_device         9292 non-null   object             \n",
      " 12  road_defect                    9292 non-null   object             \n",
      " 13  longitude                      9278 non-null   object             \n",
      " 14  crash_month                    9292 non-null   object             \n",
      " 15  street_name                    9292 non-null   object             \n",
      " 16  crash_day_of_week              9292 non-null   object             \n",
      " 17  crash_hour                     9292 non-null   object             \n",
      " 18  first_crash_type               9292 non-null   object             \n",
      " 19  injuries_reported_not_evident  9292 non-null   float64            \n",
      " 20  most_severe_injury             9292 non-null   object             \n",
      " 21  prim_contributory_cause        9292 non-null   object             \n",
      " 22  sec_contributory_cause         9292 non-null   object             \n",
      " 23  street_direction               9292 non-null   object             \n",
      " 24  posted_speed_limit             9292 non-null   object             \n",
      " 25  injuries_total                 9292 non-null   float64            \n",
      " 26  lane_cnt                       2841 non-null   object             \n",
      " 27  full_address                   9292 non-null   object             \n",
      " 28  no_significant_injury          9292 non-null   float64            \n",
      " 29  injuries_not_significant       9292 non-null   float64            \n",
      " 30  geometry                       9292 non-null   geometry           \n",
      " 31  index_right                    9292 non-null   int64              \n",
      " 32  ewns_dir                       7700 non-null   object             \n",
      " 33  l_parity                       9289 non-null   object             \n",
      " 34  oneway_dir                     2246 non-null   object             \n",
      " 35  logiclf                        9292 non-null   object             \n",
      " 36  street_nam                     9285 non-null   object             \n",
      " 37  street_typ                     9181 non-null   object             \n",
      " 38  r_t_add                        9292 non-null   object             \n",
      " 39  l_censusbl                     9292 non-null   object             \n",
      " 40  r_parity                       9289 non-null   object             \n",
      " 41  r_zip                          9269 non-null   object             \n",
      " 42  edit_type                      1275 non-null   object             \n",
      " 43  tiered                         9292 non-null   object             \n",
      " 44  tnode_id                       9292 non-null   object             \n",
      " 45  edit_date                      9292 non-null   object             \n",
      " 46  create_tim                     9292 non-null   datetime64[ns, UTC]\n",
      " 47  suf_dir                        124 non-null    object             \n",
      " 48  logicrf                        9292 non-null   object             \n",
      " 49  t_cross                        9292 non-null   object             \n",
      " 50  update_tim                     9292 non-null   datetime64[ns, UTC]\n",
      " 51  ewns                           9292 non-null   object             \n",
      " 52  objectid                       9292 non-null   object             \n",
      " 53  l_fips                         9292 non-null   object             \n",
      " 54  pre_dir                        9285 non-null   object             \n",
      " 55  logicrt                        9292 non-null   object             \n",
      " 56  status_dat                     9292 non-null   datetime64[ns, UTC]\n",
      " 57  f_zlev                         9292 non-null   object             \n",
      " 58  l_f_add                        9292 non-null   object             \n",
      " 59  r_f_add                        9292 non-null   object             \n",
      " 60  streetname                     9292 non-null   object             \n",
      " 61  flag_strin                     37 non-null     object             \n",
      " 62  dir_travel                     9292 non-null   object             \n",
      " 63  ewns_coord                     9292 non-null   object             \n",
      " 64  status                         9291 non-null   object             \n",
      " 65  l_zip                          9276 non-null   object             \n",
      " 66  t_cross_st                     9292 non-null   object             \n",
      " 67  f_cross                        9292 non-null   object             \n",
      " 68  l_t_add                        9292 non-null   object             \n",
      " 69  t_zlev                         9292 non-null   object             \n",
      " 70  class                          9292 non-null   object             \n",
      " 71  length                         9292 non-null   object             \n",
      " 72  f_cross_st                     9292 non-null   object             \n",
      " 73  fnode_id                       9292 non-null   object             \n",
      " 74  create_use                     9292 non-null   object             \n",
      " 75  logiclt                        9292 non-null   object             \n",
      " 76  r_fips                         9292 non-null   object             \n",
      " 77  r_censusbl                     9292 non-null   object             \n",
      " 78  update_use                     9292 non-null   object             \n",
      " 79  shape_len                      9292 non-null   object             \n",
      " 80  trans_id                       9292 non-null   object             \n",
      " 81  distance                       9292 non-null   float64            \n",
      "dtypes: datetime64[ns, UTC](3), datetime64[ns](1), float64(10), geometry(1), int64(1), object(66)\n",
      "memory usage: 5.9+ MB\n"
     ]
    }
   ],
   "source": [
    "crashes_cyclist_aug_df.info()"
   ]
  },
  {
   "cell_type": "code",
   "execution_count": 60,
   "id": "51f20293",
   "metadata": {},
   "outputs": [
    {
     "data": {
      "text/plain": [
       "4      4110\n",
       "3      2869\n",
       "2      2083\n",
       "1        64\n",
       "E        54\n",
       "9        48\n",
       "7        33\n",
       "5        21\n",
       "RIV      10\n",
       "Name: class, dtype: int64"
      ]
     },
     "execution_count": 60,
     "metadata": {},
     "output_type": "execute_result"
    }
   ],
   "source": [
    "crashes_cyclist_aug_df['class'].value_counts()"
   ]
  },
  {
   "cell_type": "markdown",
   "id": "7de552ca",
   "metadata": {},
   "source": [
    "### stuff from Josh trying to help me "
   ]
  },
  {
   "cell_type": "markdown",
   "id": "773e466f",
   "metadata": {},
   "source": [
    "from shapely import wkt\n",
    "street_center_lines['the_geom'] = street_center_lines['the_geom'].apply(wkt.loads)\n",
    "#gpd.GeoSeries.from_wkt(street_center_lines['the_geom'])\n"
   ]
  },
  {
   "cell_type": "markdown",
   "id": "e50437a1",
   "metadata": {},
   "source": [
    "street_center_lines.explode('the_geom')['the_geom'].apply"
   ]
  },
  {
   "cell_type": "markdown",
   "id": "84080fa0",
   "metadata": {
    "collapsed": true
   },
   "source": [
    "gpd.GeoDataFrame(data=street_center_lines, geometry='the_geom', crs='EPSG:4326')"
   ]
  },
  {
   "cell_type": "markdown",
   "id": "f9a8cedc",
   "metadata": {},
   "source": [
    "import shapely\n",
    "shapely.__version__"
   ]
  },
  {
   "cell_type": "markdown",
   "id": "0a0173e4",
   "metadata": {},
   "source": [
    "street_center_lines = street_center_lines[['the_geom','CLASS']]\n",
    "street_center_lines.loc[1,'the_geom']"
   ]
  },
  {
   "cell_type": "markdown",
   "id": "5668578a",
   "metadata": {},
   "source": [
    "## load street center lines from CSV, trying to join on address, not using"
   ]
  },
  {
   "cell_type": "code",
   "execution_count": null,
   "id": "76674fe0",
   "metadata": {},
   "outputs": [],
   "source": [
    "street_center_lines = pd.read_csv('data/street_center_lines.csv')"
   ]
  },
  {
   "cell_type": "code",
   "execution_count": null,
   "id": "9efb2765",
   "metadata": {},
   "outputs": [],
   "source": [
    "street_center_lines.info()"
   ]
  },
  {
   "cell_type": "code",
   "execution_count": null,
   "id": "331703ee",
   "metadata": {},
   "outputs": [],
   "source": [
    "street_center_lines.head()"
   ]
  },
  {
   "cell_type": "code",
   "execution_count": null,
   "id": "b17650e3",
   "metadata": {},
   "outputs": [],
   "source": [
    "street_center_lines['the_geom'].str.extract('(\\d{})\\s')"
   ]
  },
  {
   "cell_type": "code",
   "execution_count": null,
   "id": "86616e5d",
   "metadata": {},
   "outputs": [],
   "source": [
    "classes = ['1','2','3','4']\n",
    "street_center_lines = street_center_lines.loc[street_center_lines['CLASS'].isin(classes)].reset_index()"
   ]
  },
  {
   "cell_type": "code",
   "execution_count": null,
   "id": "3b8a7bf7",
   "metadata": {},
   "outputs": [],
   "source": [
    "#clean up\n",
    "street_center_lines['CLASS'].value_counts()"
   ]
  },
  {
   "cell_type": "code",
   "execution_count": null,
   "id": "1e96ada9",
   "metadata": {},
   "outputs": [],
   "source": [
    "#L_F_ADD, L_T_ADD etc etc are the RANGE OF ADDRESSES FOR THAT STREET. When I clicked on Carmen between Broadway\n",
    "#and Glenwood, LFADD and RFADD were 1301 and 1300. LTADD and RTADD were 1359 and 1358.\n",
    "city_addresses = street_center_lines[['L_F_ADD','L_T_ADD','R_F_ADD','R_T_ADD','PRE_DIR','STREET_NAM','STREET_TYP','CLASS']]"
   ]
  },
  {
   "cell_type": "code",
   "execution_count": null,
   "id": "aad3ffb2",
   "metadata": {},
   "outputs": [],
   "source": [
    "city_addresses['searchable_address'] = city_addresses['PRE_DIR'] + ' ' + city_addresses['STREET_NAM'] + ' ' + city_addresses['STREET_TYP']"
   ]
  },
  {
   "cell_type": "code",
   "execution_count": null,
   "id": "84c8c6bd",
   "metadata": {},
   "outputs": [],
   "source": [
    "city_addresses = city_addresses[['L_F_ADD','L_T_ADD','R_F_ADD','R_T_ADD','searchable_address','CLASS']]"
   ]
  },
  {
   "cell_type": "code",
   "execution_count": null,
   "id": "9bd2f916",
   "metadata": {},
   "outputs": [],
   "source": []
  },
  {
   "cell_type": "code",
   "execution_count": null,
   "id": "1cd7ed0b",
   "metadata": {},
   "outputs": [],
   "source": [
    "city_addresses['min'] = city_addresses.min(axis=1)\n",
    "city_addresses['max'] = city_addresses.max(axis=1)"
   ]
  },
  {
   "cell_type": "code",
   "execution_count": null,
   "id": "23430b84",
   "metadata": {},
   "outputs": [],
   "source": [
    "city_addresses.head()"
   ]
  },
  {
   "cell_type": "code",
   "execution_count": null,
   "id": "769ce4cc",
   "metadata": {},
   "outputs": [],
   "source": [
    "crashes_df['searchable_address'] = crashes_df['street_direction'] + ' ' + crashes_df['street_name']"
   ]
  },
  {
   "cell_type": "code",
   "execution_count": null,
   "id": "81094423",
   "metadata": {},
   "outputs": [],
   "source": [
    "crashes_df['street_no'] = pd.to_numeric(crashes_df['street_no'])"
   ]
  },
  {
   "cell_type": "code",
   "execution_count": null,
   "id": "976aa896",
   "metadata": {},
   "outputs": [],
   "source": [
    "null_lanes = crashes_df[crashes_df['lane_cnt'].isna()]"
   ]
  },
  {
   "cell_type": "code",
   "execution_count": null,
   "id": "bd86f0f6",
   "metadata": {},
   "outputs": [],
   "source": [
    "null_lanes.info()"
   ]
  },
  {
   "cell_type": "code",
   "execution_count": null,
   "id": "2c8f3fc7",
   "metadata": {},
   "outputs": [],
   "source": [
    "null_lanes[['street_no','searchable_address','lane_cnt']]"
   ]
  },
  {
   "cell_type": "code",
   "execution_count": null,
   "id": "d13ef07e",
   "metadata": {},
   "outputs": [],
   "source": [
    "from tqdm.notebook import tqdm\n",
    "#wrap null_lanes.iterrows in tqdm\n",
    "#creates progress bar"
   ]
  },
  {
   "cell_type": "code",
   "execution_count": null,
   "id": "9180c8b3",
   "metadata": {},
   "outputs": [],
   "source": [
    "for null_index, null_row in null_lanes.iterrows():\n",
    "    for index, row in city_addresses.iterrows():\n",
    "        if row['min'] <= null_row.street_no <= row['max'] and null_row.searchable_address == row.searchable_address:\n",
    "            null_lanes.at[null_index, 'lane_cnt'] = row.CLASS\n",
    "            break"
   ]
  },
  {
   "cell_type": "code",
   "execution_count": null,
   "id": "aaaec0f1",
   "metadata": {},
   "outputs": [],
   "source": [
    "null_lanes[['street_no','searchable_address','lane_cnt']]"
   ]
  },
  {
   "cell_type": "code",
   "execution_count": null,
   "id": "b0e6d258",
   "metadata": {},
   "outputs": [],
   "source": [
    " if row.street_no between \n",
    "        for row min and row.max and searchable_address = searchable_address :\n",
    "        return class at \n",
    "                crashes_df.at[index, 'geometry'] = Point((location.longitude, location.latitude))"
   ]
  }
 ],
 "metadata": {
  "kernelspec": {
   "display_name": "Python 3 (ipykernel)",
   "language": "python",
   "name": "python3"
  },
  "language_info": {
   "codemirror_mode": {
    "name": "ipython",
    "version": 3
   },
   "file_extension": ".py",
   "mimetype": "text/x-python",
   "name": "python",
   "nbconvert_exporter": "python",
   "pygments_lexer": "ipython3",
   "version": "3.10.5"
  }
 },
 "nbformat": 4,
 "nbformat_minor": 5
}
