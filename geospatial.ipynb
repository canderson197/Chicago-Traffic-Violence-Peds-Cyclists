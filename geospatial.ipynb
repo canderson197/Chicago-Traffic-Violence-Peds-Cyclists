{
 "cells": [
  {
   "cell_type": "code",
   "execution_count": null,
   "id": "509b231d",
   "metadata": {},
   "outputs": [],
   "source": [
    "import geopandas as gpd\n",
    "import pandas as pd\n",
    "import matplotlib.pyplot as plt\n",
    "import requests\n",
    "import folium\n",
    "from folium.plugins import MarkerCluster\n",
    "from folium.plugins import FastMarkerCluster"
   ]
  },
  {
   "cell_type": "markdown",
   "id": "a071e5df",
   "metadata": {},
   "source": [
    "## gpd.read_file on GEOjson\n",
    "crashes = gpd.read_file('Traffic Crashes - Crashes.geojson')"
   ]
  },
  {
   "cell_type": "code",
   "execution_count": null,
   "id": "4cd62059",
   "metadata": {
    "scrolled": true
   },
   "outputs": [],
   "source": [
    "endpoint_crashes = 'https://data.cityofchicago.org/resource/85ca-t3if.geojson?$select=crash_record_id,crash_date,location&$limit=650000'\n",
    "res = requests.get(endpoint_crashes)\n",
    "res = res.json()\n",
    "res"
   ]
  },
  {
   "cell_type": "code",
   "execution_count": null,
   "id": "f0174bed",
   "metadata": {
    "scrolled": true
   },
   "outputs": [],
   "source": [
    "# this is the line that works when you don't do any select= in the endpoint\n",
    "crashes_df = gpd.GeoDataFrame.from_features(res['features'])\n",
    "#crashes_df = pd.DataFrame(res)\n",
    "#gpd.GeoDataFrame(res)\n",
    "#crashes_df.columns"
   ]
  },
  {
   "cell_type": "code",
   "execution_count": null,
   "id": "20cd07a0",
   "metadata": {},
   "outputs": [],
   "source": [
    "crashes_df.head()"
   ]
  },
  {
   "cell_type": "code",
   "execution_count": null,
   "id": "b9bac536",
   "metadata": {},
   "outputs": [],
   "source": [
    "crashes_df.info()"
   ]
  },
  {
   "cell_type": "code",
   "execution_count": null,
   "id": "a02575fd",
   "metadata": {},
   "outputs": [],
   "source": [
    "type(crashes_df)"
   ]
  },
  {
   "cell_type": "code",
   "execution_count": null,
   "id": "f6ee8046",
   "metadata": {},
   "outputs": [],
   "source": [
    "#filter out crashes where there was debris on roadway\n",
    "crashes_df = crashes_df.loc[crashes_df['road_defect'] != 'DEBRIS ON ROADWAY'] "
   ]
  },
  {
   "cell_type": "code",
   "execution_count": null,
   "id": "201f2ba8",
   "metadata": {},
   "outputs": [],
   "source": [
    "crashes_df.shape"
   ]
  },
  {
   "cell_type": "code",
   "execution_count": null,
   "id": "ce87c829",
   "metadata": {},
   "outputs": [],
   "source": [
    "#filter out crashes where the traffic control device was functioning improperly or not functioning\n",
    "device_not_working = ['FUNCTIONING IMPROPERLY','NOT FUNCTIONING']\n",
    "crashes_df = crashes_df.loc[~crashes_df['device_condition'].isin(device_not_working)]\n",
    "#crashes.loc[crashes['crash_record_id'].isin(crash_id_peds)]"
   ]
  },
  {
   "cell_type": "code",
   "execution_count": null,
   "id": "48d1a69e",
   "metadata": {},
   "outputs": [],
   "source": [
    "## read_csv on people.csv\n",
    "people_df = pd.read_csv('Traffic_Crashes_-_People.csv', usecols = ['PERSON_ID', 'PERSON_TYPE', 'CRASH_RECORD_ID', 'INJURY_CLASSIFICATION','DRIVER_ACTION', 'CRASH_DATE'])"
   ]
  },
  {
   "cell_type": "code",
   "execution_count": null,
   "id": "a92c2ae1",
   "metadata": {},
   "outputs": [],
   "source": [
    "peds_df = people_df.loc[people_df['PERSON_TYPE'] == 'PEDESTRIAN']\n",
    "crash_id_peds = peds_df['CRASH_RECORD_ID'].tolist()\n",
    "crash_id_peds"
   ]
  },
  {
   "cell_type": "code",
   "execution_count": null,
   "id": "c75f2d9f",
   "metadata": {},
   "outputs": [],
   "source": [
    "ped_crashes_df = crashes_df.loc[crashes_df['crash_record_id'].isin(crash_id_peds)].reset_index(drop=True)"
   ]
  },
  {
   "cell_type": "code",
   "execution_count": null,
   "id": "4c617025",
   "metadata": {
    "scrolled": true
   },
   "outputs": [],
   "source": [
    "ped_crashes_df"
   ]
  },
  {
   "cell_type": "code",
   "execution_count": null,
   "id": "ea24017d",
   "metadata": {},
   "outputs": [],
   "source": [
    "ped_crashes_df.loc[0, 'geometry'].x"
   ]
  },
  {
   "cell_type": "code",
   "execution_count": null,
   "id": "f48503da",
   "metadata": {},
   "outputs": [],
   "source": [
    "print(ped_crashes_df.crs)"
   ]
  },
  {
   "cell_type": "code",
   "execution_count": null,
   "id": "59328abe",
   "metadata": {},
   "outputs": [],
   "source": [
    "ped_crashes_df.loc[0, 'geometry']\n",
    "print(ped_crashes_df.loc[0, 'geometry'])"
   ]
  },
  {
   "cell_type": "code",
   "execution_count": null,
   "id": "49dab7a6",
   "metadata": {},
   "outputs": [],
   "source": [
    "#there is one row in there with POINT of (0,0) and it throws off plotting the map, so get rid of it\n",
    "ped_crashes_df = ped_crashes_df[ped_crashes_df['geometry'].x != 0]"
   ]
  },
  {
   "cell_type": "code",
   "execution_count": null,
   "id": "b9d7d6a2",
   "metadata": {},
   "outputs": [],
   "source": [
    "#filter out null geometries\n",
    "ped_crashes_df = ped_crashes_df[ped_crashes_df['geometry'].notna()]"
   ]
  },
  {
   "cell_type": "code",
   "execution_count": null,
   "id": "b32c6b60",
   "metadata": {},
   "outputs": [],
   "source": [
    "ped_crashes_df.plot();"
   ]
  },
  {
   "cell_type": "code",
   "execution_count": null,
   "id": "53990664",
   "metadata": {},
   "outputs": [],
   "source": []
  },
  {
   "cell_type": "code",
   "execution_count": null,
   "id": "2ccefa64",
   "metadata": {},
   "outputs": [],
   "source": [
    "area_center = [41.881288,-87.686729]\n",
    "peds_cluster_map = folium.Map(location =  area_center, zoom_start = 11)\n",
    "marker_cluster = MarkerCluster().add_to(peds_cluster_map)\n",
    "folium.GeoJson(ped_crashes_df).add_to(peds_cluster_map)\n",
    "\n",
    "for row_index, row_values in ped_crashes_df.iterrows():\n",
    "    loc = (row_values['geometry'].y, row_values['geometry'].x)\n",
    "    \n",
    "    marker = folium.Marker(location = loc)\n",
    "    \n",
    "    marker.add_to(marker_cluster)\n",
    "\n",
    "\n",
    "peds_cluster_map"
   ]
  },
  {
   "cell_type": "code",
   "execution_count": null,
   "id": "19796bdd",
   "metadata": {},
   "outputs": [],
   "source": [
    "#split POINT geometries into separate lat and long columns\n",
    "ped_crashes_df['lon'] = ped_crashes_df.geometry.apply(lambda p: p.x)\n",
    "ped_crashes_df['lat'] = ped_crashes_df.geometry.apply(lambda p: p.y)"
   ]
  },
  {
   "cell_type": "code",
   "execution_count": null,
   "id": "9b151a71",
   "metadata": {},
   "outputs": [],
   "source": [
    "ped_crashes_df"
   ]
  },
  {
   "cell_type": "code",
   "execution_count": null,
   "id": "5dfc8f9d",
   "metadata": {},
   "outputs": [],
   "source": [
    "area_center = [41.881288,-87.686729]\n",
    "cluster_only_map = folium.Map(location =  area_center, zoom_start = 11)\n",
    "folium.GeoJson(ped_crashes_df).add_to(cluster_only_map)\n",
    "\n",
    "locations = ped_crashes_df[['lat', 'lon']].values.tolist()\n",
    "cluster_only_map.add_child(\n",
    "    FastMarkerCluster(locations)\n",
    ")\n",
    "\n",
    "cluster_only_map"
   ]
  },
  {
   "cell_type": "markdown",
   "id": "188b8cb4",
   "metadata": {},
   "source": [
    "map_37207 = folium.Map(location =  area_center, zoom_start = 12)\n",
    "\n",
    "folium.GeoJson(polygon37207).add_to(map_37207)\n",
    "\n",
    "#create a list of locations and pass them to FastMarkerCluster()\n",
    "#FastMarkerCluster gives us locations only, no detail when you hover over\n",
    "locations = stops_in_37207[['lat', 'lng']].values.tolist()\n",
    "map_37207.add_child(\n",
    "    FastMarkerCluster(locations)\n",
    ")\n",
    "\n",
    "\n",
    "\n",
    "#display our map\n",
    "map_37207"
   ]
  },
  {
   "cell_type": "code",
   "execution_count": null,
   "id": "09b1b43d",
   "metadata": {},
   "outputs": [],
   "source": [
    "peds_map"
   ]
  },
  {
   "cell_type": "code",
   "execution_count": null,
   "id": "aa6cc052",
   "metadata": {},
   "outputs": [],
   "source": []
  }
 ],
 "metadata": {
  "kernelspec": {
   "display_name": "Python 3 (ipykernel)",
   "language": "python",
   "name": "python3"
  },
  "language_info": {
   "codemirror_mode": {
    "name": "ipython",
    "version": 3
   },
   "file_extension": ".py",
   "mimetype": "text/x-python",
   "name": "python",
   "nbconvert_exporter": "python",
   "pygments_lexer": "ipython3",
   "version": "3.8.5"
  }
 },
 "nbformat": 4,
 "nbformat_minor": 5
}
